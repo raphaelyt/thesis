{
 "cells": [
  {
   "cell_type": "markdown",
   "id": "8ddcfd2a",
   "metadata": {},
   "source": [
    "# Importing Packages"
   ]
  },
  {
   "cell_type": "code",
   "execution_count": 60,
   "id": "a06b5d63",
   "metadata": {},
   "outputs": [],
   "source": [
    "import pandas as pd\n",
    "import matplotlib.pyplot as plt\n",
    "from arch import arch_model #GARCH Models\n",
    "from statsmodels.graphics.tsaplots import plot_acf, plot_pacf\n",
    "import numpy as np\n",
    "import math\n",
    "import scipy.stats\n",
    "from statistics import NormalDist\n",
    "from scipy.stats import t\n",
    "from scipy.stats import f\n",
    "from datetime import datetime\n",
    "from scipy.stats import shapiro #Shapiro Test\n",
    "from scipy import stats #t-test\n",
    "import statsmodels.api as sm #Ljung-Box Test\n",
    "from scipy.stats import chi2"
   ]
  },
  {
   "cell_type": "markdown",
   "id": "c4fad351",
   "metadata": {},
   "source": [
    "# Price and Returns"
   ]
  },
  {
   "cell_type": "code",
   "execution_count": 61,
   "id": "808e9a06",
   "metadata": {},
   "outputs": [],
   "source": [
    "start_date = '2006-01-01' #yyyy-mm-dd\n",
    "end_date = '2021-01-01'\n",
    "\n",
    "\n",
    "# Thailand\n",
    "MY = pd.read_csv('https://raw.githubusercontent.com/raphaelyt/thesis199.11/main/data/2006-2021/%5EKLSE.csv')\n",
    "MY['Date'] = pd.to_datetime(MY['Date'])\n",
    "MY = MY.rename(columns={'Price': 'Close'})\n",
    "MY = MY.replace(',','', regex=True)\n",
    "MY['Close'] = MY['Close'].astype(float, errors = 'raise')\n",
    "mask = (MY['Date'] >= start_date) & (MY['Date'] <= end_date)\n",
    "MY = MY.loc[mask]\n",
    "MY = MY.set_index('Date')\n",
    "MY = MY.sort_index(axis=0, ascending = False)"
   ]
  },
  {
   "cell_type": "code",
   "execution_count": 62,
   "id": "44c64afc",
   "metadata": {
    "scrolled": true
   },
   "outputs": [
    {
     "data": {
      "text/html": [
       "<div>\n",
       "<style scoped>\n",
       "    .dataframe tbody tr th:only-of-type {\n",
       "        vertical-align: middle;\n",
       "    }\n",
       "\n",
       "    .dataframe tbody tr th {\n",
       "        vertical-align: top;\n",
       "    }\n",
       "\n",
       "    .dataframe thead th {\n",
       "        text-align: right;\n",
       "    }\n",
       "</style>\n",
       "<table border=\"1\" class=\"dataframe\">\n",
       "  <thead>\n",
       "    <tr style=\"text-align: right;\">\n",
       "      <th></th>\n",
       "      <th>Open</th>\n",
       "      <th>High</th>\n",
       "      <th>Low</th>\n",
       "      <th>Close</th>\n",
       "      <th>Previous</th>\n",
       "      <th>Returns</th>\n",
       "    </tr>\n",
       "    <tr>\n",
       "      <th>Date</th>\n",
       "      <th></th>\n",
       "      <th></th>\n",
       "      <th></th>\n",
       "      <th></th>\n",
       "      <th></th>\n",
       "      <th></th>\n",
       "    </tr>\n",
       "  </thead>\n",
       "  <tbody>\n",
       "    <tr>\n",
       "      <th>2020-12-31</th>\n",
       "      <td>1627.21</td>\n",
       "      <td>1627.21</td>\n",
       "      <td>1627.21</td>\n",
       "      <td>1627.21</td>\n",
       "      <td>1644.41</td>\n",
       "      <td>-1.051477</td>\n",
       "    </tr>\n",
       "    <tr>\n",
       "      <th>2020-12-30</th>\n",
       "      <td>1644.41</td>\n",
       "      <td>1644.41</td>\n",
       "      <td>1644.41</td>\n",
       "      <td>1644.41</td>\n",
       "      <td>1634.99</td>\n",
       "      <td>0.574497</td>\n",
       "    </tr>\n",
       "    <tr>\n",
       "      <th>2020-12-29</th>\n",
       "      <td>1634.99</td>\n",
       "      <td>1634.99</td>\n",
       "      <td>1634.99</td>\n",
       "      <td>1634.99</td>\n",
       "      <td>1643.90</td>\n",
       "      <td>-0.543478</td>\n",
       "    </tr>\n",
       "    <tr>\n",
       "      <th>2020-12-28</th>\n",
       "      <td>1643.90</td>\n",
       "      <td>1643.90</td>\n",
       "      <td>1643.90</td>\n",
       "      <td>1643.90</td>\n",
       "      <td>1641.17</td>\n",
       "      <td>0.166207</td>\n",
       "    </tr>\n",
       "    <tr>\n",
       "      <th>2020-12-24</th>\n",
       "      <td>1641.17</td>\n",
       "      <td>1641.17</td>\n",
       "      <td>1641.17</td>\n",
       "      <td>1641.17</td>\n",
       "      <td>1647.50</td>\n",
       "      <td>-0.384959</td>\n",
       "    </tr>\n",
       "    <tr>\n",
       "      <th>...</th>\n",
       "      <td>...</td>\n",
       "      <td>...</td>\n",
       "      <td>...</td>\n",
       "      <td>...</td>\n",
       "      <td>...</td>\n",
       "      <td>...</td>\n",
       "    </tr>\n",
       "    <tr>\n",
       "      <th>2006-01-09</th>\n",
       "      <td>913.65</td>\n",
       "      <td>916</td>\n",
       "      <td>912.4</td>\n",
       "      <td>913.80</td>\n",
       "      <td>911.67</td>\n",
       "      <td>0.233365</td>\n",
       "    </tr>\n",
       "    <tr>\n",
       "      <th>2006-01-06</th>\n",
       "      <td>906.6</td>\n",
       "      <td>912.07</td>\n",
       "      <td>906.6</td>\n",
       "      <td>911.67</td>\n",
       "      <td>906.66</td>\n",
       "      <td>0.551056</td>\n",
       "    </tr>\n",
       "    <tr>\n",
       "      <th>2006-01-05</th>\n",
       "      <td>897.34</td>\n",
       "      <td>908.71</td>\n",
       "      <td>897.34</td>\n",
       "      <td>906.66</td>\n",
       "      <td>897.13</td>\n",
       "      <td>1.056674</td>\n",
       "    </tr>\n",
       "    <tr>\n",
       "      <th>2006-01-04</th>\n",
       "      <td>893.09</td>\n",
       "      <td>897.88</td>\n",
       "      <td>892.63</td>\n",
       "      <td>897.13</td>\n",
       "      <td>892.85</td>\n",
       "      <td>0.478219</td>\n",
       "    </tr>\n",
       "    <tr>\n",
       "      <th>2006-01-03</th>\n",
       "      <td>899.18</td>\n",
       "      <td>899.85</td>\n",
       "      <td>891.04</td>\n",
       "      <td>892.85</td>\n",
       "      <td>NaN</td>\n",
       "      <td>NaN</td>\n",
       "    </tr>\n",
       "  </tbody>\n",
       "</table>\n",
       "<p>3809 rows × 6 columns</p>\n",
       "</div>"
      ],
      "text/plain": [
       "               Open     High      Low    Close  Previous   Returns\n",
       "Date                                                              \n",
       "2020-12-31  1627.21  1627.21  1627.21  1627.21   1644.41 -1.051477\n",
       "2020-12-30  1644.41  1644.41  1644.41  1644.41   1634.99  0.574497\n",
       "2020-12-29  1634.99  1634.99  1634.99  1634.99   1643.90 -0.543478\n",
       "2020-12-28  1643.90  1643.90  1643.90  1643.90   1641.17  0.166207\n",
       "2020-12-24  1641.17  1641.17  1641.17  1641.17   1647.50 -0.384959\n",
       "...             ...      ...      ...      ...       ...       ...\n",
       "2006-01-09   913.65      916    912.4   913.80    911.67  0.233365\n",
       "2006-01-06    906.6   912.07    906.6   911.67    906.66  0.551056\n",
       "2006-01-05   897.34   908.71   897.34   906.66    897.13  1.056674\n",
       "2006-01-04   893.09   897.88   892.63   897.13    892.85  0.478219\n",
       "2006-01-03   899.18   899.85   891.04   892.85       NaN       NaN\n",
       "\n",
       "[3809 rows x 6 columns]"
      ]
     },
     "metadata": {},
     "output_type": "display_data"
    }
   ],
   "source": [
    "def get_returns(df,d):\n",
    "    '''\n",
    "    The function obtains the log returns of the asset shifted d days\n",
    "    \n",
    "    PARAMETERS\n",
    "    ----------\n",
    "    df : pandas.DataFrame\n",
    "        The data frame contains data of a chosen stock index \n",
    "        (Stock index must be arrange in DESCENDING ORDER by DATE)\n",
    "    d : int\n",
    "        The dth day being forecast\n",
    "        (Assumed to be 1 for most cases)\n",
    "        \n",
    "    RETURNS\n",
    "    -------\n",
    "    df : pandas.DataFrame\n",
    "        The data frame returns an updated data frame containing the\n",
    "        'Returns' column\n",
    "    '''\n",
    "    df['Previous'] = df['Close'].shift(-d)\n",
    "    df['Returns'] = np.log(df['Close']/df['Previous'])*100\n",
    "    display(df)\n",
    "    return df\n",
    "\n",
    "MY = get_returns(MY, 1)"
   ]
  },
  {
   "cell_type": "markdown",
   "id": "358fd17c",
   "metadata": {},
   "source": [
    "# Diebold-Mariano Test"
   ]
  },
  {
   "cell_type": "code",
   "execution_count": 63,
   "id": "e8db683a",
   "metadata": {},
   "outputs": [],
   "source": [
    "# Author   : John Tsang\n",
    "# Date     : December 7th, 2017\n",
    "# Purpose  : Implement the Diebold-Mariano Test (DM test) to compare \n",
    "#            forecast accuracy\n",
    "# Input    : 1) actual_lst: the list of actual values\n",
    "#            2) pred1_lst : the first list of predicted values\n",
    "#            3) pred2_lst : the second list of predicted values\n",
    "#            4) h         : the number of stpes ahead\n",
    "#            5) crit      : a string specifying the criterion \n",
    "#                             i)  MSE : the mean squared error\n",
    "#                            ii)  MAD : the mean absolute deviation\n",
    "#                           iii) MAPE : the mean absolute percentage error\n",
    "#                            iv) poly : use power function to weigh the errors\n",
    "#            6) poly      : the power for crit power \n",
    "#                           (it is only meaningful when crit is \"poly\")\n",
    "# Condition: 1) length of actual_lst, pred1_lst and pred2_lst is equal\n",
    "#            2) h must be an integer and it must be greater than 0 and less than \n",
    "#               the length of actual_lst.\n",
    "#            3) crit must take the 4 values specified in Input\n",
    "#            4) Each value of actual_lst, pred1_lst and pred2_lst must\n",
    "#               be numerical values. Missing values will not be accepted.\n",
    "#            5) power must be a numerical value.\n",
    "# Return   : a named-tuple of 2 elements\n",
    "#            1) p_value : the p-value of the DM test\n",
    "#            2) DM      : the test statistics of the DM test\n",
    "##########################################################\n",
    "# References:\n",
    "#\n",
    "# Harvey, D., Leybourne, S., & Newbold, P. (1997). Testing the equality of \n",
    "#   prediction mean squared errors. International Journal of forecasting, \n",
    "#   13(2), 281-291.\n",
    "#\n",
    "# Diebold, F. X. and Mariano, R. S. (1995), Comparing predictive accuracy, \n",
    "#   Journal of business & economic statistics 13(3), 253-264.\n",
    "#\n",
    "##########################################################\n",
    "def dm_test(actual_lst, pred1_lst, pred2_lst, h = 1, crit=\"MSE\", power = 2):\n",
    "    # Routine for checking errors\n",
    "    def error_check():\n",
    "        rt = 0\n",
    "        msg = \"\"\n",
    "        # Check if h is an integer\n",
    "        if (not isinstance(h, int)):\n",
    "            rt = -1\n",
    "            msg = \"The type of the number of steps ahead (h) is not an integer.\"\n",
    "            return (rt,msg)\n",
    "        # Check the range of h\n",
    "        if (h < 1):\n",
    "            rt = -1\n",
    "            msg = \"The number of steps ahead (h) is not large enough.\"\n",
    "            return (rt,msg)\n",
    "        len_act = len(actual_lst)\n",
    "        len_p1  = len(pred1_lst)\n",
    "        len_p2  = len(pred2_lst)\n",
    "        # Check if lengths of actual values and predicted values are equal\n",
    "        if (len_act != len_p1 or len_p1 != len_p2 or len_act != len_p2):\n",
    "            rt = -1\n",
    "            msg = \"Lengths of actual_lst, pred1_lst and pred2_lst do not match.\"\n",
    "            return (rt,msg)\n",
    "        # Check range of h\n",
    "        if (h >= len_act):\n",
    "            rt = -1\n",
    "            msg = \"The number of steps ahead is too large.\"\n",
    "            return (rt,msg)\n",
    "        # Check if criterion supported\n",
    "        if (crit != \"MSE\" and crit != \"MAPE\" and crit != \"MAD\" and crit != \"poly\"):\n",
    "            rt = -1\n",
    "            msg = \"The criterion is not supported.\"\n",
    "            return (rt,msg)  \n",
    "        # Check if every value of the input lists are numerical values\n",
    "        from re import compile as re_compile\n",
    "        comp = re_compile(\"^\\d+?\\.\\d+?$\")  \n",
    "        def compiled_regex(s):\n",
    "            \"\"\" Returns True is string is a number. \"\"\"\n",
    "            if comp.match(s) is None:\n",
    "                return s.isdigit()\n",
    "            return True\n",
    "        for actual, pred1, pred2 in zip(actual_lst, pred1_lst, pred2_lst):\n",
    "            is_actual_ok = compiled_regex(str(abs(actual)))\n",
    "            is_pred1_ok = compiled_regex(str(abs(pred1)))\n",
    "            is_pred2_ok = compiled_regex(str(abs(pred2)))\n",
    "            if (not (is_actual_ok and is_pred1_ok and is_pred2_ok)):  \n",
    "                msg = \"An element in the actual_lst, pred1_lst or pred2_lst is not numeric.\"\n",
    "                rt = -1\n",
    "                return (rt,msg)\n",
    "        return (rt,msg)\n",
    "    \n",
    "    # Error check\n",
    "    error_code = error_check()\n",
    "    # Raise error if cannot pass error check\n",
    "    if (error_code[0] == -1):\n",
    "        raise SyntaxError(error_code[1])\n",
    "        return\n",
    "    # Import libraries\n",
    "    from scipy.stats import t\n",
    "    import collections\n",
    "    import pandas as pd\n",
    "    import numpy as np\n",
    "    \n",
    "    # Initialise lists\n",
    "    e1_lst = []\n",
    "    e2_lst = []\n",
    "    d_lst  = []\n",
    "    \n",
    "    # convert every value of the lists into real values\n",
    "    actual_lst = pd.Series(actual_lst).apply(lambda x: float(x)).tolist()\n",
    "    pred1_lst = pd.Series(pred1_lst).apply(lambda x: float(x)).tolist()\n",
    "    pred2_lst = pd.Series(pred2_lst).apply(lambda x: float(x)).tolist()\n",
    "    \n",
    "    # Length of lists (as real numbers)\n",
    "    T = float(len(actual_lst))\n",
    "    \n",
    "    # construct d according to crit\n",
    "    if (crit == \"MSE\"):\n",
    "        for actual,p1,p2 in zip(actual_lst,pred1_lst,pred2_lst):\n",
    "            e1_lst.append((actual - p1)**2)\n",
    "            e2_lst.append((actual - p2)**2)\n",
    "        for e1, e2 in zip(e1_lst, e2_lst):\n",
    "            d_lst.append(e1 - e2)\n",
    "    elif (crit == \"MAD\"):\n",
    "        for actual,p1,p2 in zip(actual_lst,pred1_lst,pred2_lst):\n",
    "            e1_lst.append(abs(actual - p1))\n",
    "            e2_lst.append(abs(actual - p2))\n",
    "        for e1, e2 in zip(e1_lst, e2_lst):\n",
    "            d_lst.append(e1 - e2)\n",
    "    elif (crit == \"MAPE\"):\n",
    "        for actual,p1,p2 in zip(actual_lst,pred1_lst,pred2_lst):\n",
    "            e1_lst.append(abs((actual - p1)/actual))\n",
    "            e2_lst.append(abs((actual - p2)/actual))\n",
    "        for e1, e2 in zip(e1_lst, e2_lst):\n",
    "            d_lst.append(e1 - e2)\n",
    "    elif (crit == \"poly\"):\n",
    "        for actual,p1,p2 in zip(actual_lst,pred1_lst,pred2_lst):\n",
    "            e1_lst.append(((actual - p1))**(power))\n",
    "            e2_lst.append(((actual - p2))**(power))\n",
    "        for e1, e2 in zip(e1_lst, e2_lst):\n",
    "            d_lst.append(e1 - e2)    \n",
    "    \n",
    "    # Mean of d        \n",
    "    mean_d = pd.Series(d_lst).mean()\n",
    "    \n",
    "    # Find autocovariance and construct DM test statistics\n",
    "    def autocovariance(Xi, N, k, Xs):\n",
    "        autoCov = 0\n",
    "        T = float(N)\n",
    "        for i in np.arange(0, N-k):\n",
    "              autoCov += ((Xi[i+k])-Xs)*(Xi[i]-Xs)\n",
    "        return (1/(T))*autoCov\n",
    "    gamma = []\n",
    "    for lag in range(0,h):\n",
    "        gamma.append(autocovariance(d_lst,len(d_lst),lag,mean_d)) # 0, 1, 2\n",
    "    V_d = (gamma[0] + 2*sum(gamma[1:]))/T\n",
    "    DM_stat=V_d**(-0.5)*mean_d\n",
    "    harvey_adj=((T+1-2*h+h*(h-1)/T)/T)**(0.5)\n",
    "    DM_stat = harvey_adj*DM_stat\n",
    "    # Find p-value\n",
    "    p_value = 2*t.cdf(-abs(DM_stat), df = T - 1)\n",
    "    \n",
    "    # Construct named tuple for return\n",
    "    dm_return = collections.namedtuple('dm_return', 'DM p_value')\n",
    "    \n",
    "    rt = dm_return(DM = DM_stat, p_value = p_value)\n",
    "    \n",
    "    return rt"
   ]
  },
  {
   "cell_type": "markdown",
   "id": "ad2561cb",
   "metadata": {},
   "source": [
    "## Custom DM-Test Function"
   ]
  },
  {
   "cell_type": "code",
   "execution_count": 64,
   "id": "97786103",
   "metadata": {},
   "outputs": [],
   "source": [
    "def DM_test(country, model_1, model_2, t):\n",
    "    \n",
    "    arr_model_1_dropped = model_1.drop(['Date'], axis = 1)\n",
    "    arr_model_1_zero = arr_model_1_dropped.iloc[:, 0].to_numpy()\n",
    "\n",
    "    arr_model_2_dropped = model_2.drop(['Date'], axis = 1)\n",
    "    arr_model_2_zero = arr_model_2_dropped.iloc[:,0].to_numpy()\n",
    "\n",
    "    returns = np.array(country['Returns'])[:t]\n",
    "\n",
    "    dm = dm_test(returns, arr_model_1_zero, arr_model_2_zero, h = 1, crit = 'MSE')\n",
    "    \n",
    "    return dm"
   ]
  },
  {
   "cell_type": "markdown",
   "id": "ee3a29a9",
   "metadata": {},
   "source": [
    "# Fixed Window"
   ]
  },
  {
   "cell_type": "markdown",
   "id": "47da5462",
   "metadata": {},
   "source": [
    "## 0.01%"
   ]
  },
  {
   "cell_type": "code",
   "execution_count": 65,
   "id": "6e2ee02e",
   "metadata": {},
   "outputs": [],
   "source": [
    "MY_fw_01_dn = pd.read_csv('https://raw.githubusercontent.com/raphaelyt/thesis199.11/main/data/csv/DN/0.01%25/MY_VaR_FW-DN-0.01%25.csv')\n",
    "MY_fw_01_hs = pd.read_csv('https://raw.githubusercontent.com/raphaelyt/thesis199.11/main/data/csv/HS/0.01%25/MY_VaR_FW-HS-0.01%25.csv')\n",
    "MY_fw_01_brw = pd.read_csv('https://raw.githubusercontent.com/raphaelyt/thesis199.11/main/data/csv/BRW/0.01%25/MY_VaR_FW-BRW-0.01%25.csv')\n",
    "MY_fw_01_garch = pd.read_csv('https://raw.githubusercontent.com/raphaelyt/thesis199.11/main/data/csv/GARCH/0.01%25/MY_VaR_FW-G-0.01%25.csv')\n",
    "MY_fw_01_earch = pd.read_csv('https://raw.githubusercontent.com/raphaelyt/thesis199.11/main/data/csv/EARCH/0.01%25/MY_VaR_FW-EA-0.01%25.csv')\n",
    "MY_fw_01_egarch = pd.read_csv('https://raw.githubusercontent.com/raphaelyt/thesis199.11/main/data/csv/EGARCH/0.01%25/MY_VaR_FW-E-0.01%25.csv')\n",
    "MY_fw_01_igarch = pd.read_csv('https://raw.githubusercontent.com/raphaelyt/thesis199.11/main/data/csv/IGARCH/IGARCH-0.01%25-FW/MY_fw_FW-I-0.01%25.csv')\n",
    "MY_fw_01_figarch = pd.read_csv('https://raw.githubusercontent.com/raphaelyt/thesis199.11/main/data/csv/FIGARCH/FIGARCH-0.01%25-FW/MY_fw_FW-FI-0.01%25.csv')\n",
    "MY_fw_01_figarch0633 = pd.read_csv('https://raw.githubusercontent.com/raphaelyt/thesis199.11/main/data/csv/FIGARCH0.633/FIGARCH0.633-0.01%25-FW/MY_fw_FW-FI0.633-0.01%25.csv')"
   ]
  },
  {
   "cell_type": "code",
   "execution_count": 66,
   "id": "74ac5d3e",
   "metadata": {
    "scrolled": false
   },
   "outputs": [
    {
     "name": "stdout",
     "output_type": "stream",
     "text": [
      "dm_return(DM=-5.525412369680618, p_value=4.4323113118483914e-08)\n",
      "dm_return(DM=-2.0499571178367884, p_value=0.040690081416670326)\n",
      "dm_return(DM=-6.234907403302782, p_value=7.270368144696863e-10)\n",
      "dm_return(DM=-3.749227227198841, p_value=0.00018999415318227895)\n",
      "dm_return(DM=-5.914485454594939, p_value=4.907432223255662e-09)\n",
      "dm_return(DM=-5.2281056616391455, p_value=2.1811868616310432e-07)\n"
     ]
    }
   ],
   "source": [
    "# DN\n",
    "print(DM_test(MY, MY_fw_01_dn, MY_fw_01_garch, len(MY_fw_01_dn)))\n",
    "print(DM_test(MY, MY_fw_01_dn, MY_fw_01_earch, len(MY_fw_01_dn)))\n",
    "print(DM_test(MY, MY_fw_01_dn, MY_fw_01_egarch, len(MY_fw_01_dn)))\n",
    "print(DM_test(MY, MY_fw_01_dn, MY_fw_01_igarch, len(MY_fw_01_dn)))\n",
    "print(DM_test(MY, MY_fw_01_dn, MY_fw_01_figarch, len(MY_fw_01_dn)))\n",
    "print(DM_test(MY, MY_fw_01_dn, MY_fw_01_figarch0633, len(MY_fw_01_dn)))"
   ]
  },
  {
   "cell_type": "code",
   "execution_count": 67,
   "id": "1f7653ad",
   "metadata": {
    "scrolled": false
   },
   "outputs": [
    {
     "name": "stdout",
     "output_type": "stream",
     "text": [
      "dm_return(DM=12.40370902941689, p_value=1.80088318418745e-32)\n",
      "dm_return(DM=47.15149160396306, p_value=1.8952846619270728e-234)\n",
      "dm_return(DM=17.247876507737285, p_value=5.134304106763176e-57)\n",
      "dm_return(DM=6.113222726329844, p_value=1.516866604631002e-09)\n",
      "dm_return(DM=12.99713072491121, p_value=3.231524348673687e-35)\n",
      "dm_return(DM=9.304605060738673, p_value=1.2274627430428731e-19)\n"
     ]
    }
   ],
   "source": [
    "# HS\n",
    "print(DM_test(MY, MY_fw_01_hs, MY_fw_01_garch, len(MY_fw_01_hs)))\n",
    "print(DM_test(MY, MY_fw_01_hs, MY_fw_01_earch, len(MY_fw_01_hs)))\n",
    "print(DM_test(MY, MY_fw_01_hs, MY_fw_01_egarch, len(MY_fw_01_hs)))\n",
    "print(DM_test(MY, MY_fw_01_hs, MY_fw_01_igarch, len(MY_fw_01_hs)))\n",
    "print(DM_test(MY, MY_fw_01_hs, MY_fw_01_figarch, len(MY_fw_01_hs)))\n",
    "print(DM_test(MY, MY_fw_01_hs, MY_fw_01_figarch0633, len(MY_fw_01_hs)))"
   ]
  },
  {
   "cell_type": "code",
   "execution_count": 68,
   "id": "5cf91f05",
   "metadata": {
    "scrolled": false
   },
   "outputs": [
    {
     "name": "stdout",
     "output_type": "stream",
     "text": [
      "dm_return(DM=17.35808824028933, p_value=1.2699636141960352e-57)\n",
      "dm_return(DM=21.897526260917477, p_value=7.5342833915063485e-84)\n",
      "dm_return(DM=19.66908236387749, p_value=1.0439609836989165e-70)\n",
      "dm_return(DM=11.28589073605775, p_value=1.5482962902988635e-27)\n",
      "dm_return(DM=17.90435179469565, p_value=1.1790319904884121e-60)\n",
      "dm_return(DM=14.91421840087893, p_value=1.2623648596708995e-44)\n"
     ]
    }
   ],
   "source": [
    "# BRW\n",
    "print(DM_test(MY, MY_fw_01_brw, MY_fw_01_garch, len(MY_fw_01_brw)))\n",
    "print(DM_test(MY, MY_fw_01_brw, MY_fw_01_earch, len(MY_fw_01_brw)))\n",
    "print(DM_test(MY, MY_fw_01_brw, MY_fw_01_egarch, len(MY_fw_01_brw)))\n",
    "print(DM_test(MY, MY_fw_01_brw, MY_fw_01_igarch, len(MY_fw_01_brw)))\n",
    "print(DM_test(MY, MY_fw_01_brw, MY_fw_01_figarch, len(MY_fw_01_brw)))\n",
    "print(DM_test(MY, MY_fw_01_brw, MY_fw_01_figarch0633, len(MY_fw_01_brw)))"
   ]
  },
  {
   "cell_type": "code",
   "execution_count": 69,
   "id": "98bdb22c",
   "metadata": {
    "scrolled": true
   },
   "outputs": [
    {
     "name": "stdout",
     "output_type": "stream",
     "text": [
      "dm_return(DM=5.365954989769935, p_value=1.0518619208919475e-07)\n",
      "dm_return(DM=2.932133596758134, p_value=0.0034612480971045376)\n",
      "dm_return(DM=-0.9818954376902551, p_value=0.32644454736741946)\n",
      "dm_return(DM=-0.43849436966163285, p_value=0.6611448751145692)\n",
      "dm_return(DM=-1.8176631306107225, p_value=0.06948495464049079)\n"
     ]
    }
   ],
   "source": [
    "# GARCH\n",
    "print(DM_test(MY, MY_fw_01_garch, MY_fw_01_earch, len(MY_fw_01_garch)))\n",
    "print(DM_test(MY, MY_fw_01_garch, MY_fw_01_egarch, len(MY_fw_01_garch)))\n",
    "print(DM_test(MY, MY_fw_01_garch, MY_fw_01_igarch, len(MY_fw_01_garch)))\n",
    "print(DM_test(MY, MY_fw_01_garch, MY_fw_01_figarch, len(MY_fw_01_garch)))\n",
    "print(DM_test(MY, MY_fw_01_garch, MY_fw_01_figarch0633, len(MY_fw_01_garch)))"
   ]
  },
  {
   "cell_type": "code",
   "execution_count": 70,
   "id": "14dfa11d",
   "metadata": {
    "scrolled": false
   },
   "outputs": [
    {
     "name": "stdout",
     "output_type": "stream",
     "text": [
      "dm_return(DM=-5.92089123046178, p_value=4.727663709761761e-09)\n",
      "dm_return(DM=-3.929162565619857, p_value=9.251554037802072e-05)\n",
      "dm_return(DM=-5.993599101374904, p_value=3.0875777522589706e-09)\n",
      "dm_return(DM=-5.501714790043318, p_value=5.046783451369176e-08)\n"
     ]
    }
   ],
   "source": [
    "# EARCH\n",
    "print(DM_test(MY, MY_fw_01_earch, MY_fw_01_egarch, len(MY_fw_01_earch)))\n",
    "print(DM_test(MY, MY_fw_01_earch, MY_fw_01_igarch, len(MY_fw_01_earch)))\n",
    "print(DM_test(MY, MY_fw_01_earch, MY_fw_01_figarch, len(MY_fw_01_earch)))\n",
    "print(DM_test(MY, MY_fw_01_earch, MY_fw_01_figarch0633, len(MY_fw_01_earch)))"
   ]
  },
  {
   "cell_type": "code",
   "execution_count": 71,
   "id": "f84780df",
   "metadata": {
    "scrolled": false
   },
   "outputs": [
    {
     "name": "stdout",
     "output_type": "stream",
     "text": [
      "dm_return(DM=-1.4589761360596414, p_value=0.14495933989763735)\n",
      "dm_return(DM=-3.3019052600671372, p_value=0.0010023715682878384)\n",
      "dm_return(DM=-2.642345469474145, p_value=0.008392317778384015)\n"
     ]
    }
   ],
   "source": [
    "# EGARCH\n",
    "print(DM_test(MY, MY_fw_01_egarch, MY_fw_01_igarch, len(MY_fw_01_egarch)))\n",
    "print(DM_test(MY, MY_fw_01_egarch, MY_fw_01_figarch, len(MY_fw_01_egarch)))\n",
    "print(DM_test(MY, MY_fw_01_egarch, MY_fw_01_figarch0633, len(MY_fw_01_egarch)))"
   ]
  },
  {
   "cell_type": "code",
   "execution_count": 72,
   "id": "295f1085",
   "metadata": {},
   "outputs": [
    {
     "name": "stdout",
     "output_type": "stream",
     "text": [
      "dm_return(DM=1.0027949642008394, p_value=0.31625926947596816)\n",
      "dm_return(DM=0.4350015024370884, p_value=0.6636772097634175)\n"
     ]
    }
   ],
   "source": [
    "# IGARCH\n",
    "print(DM_test(MY, MY_fw_01_igarch, MY_fw_01_figarch, len(MY_fw_01_igarch)))\n",
    "print(DM_test(MY, MY_fw_01_igarch, MY_fw_01_figarch0633, len(MY_fw_01_igarch)))"
   ]
  },
  {
   "cell_type": "code",
   "execution_count": 73,
   "id": "a3d49408",
   "metadata": {
    "scrolled": true
   },
   "outputs": [
    {
     "name": "stdout",
     "output_type": "stream",
     "text": [
      "dm_return(DM=-2.0702901197453363, p_value=0.038741555308213375)\n"
     ]
    }
   ],
   "source": [
    "# FIGARCH\n",
    "print(DM_test(MY, MY_fw_01_figarch, MY_fw_01_figarch0633, len(MY_fw_01_figarch)))"
   ]
  },
  {
   "cell_type": "markdown",
   "id": "366cf0b7",
   "metadata": {},
   "source": [
    "## 1.00 %"
   ]
  },
  {
   "cell_type": "code",
   "execution_count": 74,
   "id": "d18d5109",
   "metadata": {},
   "outputs": [],
   "source": [
    "MY_fw_1_dn = pd.read_csv('https://raw.githubusercontent.com/raphaelyt/thesis199.11/main/data/csv/DN/1%25/MY_VaR_FW-DN-1%25.csv')\n",
    "MY_fw_1_hs = pd.read_csv('https://raw.githubusercontent.com/raphaelyt/thesis199.11/main/data/csv/HS/1%25/MY_VaR_FW-HS-1%25.csv')\n",
    "MY_fw_1_brw = pd.read_csv('https://raw.githubusercontent.com/raphaelyt/thesis199.11/main/data/csv/BRW/1%25/MY_VaR_FW-BRW-1%25.csv')\n",
    "MY_fw_1_garch = pd.read_csv('https://raw.githubusercontent.com/raphaelyt/thesis199.11/main/data/csv/GARCH/1%25/MY_VaR_FW-G-1%25.csv')\n",
    "MY_fw_1_earch = pd.read_csv('https://raw.githubusercontent.com/raphaelyt/thesis199.11/main/data/csv/EARCH/1%25/MY_VaR_FW-EA-1%25.csv')\n",
    "MY_fw_1_egarch = pd.read_csv('https://raw.githubusercontent.com/raphaelyt/thesis199.11/main/data/csv/EGARCH/1%25/MY_VaR_FW-E-1%25.csv')\n",
    "MY_fw_1_igarch = pd.read_csv('https://raw.githubusercontent.com/raphaelyt/thesis199.11/main/data/csv/IGARCH/IGARCH-1%25-FW/MY_fw_FW-I-1%25.csv')\n",
    "MY_fw_1_figarch = pd.read_csv('https://raw.githubusercontent.com/raphaelyt/thesis199.11/main/data/csv/FIGARCH/FIGARCH-1%25-FW/MY_fw_FW-FI-1%25.csv')\n",
    "MY_fw_1_figarch0633 = pd.read_csv('https://raw.githubusercontent.com/raphaelyt/thesis199.11/main/data/csv/FIGARCH0.633/FIGARCH0.633-1%25-FW/MY_fw_FW-FI0.633-1%25.csv')"
   ]
  },
  {
   "cell_type": "code",
   "execution_count": 75,
   "id": "67aa1863",
   "metadata": {},
   "outputs": [
    {
     "name": "stdout",
     "output_type": "stream",
     "text": [
      "dm_return(DM=-5.484817526721043, p_value=5.5346473663794396e-08)\n",
      "dm_return(DM=-2.0643889703460028, p_value=0.03929871251303416)\n",
      "dm_return(DM=-6.188368779410073, p_value=9.646063871072508e-10)\n",
      "dm_return(DM=-3.7478080386666495, p_value=0.0001910535429526348)\n",
      "dm_return(DM=-5.860613844940082, p_value=6.707438591399449e-09)\n",
      "dm_return(DM=-5.193688271316534, p_value=2.6100610774832687e-07)\n"
     ]
    }
   ],
   "source": [
    "# DN\n",
    "print(DM_test(MY, MY_fw_1_dn, MY_fw_1_garch, len(MY_fw_1_dn)))\n",
    "print(DM_test(MY, MY_fw_1_dn, MY_fw_1_earch, len(MY_fw_1_dn)))\n",
    "print(DM_test(MY, MY_fw_1_dn, MY_fw_1_egarch, len(MY_fw_1_dn)))\n",
    "print(DM_test(MY, MY_fw_1_dn, MY_fw_1_igarch, len(MY_fw_1_dn)))\n",
    "print(DM_test(MY, MY_fw_1_dn, MY_fw_1_figarch, len(MY_fw_1_dn)))\n",
    "print(DM_test(MY, MY_fw_1_dn, MY_fw_1_figarch0633, len(MY_fw_1_dn)))"
   ]
  },
  {
   "cell_type": "code",
   "execution_count": 76,
   "id": "d0a4c345",
   "metadata": {},
   "outputs": [
    {
     "name": "stdout",
     "output_type": "stream",
     "text": [
      "dm_return(DM=-2.190487300384025, p_value=0.028773267848795678)\n",
      "dm_return(DM=8.212782348871944, p_value=8.509290372081158e-16)\n",
      "dm_return(DM=-1.8884120089356413, p_value=0.05932776534524013)\n",
      "dm_return(DM=-1.9127985967023489, p_value=0.05612620567157285)\n",
      "dm_return(DM=-2.3890355061988897, p_value=0.017120599468267845)\n",
      "dm_return(DM=-2.514799132274283, p_value=0.01210265150046848)\n"
     ]
    }
   ],
   "source": [
    "# HS\n",
    "print(DM_test(MY, MY_fw_1_hs, MY_fw_1_garch, len(MY_fw_1_hs)))\n",
    "print(DM_test(MY, MY_fw_1_hs, MY_fw_1_earch, len(MY_fw_1_hs)))\n",
    "print(DM_test(MY, MY_fw_1_hs, MY_fw_1_egarch, len(MY_fw_1_hs)))\n",
    "print(DM_test(MY, MY_fw_1_hs, MY_fw_1_igarch, len(MY_fw_1_hs)))\n",
    "print(DM_test(MY, MY_fw_1_hs, MY_fw_1_figarch, len(MY_fw_1_hs)))\n",
    "print(DM_test(MY, MY_fw_1_hs, MY_fw_1_figarch0633, len(MY_fw_1_hs)))"
   ]
  },
  {
   "cell_type": "code",
   "execution_count": 77,
   "id": "9b632c90",
   "metadata": {
    "scrolled": true
   },
   "outputs": [
    {
     "name": "stdout",
     "output_type": "stream",
     "text": [
      "dm_return(DM=-1.1654106707344516, p_value=0.24419586940779855)\n",
      "dm_return(DM=7.239399267134809, p_value=1.0480581558944753e-12)\n",
      "dm_return(DM=-0.5359949778920454, p_value=0.5921091719748086)\n",
      "dm_return(DM=-1.3154606996565519, p_value=0.18872734229193827)\n",
      "dm_return(DM=-1.3180976090492509, p_value=0.1878435988518311)\n",
      "dm_return(DM=-1.6626571553040164, p_value=0.09676795511714432)\n"
     ]
    }
   ],
   "source": [
    "# BRW\n",
    "print(DM_test(MY, MY_fw_1_brw, MY_fw_1_garch, len(MY_fw_1_brw)))\n",
    "print(DM_test(MY, MY_fw_1_brw, MY_fw_1_earch, len(MY_fw_1_brw)))\n",
    "print(DM_test(MY, MY_fw_1_brw, MY_fw_1_egarch, len(MY_fw_1_brw)))\n",
    "print(DM_test(MY, MY_fw_1_brw, MY_fw_1_igarch, len(MY_fw_1_brw)))\n",
    "print(DM_test(MY, MY_fw_1_brw, MY_fw_1_figarch, len(MY_fw_1_brw)))\n",
    "print(DM_test(MY, MY_fw_1_brw, MY_fw_1_figarch0633, len(MY_fw_1_brw)))"
   ]
  },
  {
   "cell_type": "code",
   "execution_count": 78,
   "id": "68c3207b",
   "metadata": {
    "scrolled": true
   },
   "outputs": [
    {
     "name": "stdout",
     "output_type": "stream",
     "text": [
      "dm_return(DM=5.305623696302467, p_value=1.4503252394198996e-07)\n",
      "dm_return(DM=2.8623662220691943, p_value=0.0043133536577769195)\n",
      "dm_return(DM=-0.9793767660647633, p_value=0.3276862704304383)\n",
      "dm_return(DM=-0.4184506068669573, p_value=0.6757286136614769)\n",
      "dm_return(DM=-1.8120445656133954, p_value=0.0703494946171443)\n"
     ]
    }
   ],
   "source": [
    "# GARCH\n",
    "print(DM_test(MY, MY_fw_1_garch, MY_fw_1_earch, len(MY_fw_1_garch)))\n",
    "print(DM_test(MY, MY_fw_1_garch, MY_fw_1_egarch, len(MY_fw_1_garch)))\n",
    "print(DM_test(MY, MY_fw_1_garch, MY_fw_1_igarch, len(MY_fw_1_garch)))\n",
    "print(DM_test(MY, MY_fw_1_garch, MY_fw_1_figarch, len(MY_fw_1_garch)))\n",
    "print(DM_test(MY, MY_fw_1_garch, MY_fw_1_figarch0633, len(MY_fw_1_garch)))"
   ]
  },
  {
   "cell_type": "code",
   "execution_count": 79,
   "id": "935b40ca",
   "metadata": {
    "scrolled": true
   },
   "outputs": [
    {
     "name": "stdout",
     "output_type": "stream",
     "text": [
      "dm_return(DM=-5.850224376622263, p_value=7.1220303652690615e-09)\n",
      "dm_return(DM=-3.920785703745579, p_value=9.572907529310306e-05)\n",
      "dm_return(DM=-5.906680499056063, p_value=5.135487253003704e-09)\n",
      "dm_return(DM=-5.443272644021391, p_value=6.936898732510952e-08)\n"
     ]
    }
   ],
   "source": [
    "# EARCH\n",
    "print(DM_test(MY, MY_fw_1_earch, MY_fw_1_egarch, len(MY_fw_1_earch)))\n",
    "print(DM_test(MY, MY_fw_1_earch, MY_fw_1_igarch, len(MY_fw_1_earch)))\n",
    "print(DM_test(MY, MY_fw_1_earch, MY_fw_1_figarch, len(MY_fw_1_earch)))\n",
    "print(DM_test(MY, MY_fw_1_earch, MY_fw_1_figarch0633, len(MY_fw_1_earch)))"
   ]
  },
  {
   "cell_type": "code",
   "execution_count": 80,
   "id": "da09eea8",
   "metadata": {},
   "outputs": [
    {
     "name": "stdout",
     "output_type": "stream",
     "text": [
      "dm_return(DM=-1.4485263469791814, p_value=0.1478568848287053)\n",
      "dm_return(DM=-3.2269548963541457, p_value=0.0013014328921285051)\n",
      "dm_return(DM=-2.6127857547875086, p_value=0.009147239838081326)\n"
     ]
    }
   ],
   "source": [
    "# EGARCH\n",
    "print(DM_test(MY, MY_fw_1_egarch, MY_fw_1_igarch, len(MY_fw_1_egarch)))\n",
    "print(DM_test(MY, MY_fw_1_egarch, MY_fw_1_figarch, len(MY_fw_1_egarch)))\n",
    "print(DM_test(MY, MY_fw_1_egarch, MY_fw_1_figarch0633, len(MY_fw_1_egarch)))"
   ]
  },
  {
   "cell_type": "code",
   "execution_count": 81,
   "id": "7b89bdad",
   "metadata": {},
   "outputs": [
    {
     "name": "stdout",
     "output_type": "stream",
     "text": [
      "dm_return(DM=1.0020617277137265, p_value=0.3166130329305583)\n",
      "dm_return(DM=0.43114740138497604, p_value=0.6664759115069575)\n"
     ]
    }
   ],
   "source": [
    "# IGARCH\n",
    "print(DM_test(MY, MY_fw_1_igarch, MY_fw_1_figarch, len(MY_fw_1_igarch)))\n",
    "print(DM_test(MY, MY_fw_1_igarch, MY_fw_1_figarch0633, len(MY_fw_1_igarch)))"
   ]
  },
  {
   "cell_type": "code",
   "execution_count": 82,
   "id": "c56a42e5",
   "metadata": {},
   "outputs": [
    {
     "name": "stdout",
     "output_type": "stream",
     "text": [
      "dm_return(DM=-2.0663413822107417, p_value=0.0391136257130063)\n"
     ]
    }
   ],
   "source": [
    "# FIGARCH\n",
    "print(DM_test(MY, MY_fw_1_figarch, MY_fw_1_figarch0633, len(MY_fw_1_figarch)))"
   ]
  },
  {
   "cell_type": "markdown",
   "id": "d2576660",
   "metadata": {},
   "source": [
    "## 5.00 %"
   ]
  },
  {
   "cell_type": "code",
   "execution_count": 83,
   "id": "2636de0c",
   "metadata": {},
   "outputs": [],
   "source": [
    "MY_fw_5_dn = pd.read_csv('https://raw.githubusercontent.com/raphaelyt/thesis199.11/main/data/csv/DN/5%25/MY_VaR_FW-DN-5%25.csv')\n",
    "MY_fw_5_hs = pd.read_csv('https://raw.githubusercontent.com/raphaelyt/thesis199.11/main/data/csv/HS/5%25/MY_VaR_FW-HS-5%25.csv')\n",
    "MY_fw_5_brw = pd.read_csv('https://raw.githubusercontent.com/raphaelyt/thesis199.11/main/data/csv/BRW/5%25/MY_VaR_FW-BRW-5%25.csv')\n",
    "MY_fw_5_garch = pd.read_csv('https://raw.githubusercontent.com/raphaelyt/thesis199.11/main/data/csv/GARCH/5%25/MY_VaR_FW-G-5%25.csv')\n",
    "MY_fw_5_earch = pd.read_csv('https://raw.githubusercontent.com/raphaelyt/thesis199.11/main/data/csv/EARCH/5%25/MY_VaR_FW-EA-5%25.csv')\n",
    "MY_fw_5_egarch = pd.read_csv('https://raw.githubusercontent.com/raphaelyt/thesis199.11/main/data/csv/EGARCH/5%25/MY_VaR_FW-E-5%25.csv')\n",
    "MY_fw_5_igarch = pd.read_csv('https://raw.githubusercontent.com/raphaelyt/thesis199.11/main/data/csv/IGARCH/IGARCH-5%25-FW/MY_fw_FW-I-5%25.csv')\n",
    "MY_fw_5_figarch = pd.read_csv('https://raw.githubusercontent.com/raphaelyt/thesis199.11/main/data/csv/FIGARCH/FIGARCH-5%25-FW/MY_fw_FW-FI-5%25.csv')\n",
    "MY_fw_5_figarch0633 = pd.read_csv('https://raw.githubusercontent.com/raphaelyt/thesis199.11/main/data/csv/FIGARCH0.633/FIGARCH0.633-5%25-FW/MY_fw_FW-FI0.633-5%25.csv')"
   ]
  },
  {
   "cell_type": "code",
   "execution_count": 84,
   "id": "e686fd03",
   "metadata": {},
   "outputs": [
    {
     "name": "stdout",
     "output_type": "stream",
     "text": [
      "dm_return(DM=-5.423504754033424, p_value=7.719753403344474e-08)\n",
      "dm_return(DM=-2.064970575798991, p_value=0.03924349911209493)\n",
      "dm_return(DM=-6.11103715368949, p_value=1.536859699894616e-09)\n",
      "dm_return(DM=-3.7352605947190045, p_value=0.00020066490306094658)\n",
      "dm_return(DM=-5.782054503340117, p_value=1.0532097171341041e-08)\n",
      "dm_return(DM=-5.139914205308111, p_value=3.447886201448849e-07)\n"
     ]
    }
   ],
   "source": [
    "# DN\n",
    "print(DM_test(MY, MY_fw_5_dn, MY_fw_5_garch, len(MY_fw_5_dn)))\n",
    "print(DM_test(MY, MY_fw_5_dn, MY_fw_5_earch, len(MY_fw_5_dn)))\n",
    "print(DM_test(MY, MY_fw_5_dn, MY_fw_5_egarch, len(MY_fw_5_dn)))\n",
    "print(DM_test(MY, MY_fw_5_dn, MY_fw_5_igarch, len(MY_fw_5_dn)))\n",
    "print(DM_test(MY, MY_fw_5_dn, MY_fw_5_figarch, len(MY_fw_5_dn)))\n",
    "print(DM_test(MY, MY_fw_5_dn, MY_fw_5_figarch0633, len(MY_fw_5_dn)))"
   ]
  },
  {
   "cell_type": "code",
   "execution_count": 85,
   "id": "644c272f",
   "metadata": {},
   "outputs": [
    {
     "name": "stdout",
     "output_type": "stream",
     "text": [
      "dm_return(DM=-7.633451602805647, p_value=6.432105962827574e-14)\n",
      "dm_return(DM=-9.20692307578089, p_value=2.8064007867537274e-19)\n",
      "dm_return(DM=-8.940164548171689, p_value=2.5919810500190093e-18)\n",
      "dm_return(DM=-5.016557485118146, p_value=6.467654514602463e-07)\n",
      "dm_return(DM=-8.099048313922426, p_value=2.0304892432533394e-15)\n",
      "dm_return(DM=-6.960707038747408, p_value=6.995277167679922e-12)\n"
     ]
    }
   ],
   "source": [
    "# HS\n",
    "print(DM_test(MY, MY_fw_5_hs, MY_fw_5_garch, len(MY_fw_5_hs)))\n",
    "print(DM_test(MY, MY_fw_5_hs, MY_fw_5_earch, len(MY_fw_5_hs)))\n",
    "print(DM_test(MY, MY_fw_5_hs, MY_fw_5_egarch, len(MY_fw_5_hs)))\n",
    "print(DM_test(MY, MY_fw_5_hs, MY_fw_5_igarch, len(MY_fw_5_hs)))\n",
    "print(DM_test(MY, MY_fw_5_hs, MY_fw_5_figarch, len(MY_fw_5_hs)))\n",
    "print(DM_test(MY, MY_fw_5_hs, MY_fw_5_figarch0633, len(MY_fw_5_hs)))"
   ]
  },
  {
   "cell_type": "code",
   "execution_count": 86,
   "id": "bb7650b6",
   "metadata": {},
   "outputs": [
    {
     "name": "stdout",
     "output_type": "stream",
     "text": [
      "dm_return(DM=-5.223340800973988, p_value=2.2362090544404198e-07)\n",
      "dm_return(DM=-1.2953928963810346, p_value=0.19555378178219412)\n",
      "dm_return(DM=-5.933798822283045, p_value=4.384720558263237e-09)\n",
      "dm_return(DM=-3.6373202868130945, p_value=0.00029292091527519554)\n",
      "dm_return(DM=-5.637963869125127, p_value=2.3765965422583078e-08)\n",
      "dm_return(DM=-4.989746118335347, p_value=7.402156499086282e-07)\n"
     ]
    }
   ],
   "source": [
    "# BRW\n",
    "print(DM_test(MY, MY_fw_5_brw, MY_fw_5_garch, len(MY_fw_5_brw)))\n",
    "print(DM_test(MY, MY_fw_5_brw, MY_fw_5_earch, len(MY_fw_5_brw)))\n",
    "print(DM_test(MY, MY_fw_5_brw, MY_fw_5_egarch, len(MY_fw_5_brw)))\n",
    "print(DM_test(MY, MY_fw_5_brw, MY_fw_5_igarch, len(MY_fw_5_brw)))\n",
    "print(DM_test(MY, MY_fw_5_brw, MY_fw_5_figarch, len(MY_fw_5_brw)))\n",
    "print(DM_test(MY, MY_fw_5_brw, MY_fw_5_figarch0633, len(MY_fw_5_brw)))"
   ]
  },
  {
   "cell_type": "code",
   "execution_count": 87,
   "id": "420cc6bc",
   "metadata": {},
   "outputs": [
    {
     "name": "stdout",
     "output_type": "stream",
     "text": [
      "dm_return(DM=5.223978658171484, p_value=2.2287662549355012e-07)\n",
      "dm_return(DM=2.778931044025306, p_value=0.005580095738122065)\n",
      "dm_return(DM=-0.9735462748051315, p_value=0.3305725109748485)\n",
      "dm_return(DM=-0.3948925654646945, p_value=0.6930261381164149)\n",
      "dm_return(DM=-1.7988406916134556, p_value=0.07241603854868238)\n"
     ]
    }
   ],
   "source": [
    "# GARCH\n",
    "print(DM_test(MY, MY_fw_5_garch, MY_fw_5_earch, len(MY_fw_5_garch)))\n",
    "print(DM_test(MY, MY_fw_5_garch, MY_fw_5_egarch, len(MY_fw_5_garch)))\n",
    "print(DM_test(MY, MY_fw_5_garch, MY_fw_5_igarch, len(MY_fw_5_garch)))\n",
    "print(DM_test(MY, MY_fw_5_garch, MY_fw_5_figarch, len(MY_fw_5_garch)))\n",
    "print(DM_test(MY, MY_fw_5_garch, MY_fw_5_figarch0633, len(MY_fw_5_garch)))"
   ]
  },
  {
   "cell_type": "code",
   "execution_count": 88,
   "id": "b8833906",
   "metadata": {},
   "outputs": [
    {
     "name": "stdout",
     "output_type": "stream",
     "text": [
      "dm_return(DM=-5.748351989011691, p_value=1.276080620839513e-08)\n",
      "dm_return(DM=-3.902558644787867, p_value=0.00010308989352569006)\n",
      "dm_return(DM=-5.79365107423206, p_value=9.856730055653814e-09)\n",
      "dm_return(DM=-5.366356785640266, p_value=1.049602930539289e-07)\n"
     ]
    }
   ],
   "source": [
    "# EARCH\n",
    "print(DM_test(MY, MY_fw_5_earch, MY_fw_5_egarch, len(MY_fw_5_earch)))\n",
    "print(DM_test(MY, MY_fw_5_earch, MY_fw_5_igarch, len(MY_fw_5_earch)))\n",
    "print(DM_test(MY, MY_fw_5_earch, MY_fw_5_figarch, len(MY_fw_5_earch)))\n",
    "print(DM_test(MY, MY_fw_5_earch, MY_fw_5_figarch0633, len(MY_fw_5_earch)))"
   ]
  },
  {
   "cell_type": "code",
   "execution_count": 89,
   "id": "c764ca28",
   "metadata": {},
   "outputs": [
    {
     "name": "stdout",
     "output_type": "stream",
     "text": [
      "dm_return(DM=-1.4329179697279764, p_value=0.15226711285148864)\n",
      "dm_return(DM=-3.1371006692987224, p_value=0.0017679835957862642)\n",
      "dm_return(DM=-2.5729275253112025, p_value=0.010261165634800899)\n"
     ]
    }
   ],
   "source": [
    "# EGARCH\n",
    "print(DM_test(MY, MY_fw_5_egarch, MY_fw_5_igarch, len(MY_fw_5_egarch)))\n",
    "print(DM_test(MY, MY_fw_5_egarch, MY_fw_5_figarch, len(MY_fw_5_egarch)))\n",
    "print(DM_test(MY, MY_fw_5_egarch, MY_fw_5_figarch0633, len(MY_fw_5_egarch)))"
   ]
  },
  {
   "cell_type": "code",
   "execution_count": 90,
   "id": "9344452d",
   "metadata": {},
   "outputs": [
    {
     "name": "stdout",
     "output_type": "stream",
     "text": [
      "dm_return(DM=0.9978909671779277, p_value=0.3186302392546757)\n",
      "dm_return(DM=0.4257080089955658, p_value=0.670433711517192)\n"
     ]
    }
   ],
   "source": [
    "# IGARCH\n",
    "print(DM_test(MY, MY_fw_5_igarch, MY_fw_5_figarch,  len(MY_fw_5_igarch)))\n",
    "print(DM_test(MY, MY_fw_5_igarch, MY_fw_5_figarch0633, len(MY_fw_5_igarch)))"
   ]
  },
  {
   "cell_type": "code",
   "execution_count": 91,
   "id": "489a1297",
   "metadata": {},
   "outputs": [
    {
     "name": "stdout",
     "output_type": "stream",
     "text": [
      "dm_return(DM=-2.053145752341633, p_value=0.040379118083651036)\n"
     ]
    }
   ],
   "source": [
    "# FIGARCH\n",
    "print(DM_test(MY, MY_fw_5_figarch, MY_fw_5_figarch0633, len(MY_fw_5_figarch)))"
   ]
  },
  {
   "cell_type": "markdown",
   "id": "63bcd295",
   "metadata": {},
   "source": [
    "# Rolling Window"
   ]
  },
  {
   "cell_type": "markdown",
   "id": "a1e66dba",
   "metadata": {},
   "source": [
    "## 0.01 %"
   ]
  },
  {
   "cell_type": "code",
   "execution_count": 92,
   "id": "5cdb2c58",
   "metadata": {},
   "outputs": [],
   "source": [
    "MY_rw_01_dn = pd.read_csv('https://raw.githubusercontent.com/raphaelyt/thesis199.11/main/data/csv/DN/0.01%25/MY_VaR_RW-DN-0.01%25.csv')\n",
    "MY_rw_01_hs = pd.read_csv('https://raw.githubusercontent.com/raphaelyt/thesis199.11/main/data/csv/HS/0.01%25/MY_VaR_RW-HS-0.01%25.csv')\n",
    "MY_rw_01_brw = pd.read_csv('https://raw.githubusercontent.com/raphaelyt/thesis199.11/main/data/csv/BRW/0.01%25/MY_VaR_RW-BRW-0.01%25.csv')\n",
    "MY_rw_01_garch = pd.read_csv('https://raw.githubusercontent.com/raphaelyt/thesis199.11/main/data/csv/GARCH/0.01%25/MY_VaR_RW-G-0.01%25.csv')\n",
    "MY_rw_01_earch = pd.read_csv('https://raw.githubusercontent.com/raphaelyt/thesis199.11/main/data/csv/EARCH/0.01%25/MY_VaR_RW-EA-0.01%25.csv')\n",
    "MY_rw_01_egarch = pd.read_csv('https://raw.githubusercontent.com/raphaelyt/thesis199.11/main/data/csv/EGARCH/0.01%25/MY_VaR_RW-E-0.01%25.csv')\n",
    "MY_rw_01_igarch = pd.read_csv('https://raw.githubusercontent.com/raphaelyt/thesis199.11/main/data/csv/IGARCH/IGARCH-0.01%25-RW/MY_RW-I-0.01%25.csv')\n",
    "MY_rw_01_figarch = pd.read_csv('https://raw.githubusercontent.com/raphaelyt/thesis199.11/main/data/csv/FIGARCH/FIGARCH-0.01%25-RW/MY_RW-FI-0.01%25.csv')\n",
    "MY_rw_01_figarch0633 = pd.read_csv('https://raw.githubusercontent.com/raphaelyt/thesis199.11/main/data/csv/FIGARCH0.633/FIGARCH0.633-0.01%25-RW/MY_RW-FI0.633-0.01%25.csv')"
   ]
  },
  {
   "cell_type": "code",
   "execution_count": 93,
   "id": "78f3c04f",
   "metadata": {},
   "outputs": [
    {
     "name": "stdout",
     "output_type": "stream",
     "text": [
      "dm_return(DM=-4.736394610995147, p_value=2.5682538311172374e-06)\n",
      "dm_return(DM=-1.7571937191487639, p_value=0.07926256034167718)\n",
      "dm_return(DM=-5.232020351652553, p_value=2.1369648593588935e-07)\n",
      "dm_return(DM=-3.2586570842062232, p_value=0.001166074819057097)\n",
      "dm_return(DM=-4.9520758636938575, p_value=8.938087959272899e-07)\n",
      "dm_return(DM=-4.520263291257793, p_value=7.097071945782543e-06)\n"
     ]
    }
   ],
   "source": [
    "# DN\n",
    "print(DM_test(MY, MY_rw_01_dn, MY_rw_01_garch, len(MY_rw_01_dn)))\n",
    "print(DM_test(MY, MY_rw_01_dn, MY_rw_01_earch, len(MY_rw_01_dn)))\n",
    "print(DM_test(MY, MY_rw_01_dn, MY_rw_01_egarch, len(MY_rw_01_dn)))\n",
    "print(DM_test(MY, MY_rw_01_dn, MY_rw_01_igarch, len(MY_rw_01_dn)))\n",
    "print(DM_test(MY, MY_rw_01_dn, MY_rw_01_figarch, len(MY_rw_01_dn)))\n",
    "print(DM_test(MY, MY_rw_01_dn, MY_rw_01_figarch0633, len(MY_rw_01_dn)))"
   ]
  },
  {
   "cell_type": "code",
   "execution_count": 94,
   "id": "3259f594",
   "metadata": {
    "scrolled": true
   },
   "outputs": [
    {
     "name": "stdout",
     "output_type": "stream",
     "text": [
      "dm_return(DM=35.18942198658796, p_value=2.39293360789654e-165)\n",
      "dm_return(DM=48.79693375476316, p_value=2.2350202574323693e-243)\n",
      "dm_return(DM=41.89702393838485, p_value=5.76805608659289e-205)\n",
      "dm_return(DM=21.758362900006713, p_value=5.121638051978146e-83)\n",
      "dm_return(DM=36.69872072630339, p_value=1.9644780908407013e-174)\n",
      "dm_return(DM=29.958097012937486, p_value=2.6204179243222235e-133)\n"
     ]
    }
   ],
   "source": [
    "# HS\n",
    "print(DM_test(MY, MY_rw_01_hs, MY_rw_01_garch, len(MY_rw_01_hs)))\n",
    "print(DM_test(MY, MY_rw_01_hs, MY_rw_01_earch, len(MY_rw_01_hs)))\n",
    "print(DM_test(MY, MY_rw_01_hs, MY_rw_01_egarch, len(MY_rw_01_hs)))\n",
    "print(DM_test(MY, MY_rw_01_hs, MY_rw_01_igarch, len(MY_rw_01_hs)))\n",
    "print(DM_test(MY, MY_rw_01_hs, MY_rw_01_figarch, len(MY_rw_01_hs)))\n",
    "print(DM_test(MY, MY_rw_01_hs, MY_rw_01_figarch0633, len(MY_rw_01_hs)))"
   ]
  },
  {
   "cell_type": "code",
   "execution_count": 95,
   "id": "585759d5",
   "metadata": {},
   "outputs": [
    {
     "name": "stdout",
     "output_type": "stream",
     "text": [
      "dm_return(DM=16.976177323172614, p_value=1.5795295229701136e-55)\n",
      "dm_return(DM=21.641507073706677, p_value=2.5544105308977236e-82)\n",
      "dm_return(DM=19.365751255160696, p_value=5.914934991406182e-69)\n",
      "dm_return(DM=11.191328558536346, p_value=3.9105921080549465e-27)\n",
      "dm_return(DM=17.514292913700206, p_value=1.741584123795807e-58)\n",
      "dm_return(DM=14.712902179580226, p_value=1.333041201474072e-43)\n"
     ]
    }
   ],
   "source": [
    "# BRW\n",
    "print(DM_test(MY, MY_rw_01_brw, MY_rw_01_garch, len(MY_rw_01_brw)))\n",
    "print(DM_test(MY, MY_rw_01_brw, MY_rw_01_earch, len(MY_rw_01_brw)))\n",
    "print(DM_test(MY, MY_rw_01_brw, MY_rw_01_egarch, len(MY_rw_01_brw)))\n",
    "print(DM_test(MY, MY_rw_01_brw, MY_rw_01_igarch, len(MY_rw_01_brw)))\n",
    "print(DM_test(MY, MY_rw_01_brw, MY_rw_01_figarch, len(MY_rw_01_brw)))\n",
    "print(DM_test(MY, MY_rw_01_brw, MY_rw_01_figarch0633, len(MY_rw_01_brw)))"
   ]
  },
  {
   "cell_type": "code",
   "execution_count": 96,
   "id": "1e96df22",
   "metadata": {},
   "outputs": [
    {
     "name": "stdout",
     "output_type": "stream",
     "text": [
      "dm_return(DM=4.584776533507256, p_value=5.262534116702498e-06)\n",
      "dm_return(DM=2.9128177506851403, p_value=0.0036803149733107563)\n",
      "dm_return(DM=-0.8360949600940504, p_value=0.4033480551697741)\n",
      "dm_return(DM=0.28684005151169517, p_value=0.7743081502492306)\n",
      "dm_return(DM=-1.5807044500269736, p_value=0.11433601628693907)\n"
     ]
    }
   ],
   "source": [
    "# GARCH\n",
    "print(DM_test(MY, MY_rw_01_garch, MY_rw_01_earch, len(MY_rw_01_garch)))\n",
    "print(DM_test(MY, MY_rw_01_garch, MY_rw_01_egarch, len(MY_rw_01_garch)))\n",
    "print(DM_test(MY, MY_rw_01_garch, MY_rw_01_igarch, len(MY_rw_01_garch)))\n",
    "print(DM_test(MY, MY_rw_01_garch, MY_rw_01_figarch, len(MY_rw_01_garch)))\n",
    "print(DM_test(MY, MY_rw_01_garch, MY_rw_01_figarch0633, len(MY_rw_01_garch)))"
   ]
  },
  {
   "cell_type": "code",
   "execution_count": 97,
   "id": "dad26e87",
   "metadata": {},
   "outputs": [
    {
     "name": "stdout",
     "output_type": "stream",
     "text": [
      "dm_return(DM=-4.915430094446551, p_value=1.072467296260525e-06)\n",
      "dm_return(DM=-3.4314562888483486, p_value=0.0006307638413159001)\n",
      "dm_return(DM=-4.958495935399715, p_value=8.656197819226686e-07)\n",
      "dm_return(DM=-4.758723047797836, p_value=2.3067985115528477e-06)\n"
     ]
    }
   ],
   "source": [
    "# EARCH\n",
    "print(DM_test(MY, MY_rw_01_earch, MY_rw_01_egarch, len(MY_rw_01_earch)))\n",
    "print(DM_test(MY, MY_rw_01_earch, MY_rw_01_igarch, len(MY_rw_01_earch)))\n",
    "print(DM_test(MY, MY_rw_01_earch, MY_rw_01_figarch, len(MY_rw_01_earch)))\n",
    "print(DM_test(MY, MY_rw_01_earch, MY_rw_01_figarch0633, len(MY_rw_01_earch)))"
   ]
  },
  {
   "cell_type": "code",
   "execution_count": 98,
   "id": "c802b963",
   "metadata": {},
   "outputs": [
    {
     "name": "stdout",
     "output_type": "stream",
     "text": [
      "dm_return(DM=-1.3491278007151986, p_value=0.17767292213680624)\n",
      "dm_return(DM=-2.922777051689433, p_value=0.003565833959936096)\n",
      "dm_return(DM=-2.5104160037856045, p_value=0.01225273318825574)\n"
     ]
    }
   ],
   "source": [
    "# EGARCH\n",
    "print(DM_test(MY, MY_rw_01_egarch, MY_rw_01_igarch, len(MY_rw_01_egarch)))\n",
    "print(DM_test(MY, MY_rw_01_egarch, MY_rw_01_figarch, len(MY_rw_01_egarch)))\n",
    "print(DM_test(MY, MY_rw_01_egarch, MY_rw_01_figarch0633, len(MY_rw_01_egarch)))"
   ]
  },
  {
   "cell_type": "code",
   "execution_count": 99,
   "id": "293bff55",
   "metadata": {},
   "outputs": [
    {
     "name": "stdout",
     "output_type": "stream",
     "text": [
      "dm_return(DM=0.9434780053961925, p_value=0.3457177804081404)\n",
      "dm_return(DM=0.3687433356053475, p_value=0.7124154018883102)\n"
     ]
    }
   ],
   "source": [
    "# IGARCH\n",
    "print(DM_test(MY, MY_rw_01_igarch, MY_rw_01_figarch,  len(MY_rw_01_igarch)))\n",
    "print(DM_test(MY, MY_rw_01_igarch, MY_rw_01_figarch0633, len(MY_rw_01_igarch)))"
   ]
  },
  {
   "cell_type": "code",
   "execution_count": 100,
   "id": "09e465e7",
   "metadata": {},
   "outputs": [
    {
     "name": "stdout",
     "output_type": "stream",
     "text": [
      "dm_return(DM=-2.087964830942465, p_value=0.03711286206460161)\n"
     ]
    }
   ],
   "source": [
    "# FIGARCH\n",
    "print(DM_test(MY, MY_rw_01_figarch, MY_rw_01_figarch0633, len(MY_rw_01_figarch)))"
   ]
  },
  {
   "cell_type": "markdown",
   "id": "4f543b85",
   "metadata": {},
   "source": [
    "## 1.00 %"
   ]
  },
  {
   "cell_type": "code",
   "execution_count": 101,
   "id": "2c5b0da3",
   "metadata": {},
   "outputs": [],
   "source": [
    "MY_rw_1_dn = pd.read_csv('https://raw.githubusercontent.com/raphaelyt/thesis199.11/main/data/csv/DN/1%25/MY_VaR_RW-DN-1%25.csv')\n",
    "MY_rw_1_hs = pd.read_csv('https://raw.githubusercontent.com/raphaelyt/thesis199.11/main/data/csv/HS/1%25/MY_VaR_RW-HS-1%25.csv')\n",
    "MY_rw_1_brw = pd.read_csv('https://raw.githubusercontent.com/raphaelyt/thesis199.11/main/data/csv/BRW/1%25/MY_VaR_RW-BRW-1%25.csv')\n",
    "MY_rw_1_garch = pd.read_csv('https://raw.githubusercontent.com/raphaelyt/thesis199.11/main/data/csv/GARCH/1%25/MY_VaR_RW-G-1%25.csv')\n",
    "MY_rw_1_earch = pd.read_csv('https://raw.githubusercontent.com/raphaelyt/thesis199.11/main/data/csv/EARCH/1%25/MY_VaR_RW-EA-1%25.csv')\n",
    "MY_rw_1_egarch = pd.read_csv('https://raw.githubusercontent.com/raphaelyt/thesis199.11/main/data/csv/EGARCH/1%25/MY_VaR_RW-E-1%25.csv')\n",
    "MY_rw_1_igarch = pd.read_csv('https://raw.githubusercontent.com/raphaelyt/thesis199.11/main/data/csv/IGARCH/IGARCH-1%25-RW/MY_RW-I-1%25.csv')\n",
    "MY_rw_1_figarch = pd.read_csv('https://raw.githubusercontent.com/raphaelyt/thesis199.11/main/data/csv/FIGARCH/FIGARCH-1%25-RW/MY_RW-FI-1%25.csv')\n",
    "MY_rw_1_figarch0633 = pd.read_csv('https://raw.githubusercontent.com/raphaelyt/thesis199.11/main/data/csv/FIGARCH0.633/FIGARCH0.633-1%25-RW/MY_RW-FI0.633-1%25.csv')"
   ]
  },
  {
   "cell_type": "code",
   "execution_count": 102,
   "id": "3d58077b",
   "metadata": {},
   "outputs": [
    {
     "name": "stdout",
     "output_type": "stream",
     "text": [
      "dm_return(DM=-4.714605687130766, p_value=2.8507235415598255e-06)\n",
      "dm_return(DM=-1.7760561413576974, p_value=0.0760990033719663)\n",
      "dm_return(DM=-5.216588821058602, p_value=2.3164841133292203e-07)\n",
      "dm_return(DM=-3.262500359015325, p_value=0.001150582233654387)\n",
      "dm_return(DM=-4.921250551065271, p_value=1.0419541173241841e-06)\n",
      "dm_return(DM=-4.499455137473856, p_value=7.809622867517921e-06)\n"
     ]
    }
   ],
   "source": [
    "# DN\n",
    "print(DM_test(MY, MY_rw_1_dn, MY_rw_1_garch, len(MY_rw_1_dn)))\n",
    "print(DM_test(MY, MY_rw_1_dn, MY_rw_1_earch, len(MY_rw_1_dn)))\n",
    "print(DM_test(MY, MY_rw_1_dn, MY_rw_1_egarch, len(MY_rw_1_dn)))\n",
    "print(DM_test(MY, MY_rw_1_dn, MY_rw_1_igarch, len(MY_rw_1_dn)))\n",
    "print(DM_test(MY, MY_rw_1_dn, MY_rw_1_figarch, len(MY_rw_1_dn)))\n",
    "print(DM_test(MY, MY_rw_1_dn, MY_rw_1_figarch0633, len(MY_rw_1_dn)))"
   ]
  },
  {
   "cell_type": "code",
   "execution_count": 103,
   "id": "55affb57",
   "metadata": {},
   "outputs": [
    {
     "name": "stdout",
     "output_type": "stream",
     "text": [
      "dm_return(DM=-1.497870110938992, p_value=0.13455658030246273)\n",
      "dm_return(DM=7.641613006875668, p_value=6.062930867109253e-14)\n",
      "dm_return(DM=-0.9882307852085978, p_value=0.32333473709620963)\n",
      "dm_return(DM=-1.4293105046804242, p_value=0.15330055149658217)\n",
      "dm_return(DM=-1.5286393544328336, p_value=0.12674427247414732)\n",
      "dm_return(DM=-1.839141501433999, p_value=0.06626024036582963)\n"
     ]
    }
   ],
   "source": [
    "# HS\n",
    "print(DM_test(MY, MY_rw_1_hs, MY_rw_1_garch, len(MY_rw_1_hs)))\n",
    "print(DM_test(MY, MY_rw_1_hs, MY_rw_1_earch, len(MY_rw_1_hs)))\n",
    "print(DM_test(MY, MY_rw_1_hs, MY_rw_1_egarch, len(MY_rw_1_hs)))\n",
    "print(DM_test(MY, MY_rw_1_hs, MY_rw_1_igarch, len(MY_rw_1_hs)))\n",
    "print(DM_test(MY, MY_rw_1_hs, MY_rw_1_figarch, len(MY_rw_1_hs)))\n",
    "print(DM_test(MY, MY_rw_1_hs, MY_rw_1_figarch0633, len(MY_rw_1_hs)))"
   ]
  },
  {
   "cell_type": "code",
   "execution_count": 104,
   "id": "d00409f2",
   "metadata": {},
   "outputs": [
    {
     "name": "stdout",
     "output_type": "stream",
     "text": [
      "dm_return(DM=-1.4439820743322045, p_value=0.14913068095417165)\n",
      "dm_return(DM=5.544044889466521, p_value=4.000821378325854e-08)\n",
      "dm_return(DM=-0.9051268441579016, p_value=0.36566732990650863)\n",
      "dm_return(DM=-1.367971163678838, p_value=0.17170047511896283)\n",
      "dm_return(DM=-1.4748770254586807, p_value=0.14063417399841652)\n",
      "dm_return(DM=-1.7733658235894523, p_value=0.07654380530607342)\n"
     ]
    }
   ],
   "source": [
    "# BRW\n",
    "print(DM_test(MY, MY_rw_1_brw, MY_rw_1_garch, len(MY_rw_1_brw)))\n",
    "print(DM_test(MY, MY_rw_1_brw, MY_rw_1_earch, len(MY_rw_1_brw)))\n",
    "print(DM_test(MY, MY_rw_1_brw, MY_rw_1_egarch, len(MY_rw_1_brw)))\n",
    "print(DM_test(MY, MY_rw_1_brw, MY_rw_1_igarch, len(MY_rw_1_brw)))\n",
    "print(DM_test(MY, MY_rw_1_brw, MY_rw_1_figarch, len(MY_rw_1_brw)))\n",
    "print(DM_test(MY, MY_rw_1_brw, MY_rw_1_figarch0633, len(MY_rw_1_brw)))"
   ]
  },
  {
   "cell_type": "code",
   "execution_count": 105,
   "id": "df73232e",
   "metadata": {},
   "outputs": [
    {
     "name": "stdout",
     "output_type": "stream",
     "text": [
      "dm_return(DM=4.54660416968097, p_value=6.284068586847658e-06)\n",
      "dm_return(DM=2.837211648307612, p_value=0.004664591884550346)\n",
      "dm_return(DM=-0.8315660418732135, p_value=0.40589900639432086)\n",
      "dm_return(DM=0.2995490439542717, p_value=0.7645980038743247)\n",
      "dm_return(DM=-1.5739543866060308, p_value=0.11588848105187381)\n"
     ]
    }
   ],
   "source": [
    "# GARCH\n",
    "print(DM_test(MY, MY_rw_1_garch, MY_rw_1_earch, len(MY_rw_1_garch)))\n",
    "print(DM_test(MY, MY_rw_1_garch, MY_rw_1_egarch, len(MY_rw_1_garch)))\n",
    "print(DM_test(MY, MY_rw_1_garch, MY_rw_1_igarch, len(MY_rw_1_garch)))\n",
    "print(DM_test(MY, MY_rw_1_garch, MY_rw_1_figarch, len(MY_rw_1_garch)))\n",
    "print(DM_test(MY, MY_rw_1_garch, MY_rw_1_figarch0633, len(MY_rw_1_garch)))"
   ]
  },
  {
   "cell_type": "code",
   "execution_count": 106,
   "id": "689de2f2",
   "metadata": {},
   "outputs": [
    {
     "name": "stdout",
     "output_type": "stream",
     "text": [
      "dm_return(DM=-4.881385932413232, p_value=1.268952151601285e-06)\n",
      "dm_return(DM=-3.4277032577564555, p_value=0.000639420236967755)\n",
      "dm_return(DM=-4.901451105285707, p_value=1.149311048367693e-06)\n",
      "dm_return(DM=-4.714482489233577, p_value=2.8524025374079474e-06)\n"
     ]
    }
   ],
   "source": [
    "# EARCH\n",
    "print(DM_test(MY, MY_rw_1_earch, MY_rw_1_egarch, len(MY_rw_1_earch)))\n",
    "print(DM_test(MY, MY_rw_1_earch, MY_rw_1_igarch, len(MY_rw_1_earch)))\n",
    "print(DM_test(MY, MY_rw_1_earch, MY_rw_1_figarch, len(MY_rw_1_earch)))\n",
    "print(DM_test(MY, MY_rw_1_earch, MY_rw_1_figarch0633, len(MY_rw_1_earch)))"
   ]
  },
  {
   "cell_type": "code",
   "execution_count": 107,
   "id": "18a9f83c",
   "metadata": {},
   "outputs": [
    {
     "name": "stdout",
     "output_type": "stream",
     "text": [
      "dm_return(DM=-1.3349553849750488, p_value=0.18226602408539588)\n",
      "dm_return(DM=-2.8377645251033066, p_value=0.004656601040792582)\n",
      "dm_return(DM=-2.4745777057107383, p_value=0.013543135536918936)\n"
     ]
    }
   ],
   "source": [
    "# EGARCH\n",
    "print(DM_test(MY, MY_rw_1_egarch, MY_rw_1_igarch, len(MY_rw_1_egarch)))\n",
    "print(DM_test(MY, MY_rw_1_egarch, MY_rw_1_figarch, len(MY_rw_1_egarch)))\n",
    "print(DM_test(MY, MY_rw_1_egarch, MY_rw_1_figarch0633, len(MY_rw_1_egarch)))"
   ]
  },
  {
   "cell_type": "code",
   "execution_count": 108,
   "id": "30608fa5",
   "metadata": {},
   "outputs": [
    {
     "name": "stdout",
     "output_type": "stream",
     "text": [
      "dm_return(DM=0.9399333680141269, p_value=0.3475319474763463)\n",
      "dm_return(DM=0.3639113387815314, p_value=0.7160191838344072)\n"
     ]
    }
   ],
   "source": [
    "# IGARCH\n",
    "print(DM_test(MY, MY_rw_1_igarch, MY_rw_1_figarch,  len(MY_rw_1_igarch)))\n",
    "print(DM_test(MY, MY_rw_1_igarch, MY_rw_1_figarch0633, len(MY_rw_1_igarch)))"
   ]
  },
  {
   "cell_type": "code",
   "execution_count": 109,
   "id": "5633961d",
   "metadata": {},
   "outputs": [
    {
     "name": "stdout",
     "output_type": "stream",
     "text": [
      "dm_return(DM=-2.0806598862705186, p_value=0.03777877903738094)\n"
     ]
    }
   ],
   "source": [
    "# FIGARCH\n",
    "print(DM_test(MY, MY_rw_1_figarch, MY_rw_1_figarch0633, len(MY_rw_1_figarch)))"
   ]
  },
  {
   "cell_type": "markdown",
   "id": "6660bba5",
   "metadata": {},
   "source": [
    "## 5.00 %"
   ]
  },
  {
   "cell_type": "code",
   "execution_count": 110,
   "id": "95a0d715",
   "metadata": {},
   "outputs": [],
   "source": [
    "MY_rw_5_dn = pd.read_csv('https://raw.githubusercontent.com/raphaelyt/thesis199.11/main/data/csv/DN/5%25/MY_VaR_RW-DN-5%25.csv')\n",
    "MY_rw_5_hs = pd.read_csv('https://raw.githubusercontent.com/raphaelyt/thesis199.11/main/data/csv/HS/5%25/MY_VaR_RW-HS-5%25.csv')\n",
    "MY_rw_5_brw = pd.read_csv('https://raw.githubusercontent.com/raphaelyt/thesis199.11/main/data/csv/BRW/5%25/MY_VaR_RW-BRW-5%25.csv')\n",
    "MY_rw_5_garch = pd.read_csv('https://raw.githubusercontent.com/raphaelyt/thesis199.11/main/data/csv/GARCH/5%25/MY_VaR_RW-G-5%25.csv')\n",
    "MY_rw_5_earch = pd.read_csv('https://raw.githubusercontent.com/raphaelyt/thesis199.11/main/data/csv/EARCH/5%25/MY_VaR_RW-EA-5%25.csv')\n",
    "MY_rw_5_egarch = pd.read_csv('https://raw.githubusercontent.com/raphaelyt/thesis199.11/main/data/csv/EGARCH/5%25/MY_VaR_RW-E-5%25.csv')\n",
    "MY_rw_5_igarch = pd.read_csv('https://raw.githubusercontent.com/raphaelyt/thesis199.11/main/data/csv/IGARCH/IGARCH-5%25-RW/MY_RW-I-5%25.csv')\n",
    "MY_rw_5_figarch = pd.read_csv('https://raw.githubusercontent.com/raphaelyt/thesis199.11/main/data/csv/FIGARCH/FIGARCH-5%25-RW/MY_RW-FI-5%25.csv')\n",
    "MY_rw_5_figarch0633 = pd.read_csv('https://raw.githubusercontent.com/raphaelyt/thesis199.11/main/data/csv/FIGARCH0.633/FIGARCH0.633-5%25-RW/MY_RW-FI0.633-5%25.csv')"
   ]
  },
  {
   "cell_type": "code",
   "execution_count": 111,
   "id": "208d5fe3",
   "metadata": {},
   "outputs": [
    {
     "name": "stdout",
     "output_type": "stream",
     "text": [
      "dm_return(DM=-4.675655584781827, p_value=3.4317073901933162e-06)\n",
      "dm_return(DM=-1.7848650731695301, p_value=0.07465734553735913)\n",
      "dm_return(DM=-5.176930173665618, p_value=2.8473855627401383e-07)\n",
      "dm_return(DM=-3.2570586132861328, p_value=0.0011725750867887283)\n",
      "dm_return(DM=-4.871311105224584, p_value=1.3334647752366833e-06)\n",
      "dm_return(DM=-4.462958360288867, p_value=9.227954872001372e-06)\n"
     ]
    }
   ],
   "source": [
    "# DN\n",
    "print(DM_test(MY, MY_rw_5_dn, MY_rw_5_garch, len(MY_rw_5_dn)))\n",
    "print(DM_test(MY, MY_rw_5_dn, MY_rw_5_earch, len(MY_rw_5_dn)))\n",
    "print(DM_test(MY, MY_rw_5_dn, MY_rw_5_egarch, len(MY_rw_5_dn)))\n",
    "print(DM_test(MY, MY_rw_5_dn, MY_rw_5_igarch, len(MY_rw_5_dn)))\n",
    "print(DM_test(MY, MY_rw_5_dn, MY_rw_5_figarch, len(MY_rw_5_dn)))\n",
    "print(DM_test(MY, MY_rw_5_dn, MY_rw_5_figarch0633, len(MY_rw_5_dn)))"
   ]
  },
  {
   "cell_type": "code",
   "execution_count": 112,
   "id": "5b24c73e",
   "metadata": {},
   "outputs": [
    {
     "name": "stdout",
     "output_type": "stream",
     "text": [
      "dm_return(DM=-7.003722627050593, p_value=5.2402042975938805e-12)\n",
      "dm_return(DM=-8.769799329122408, p_value=1.0432518589933544e-17)\n",
      "dm_return(DM=-8.191216908695848, p_value=1.0042532460690007e-15)\n",
      "dm_return(DM=-4.619826271884677, p_value=4.466398420576519e-06)\n",
      "dm_return(DM=-7.313763615732387, p_value=6.248672178812616e-13)\n",
      "dm_return(DM=-6.40185450231783, p_value=2.5974347625751455e-10)\n"
     ]
    }
   ],
   "source": [
    "# HS\n",
    "print(DM_test(MY, MY_rw_5_hs, MY_rw_5_garch, len(MY_rw_5_hs)))\n",
    "print(DM_test(MY, MY_rw_5_hs, MY_rw_5_earch, len(MY_rw_5_hs)))\n",
    "print(DM_test(MY, MY_rw_5_hs, MY_rw_5_egarch, len(MY_rw_5_hs)))\n",
    "print(DM_test(MY, MY_rw_5_hs, MY_rw_5_igarch, len(MY_rw_5_hs)))\n",
    "print(DM_test(MY, MY_rw_5_hs, MY_rw_5_figarch, len(MY_rw_5_hs)))\n",
    "print(DM_test(MY, MY_rw_5_hs, MY_rw_5_figarch0633, len(MY_rw_5_hs)))"
   ]
  },
  {
   "cell_type": "code",
   "execution_count": 113,
   "id": "09a6a930",
   "metadata": {},
   "outputs": [
    {
     "name": "stdout",
     "output_type": "stream",
     "text": [
      "dm_return(DM=-5.3865546951994, p_value=9.419120370037476e-08)\n",
      "dm_return(DM=-3.3686462510007757, p_value=0.0007910663235797386)\n",
      "dm_return(DM=-6.18162298951108, p_value=1.0048083144357636e-09)\n",
      "dm_return(DM=-3.6764553677386673, p_value=0.0002520901875923383)\n",
      "dm_return(DM=-5.659239184751545, p_value=2.1098772426309915e-08)\n",
      "dm_return(DM=-5.057313990550068, p_value=5.26169324239576e-07)\n"
     ]
    }
   ],
   "source": [
    "# BRW\n",
    "print(DM_test(MY, MY_rw_5_brw, MY_rw_5_garch, len(MY_rw_5_brw)))\n",
    "print(DM_test(MY, MY_rw_5_brw, MY_rw_5_earch, len(MY_rw_5_brw)))\n",
    "print(DM_test(MY, MY_rw_5_brw, MY_rw_5_egarch, len(MY_rw_5_brw)))\n",
    "print(DM_test(MY, MY_rw_5_brw, MY_rw_5_igarch, len(MY_rw_5_brw)))\n",
    "print(DM_test(MY, MY_rw_5_brw, MY_rw_5_figarch, len(MY_rw_5_brw)))\n",
    "print(DM_test(MY, MY_rw_5_brw, MY_rw_5_figarch0633, len(MY_rw_5_brw)))"
   ]
  },
  {
   "cell_type": "code",
   "execution_count": 114,
   "id": "f761f7a2",
   "metadata": {},
   "outputs": [
    {
     "name": "stdout",
     "output_type": "stream",
     "text": [
      "dm_return(DM=4.491277545047404, p_value=8.108001456982151e-06)\n",
      "dm_return(DM=2.7476705900619782, p_value=0.006135419671455707)\n",
      "dm_return(DM=-0.8242487915507856, p_value=0.4100408482324568)\n",
      "dm_return(DM=0.31212190544489843, p_value=0.7550282071107318)\n",
      "dm_return(DM=-1.5617863577820261, p_value=0.11872891930271758)\n"
     ]
    }
   ],
   "source": [
    "# GARCH\n",
    "print(DM_test(MY, MY_rw_5_garch, MY_rw_5_earch, len(MY_rw_5_garch)))\n",
    "print(DM_test(MY, MY_rw_5_garch, MY_rw_5_egarch, len(MY_rw_5_garch)))\n",
    "print(DM_test(MY, MY_rw_5_garch, MY_rw_5_igarch, len(MY_rw_5_garch)))\n",
    "print(DM_test(MY, MY_rw_5_garch, MY_rw_5_figarch, len(MY_rw_5_garch)))\n",
    "print(DM_test(MY, MY_rw_5_garch, MY_rw_5_figarch0633, len(MY_rw_5_garch)))"
   ]
  },
  {
   "cell_type": "code",
   "execution_count": 115,
   "id": "26c90177",
   "metadata": {},
   "outputs": [
    {
     "name": "stdout",
     "output_type": "stream",
     "text": [
      "dm_return(DM=-4.82361568360723, p_value=1.6842621390785762e-06)\n",
      "dm_return(DM=-3.415464026287498, p_value=0.0006684253962873969)\n",
      "dm_return(DM=-4.824812903697487, p_value=1.6744583862523418e-06)\n",
      "dm_return(DM=-4.654914812440706, p_value=3.7858872935379722e-06)\n"
     ]
    }
   ],
   "source": [
    "# EARCH\n",
    "print(DM_test(MY, MY_rw_5_earch, MY_rw_5_egarch, len(MY_rw_5_earch)))\n",
    "print(DM_test(MY, MY_rw_5_earch, MY_rw_5_igarch, len(MY_rw_5_earch)))\n",
    "print(DM_test(MY, MY_rw_5_earch, MY_rw_5_figarch, len(MY_rw_5_earch)))\n",
    "print(DM_test(MY, MY_rw_5_earch, MY_rw_5_figarch0633, len(MY_rw_5_earch)))"
   ]
  },
  {
   "cell_type": "code",
   "execution_count": 116,
   "id": "ad777037",
   "metadata": {},
   "outputs": [
    {
     "name": "stdout",
     "output_type": "stream",
     "text": [
      "dm_return(DM=-1.31589997753306, p_value=0.1885799082445903)\n",
      "dm_return(DM=-2.7384053477949215, p_value=0.006309333965405733)\n",
      "dm_return(DM=-2.429360306301861, p_value=0.015341957770308421)\n"
     ]
    }
   ],
   "source": [
    "# EGARCH\n",
    "print(DM_test(MY, MY_rw_5_egarch, MY_rw_5_igarch, len(MY_rw_5_egarch)))\n",
    "print(DM_test(MY, MY_rw_5_egarch, MY_rw_5_figarch, len(MY_rw_5_egarch)))\n",
    "print(DM_test(MY, MY_rw_5_egarch, MY_rw_5_figarch0633, len(MY_rw_5_egarch)))"
   ]
  },
  {
   "cell_type": "code",
   "execution_count": 117,
   "id": "1ebbdedd",
   "metadata": {},
   "outputs": [
    {
     "name": "stdout",
     "output_type": "stream",
     "text": [
      "dm_return(DM=0.9332165051042648, p_value=0.35098628545263855)\n",
      "dm_return(DM=0.35760545912793235, p_value=0.7207317501505643)\n"
     ]
    }
   ],
   "source": [
    "# IGARCH\n",
    "print(DM_test(MY, MY_rw_5_igarch, MY_rw_5_figarch,  len(MY_rw_5_igarch)))\n",
    "print(DM_test(MY, MY_rw_5_igarch, MY_rw_5_figarch0633, len(MY_rw_5_igarch)))"
   ]
  },
  {
   "cell_type": "code",
   "execution_count": 118,
   "id": "6849300c",
   "metadata": {},
   "outputs": [
    {
     "name": "stdout",
     "output_type": "stream",
     "text": [
      "dm_return(DM=-2.065786341432731, p_value=0.03916616744666534)\n"
     ]
    }
   ],
   "source": [
    "# FIGARCH\n",
    "print(DM_test(MY, MY_rw_5_figarch, MY_rw_5_figarch0633, len(MY_rw_5_figarch)))"
   ]
  }
 ],
 "metadata": {
  "kernelspec": {
   "display_name": "Python 3",
   "language": "python",
   "name": "python3"
  },
  "language_info": {
   "codemirror_mode": {
    "name": "ipython",
    "version": 3
   },
   "file_extension": ".py",
   "mimetype": "text/x-python",
   "name": "python",
   "nbconvert_exporter": "python",
   "pygments_lexer": "ipython3",
   "version": "3.8.8"
  }
 },
 "nbformat": 4,
 "nbformat_minor": 5
}

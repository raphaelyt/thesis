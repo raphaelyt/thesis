{
 "cells": [
  {
   "cell_type": "markdown",
   "id": "81f0211c",
   "metadata": {},
   "source": [
    "# Imported Packages"
   ]
  },
  {
   "cell_type": "code",
   "execution_count": null,
   "id": "24ef0725",
   "metadata": {},
   "outputs": [],
   "source": [
    "import pandas as pd\n",
    "import matplotlib.pyplot as plt\n",
    "from arch import arch_model #GARCH Models\n",
    "from statsmodels.graphics.tsaplots import plot_acf, plot_pacf\n",
    "import numpy as np\n",
    "import math\n",
    "from statistics import NormalDist\n",
    "from scipy.stats import t\n",
    "from datetime import datetime\n",
    "from scipy.stats import shapiro #Shapiro Test\n",
    "from scipy import stats #t-test\n",
    "import statsmodels.api as sm #Ljung-Box Test\n",
    "from scipy.stats import chi2"
   ]
  },
  {
   "cell_type": "markdown",
   "id": "e5a555ec",
   "metadata": {},
   "source": [
    "# Data"
   ]
  },
  {
   "cell_type": "code",
   "execution_count": null,
   "id": "35d41b10",
   "metadata": {},
   "outputs": [],
   "source": [
    "start_date = '2006-01-01' #yyyy-mm-dd\n",
    "end_date = '2021-01-01'\n",
    "\n",
    "\n",
    "#Philippines\n",
    "PH = pd.read_csv('https://raw.githubusercontent.com/raphaelyt/thesis199.11/main/data/2006-2021/PSEi.csv')\n",
    "PH['Date'] = pd.to_datetime(PH['Date'])\n",
    "PH = PH.rename(columns={'Price': 'Close'})\n",
    "PH = PH.replace(',','', regex=True)\n",
    "PH['Close'] = PH['Close'].astype(float, errors = 'raise')\n",
    "mask = (PH['Date'] >= start_date) & (PH['Date'] <= end_date)\n",
    "PH = PH.loc[mask]\n",
    "PH = PH.set_index('Date')\n",
    "PH = PH.sort_index(axis=0, ascending = False)\n",
    "\n",
    "#Malaysia\n",
    "MY = pd.read_csv('https://raw.githubusercontent.com/raphaelyt/thesis199.11/main/data/2006-2021/%5EKLSE.csv')\n",
    "MY['Date'] = pd.to_datetime(MY['Date'])\n",
    "MY = MY.rename(columns={'Price': 'Close'})\n",
    "MY = MY.replace(',','', regex=True)\n",
    "MY['Close'] = MY['Close'].astype(float, errors = 'raise')\n",
    "mask = (MY['Date'] >= start_date) & (MY['Date'] <= end_date)\n",
    "MY = MY.loc[mask]\n",
    "MY = MY.set_index('Date')\n",
    "MY = MY.sort_index(axis=0, ascending = False)\n",
    "\n",
    "#Signapore\n",
    "SG = pd.read_csv('https://raw.githubusercontent.com/raphaelyt/thesis199.11/main/data/2006-2021/STI.csv')\n",
    "SG['Date'] = pd.to_datetime(SG['Date'])\n",
    "SG = SG.replace(',','', regex=True)\n",
    "SG['Close'] = SG['Close'].astype(float, errors = 'raise')\n",
    "mask = (SG['Date'] >= start_date) & (SG['Date'] <= end_date)\n",
    "SG = SG.loc[mask]\n",
    "SG= SG.set_index('Date')\n",
    "SG = SG.sort_index(axis=0, ascending = False)\n",
    "\n",
    "#Thailand\n",
    "TH = pd.read_csv('https://raw.githubusercontent.com/raphaelyt/thesis199.11/main/data/2006-2021/SETi.csv')\n",
    "TH['Date'] = pd.to_datetime(TH['Date'])\n",
    "TH = TH.rename(columns={'Price': 'Close'})\n",
    "TH = TH.replace(',','', regex=True)\n",
    "TH['Close'] = TH['Close'].astype(float, errors = 'raise')\n",
    "mask = (TH['Date'] >= start_date) & (TH['Date'] <= end_date)\n",
    "TH = TH.loc[mask]\n",
    "TH= TH.set_index('Date')\n",
    "TH = TH.sort_index(axis=0, ascending = False)\n",
    "\n",
    "#Vietnam\n",
    "VT = pd.read_csv('https://raw.githubusercontent.com/raphaelyt/thesis199.11/main/data/2006-2021/HNX.csv')\n",
    "VT['Date'] = pd.to_datetime(VT['Date'])\n",
    "VT = VT.rename(columns={'Price': 'Close'})\n",
    "VT = VT.replace(',','', regex=True)\n",
    "VT['Close'] = VT['Close'].astype(float, errors = 'raise')\n",
    "mask = (VT['Date'] >= start_date) & (VT['Date'] <= end_date)\n",
    "VT = VT.loc[mask]\n",
    "VT= VT.set_index('Date')\n",
    "VT = VT.sort_index(axis=0, ascending = False)"
   ]
  },
  {
   "cell_type": "markdown",
   "id": "b6f845d9",
   "metadata": {},
   "source": [
    "# Logarithmic Returns"
   ]
  },
  {
   "cell_type": "code",
   "execution_count": null,
   "id": "6103e9b5",
   "metadata": {},
   "outputs": [],
   "source": [
    "# Logarithmic Returns\n",
    "\n",
    "def get_returns(df,d):\n",
    "    '''\n",
    "    The function obtains the log returns of the asset shifted d days\n",
    "    \n",
    "    PARAMETERS\n",
    "    ----------\n",
    "    df : pandas.DataFrame\n",
    "        The data frame contains data of a chosen stock index \n",
    "        (Stock index must be arrange in DESCENDING ORDER by DATE)\n",
    "    d : int\n",
    "        The dth day being forecast\n",
    "        (Assumed to be 1 for most cases)\n",
    "        \n",
    "    RETURNS\n",
    "    -------\n",
    "    df : pandas.DataFrame\n",
    "        The data frame returns an updated data frame containing the\n",
    "        'Returns' column\n",
    "    '''\n",
    "    df['Previous'] = df['Close'].shift(-d)\n",
    "    df['Returns'] = np.log(df['Close']/df['Previous'])*100\n",
    "    display(df)\n",
    "    return df\n",
    "\n",
    "PH = get_returns(PH, 1)\n",
    "MY = get_returns(MY, 1)\n",
    "SG = get_returns(SG, 1)\n",
    "TH = get_returns(TH, 1)\n",
    "VT = get_returns(VT, 1)"
   ]
  },
  {
   "cell_type": "markdown",
   "id": "fcb65771",
   "metadata": {},
   "source": [
    "# Visualization of the Returns"
   ]
  },
  {
   "cell_type": "code",
   "execution_count": null,
   "id": "764e94d4",
   "metadata": {},
   "outputs": [],
   "source": [
    "# Visualization of the Returns\n",
    "\n",
    "plt.figure(figsize=(10,4))\n",
    "plt.plot(PH['Returns'])\n",
    "plt.ylabel('Log Returns')\n",
    "plt.title('PH (Actual Returns)', fontsize=20)\n",
    "plt.legend(['Actual Returns'], fontsize=16)\n",
    "\n",
    "plt.figure(figsize=(10,4))\n",
    "plt.plot(MY['Returns'])\n",
    "plt.ylabel('Log Returns')\n",
    "plt.title('MY (Actual Returns)', fontsize=20)\n",
    "plt.legend(['Actual Returns'], fontsize=16)\n",
    "\n",
    "plt.figure(figsize=(10,4))\n",
    "plt.plot(SG['Returns'])\n",
    "plt.ylabel('Log Returns')\n",
    "plt.title('SG (Actual Returns)', fontsize=20)\n",
    "plt.legend(['Actual Returns'], fontsize=16)\n",
    "\n",
    "plt.figure(figsize=(10,4))\n",
    "plt.plot(TH['Returns'])\n",
    "plt.ylabel('Log Returns')\n",
    "plt.title('TH (Actual Returns)', fontsize=20)\n",
    "plt.legend(['Actual Returns'], fontsize=16)\n",
    "\n",
    "plt.figure(figsize=(10,4))\n",
    "plt.plot(VT['Returns'])\n",
    "plt.ylabel('Log Returns')\n",
    "plt.title('VT (Actual Returns)', fontsize=20)\n",
    "plt.legend(['Actual Returns'], fontsize=16)"
   ]
  },
  {
   "cell_type": "markdown",
   "id": "ea644cd1",
   "metadata": {},
   "source": [
    "# ACF"
   ]
  },
  {
   "cell_type": "code",
   "execution_count": 4,
   "id": "1d9f1194",
   "metadata": {},
   "outputs": [
    {
     "name": "stdout",
     "output_type": "stream",
     "text": [
      "Figure(432x288)\n",
      "Figure(432x288)\n",
      "Figure(432x288)\n",
      "Figure(432x288)\n",
      "Figure(432x288)\n"
     ]
    },
    {
     "data": {
      "image/png": "[encoded data removed]",
      "text/plain": [
       "<Figure size 432x288 with 1 Axes>"
      ]
     },
     "metadata": {
      "needs_background": "light"
     },
     "output_type": "display_data"
    },
    {
     "data": {
      "image/png": "[encoded data removed]",
      "text/plain": [
       "<Figure size 432x288 with 1 Axes>"
      ]
     },
     "metadata": {
      "needs_background": "light"
     },
     "output_type": "display_data"
    },
    {
     "data": {
      "image/png": "[encoded data removed]",
      "text/plain": [
       "<Figure size 432x288 with 1 Axes>"
      ]
     },
     "metadata": {
      "needs_background": "light"
     },
     "output_type": "display_data"
    },
    {
     "data": {
      "image/png": "[encoded data removed]",
      "text/plain": [
       "<Figure size 432x288 with 1 Axes>"
      ]
     },
     "metadata": {
      "needs_background": "light"
     },
     "output_type": "display_data"
    },
    {
     "data": {
      "image/png": "[encoded data removed]",
      "text/plain": [
       "<Figure size 432x288 with 1 Axes>"
      ]
     },
     "metadata": {
      "needs_background": "light"
     },
     "output_type": "display_data"
    }
   ],
   "source": [
    "#Creating an ACF\n",
    "def stock_ACF(df):\n",
    "    return plot_acf(df['Returns'], lags = None, alpha = 0.05, title = 'Autocorrelation ', zero = True)\n",
    "\n",
    "# PSEI_PS_ACF = stock_ACF(PSEI_PS)\n",
    "# print(PSEI_PS_ACF)\n",
    "\n",
    "print(stock_ACF(PH))\n",
    "print(stock_ACF(MY))\n",
    "print(stock_ACF(SG))\n",
    "print(stock_ACF(TH))\n",
    "print(stock_ACF(VT))"
   ]
  },
  {
   "cell_type": "markdown",
   "id": "e1e0304b",
   "metadata": {},
   "source": [
    "# PACF"
   ]
  },
  {
   "cell_type": "code",
   "execution_count": 5,
   "id": "516b9019",
   "metadata": {},
   "outputs": [
    {
     "name": "stdout",
     "output_type": "stream",
     "text": [
      "Figure(432x288)\n",
      "Figure(432x288)\n",
      "Figure(432x288)\n",
      "Figure(432x288)\n",
      "Figure(432x288)\n"
     ]
    },
    {
     "data": {
      "image/png": "[encoded data removed]",
      "text/plain": [
       "<Figure size 432x288 with 1 Axes>"
      ]
     },
     "metadata": {
      "needs_background": "light"
     },
     "output_type": "display_data"
    },
    {
     "data": {
      "image/png": "[encoded data removed]",
      "text/plain": [
       "<Figure size 432x288 with 1 Axes>"
      ]
     },
     "metadata": {
      "needs_background": "light"
     },
     "output_type": "display_data"
    },
    {
     "data": {
      "image/png": "[encoded data removed]",
      "text/plain": [
       "<Figure size 432x288 with 1 Axes>"
      ]
     },
     "metadata": {
      "needs_background": "light"
     },
     "output_type": "display_data"
    },
    {
     "data": {
      "image/png": "[encoded data removed]",
      "text/plain": [
       "<Figure size 432x288 with 1 Axes>"
      ]
     },
     "metadata": {
      "needs_background": "light"
     },
     "output_type": "display_data"
    },
    {
     "data": {
      "image/png": "[encoded data removed]",
      "text/plain": [
       "<Figure size 432x288 with 1 Axes>"
      ]
     },
     "metadata": {
      "needs_background": "light"
     },
     "output_type": "display_data"
    }
   ],
   "source": [
    "#Creating a PACF\n",
    "def stock_PACF(df):\n",
    "    return plot_pacf(df['Returns'], lags = None, alpha = 0.05, method = None,title = 'Partial AutoCorrelation',zero = True)\n",
    "\n",
    "# PSEI_PS_PACF = stock_PACF(PSEI_PS)\n",
    "# print(PSEI_PS_PACF)\n",
    "print(stock_PACF(PH))\n",
    "print(stock_PACF(MY))\n",
    "print(stock_PACF(SG))\n",
    "print(stock_PACF(TH))\n",
    "print(stock_PACF(VT))"
   ]
  },
  {
   "cell_type": "markdown",
   "id": "9958a0a9",
   "metadata": {},
   "source": [
    "# Dump Code"
   ]
  },
  {
   "cell_type": "code",
   "execution_count": 30,
   "id": "d7f2d3cc",
   "metadata": {},
   "outputs": [],
   "source": [
    "# PH['Returns'][1:]"
   ]
  },
  {
   "cell_type": "code",
   "execution_count": 31,
   "id": "b4412355",
   "metadata": {},
   "outputs": [],
   "source": [
    "# PSEI_PS.index.inferred_type == \"datetime64\"\n",
    "# PSEI_PS.index = pd.to_datetime(PSEI_PS.index)\n",
    "# plt.figure(figsize=(10,5))\n",
    "# plt.plot(PSEI_PS['Returns'])\n",
    "# plt.ylabel('Log Returns', fontsize=16)\n",
    "# plt.title('PSEI.PS Returns', fontsize=20)\n"
   ]
  },
  {
   "cell_type": "code",
   "execution_count": 32,
   "id": "dccfd7aa",
   "metadata": {},
   "outputs": [],
   "source": [
    "# def residuals_function(df, d = 1):\n",
    "#     mu_lst = []\n",
    "#     df = df.reset_index()\n",
    "#     for i in range(len(df['Returns'])-d):\n",
    "#         mu = np.nansum(df['Returns'].iloc[i:])/len(df['Returns'].iloc[i:])\n",
    "#         mu_lst.append(mu)\n",
    "#     mu_df= pd.DataFrame(mu_lst, columns = ['Mu'])\n",
    "#     mu_df = mu_df.iloc[:-d]\n",
    "#     df = pd.merge(df, mu_df, left_index = True, right_index = True)\n",
    "#     df['Residuals'] = df['Returns'] - df['Mu']\n",
    "#     display(df)\n",
    "#     return df\n",
    "# PSEI_PS = residuals_function(PSEI_PS, d = 1)\n"
   ]
  },
  {
   "cell_type": "code",
   "execution_count": 16,
   "id": "c1a14f88",
   "metadata": {},
   "outputs": [],
   "source": [
    "# #Absolute Returns\n",
    "\n",
    "# test_size = 365\n",
    "\n",
    "# #Philippines\n",
    "# plt.figure(figsize=(10,4))\n",
    "# plt.plot(abs(PH['Returns'][:test_size]*100))\n",
    "# plt.plot(-PH_rw_df)\n",
    "# plt.plot(PH_sigma_df)\n",
    "# plt.title('Volatility Prediction - Rolling Forecast', fontsize=20)\n",
    "# plt.legend(['True Returns', 'Predicted VaR', 'Predicted Volatility'], fontsize=16)\n",
    "\n",
    "# #Malaysia\n",
    "# plt.figure(figsize=(10,4))\n",
    "# plt.plot(abs(MY['Returns'][:test_size]*100))\n",
    "# plt.plot(-MY_rw_df)\n",
    "# plt.plot(MY_sigma_df)\n",
    "# plt.title('Volatility Prediction - Rolling Forecast', fontsize=20)\n",
    "# plt.legend(['True Returns', 'Predicted VaR', 'Predicted Volatility'], fontsize=16)\n",
    "\n",
    "# #Singapore\n",
    "# plt.figure(figsize=(10,4))\n",
    "# plt.plot(abs(SG['Returns'][:test_size]*100))\n",
    "# plt.plot(-SG_rw_df)\n",
    "# plt.plot(SG_sigma_df)\n",
    "# plt.title('Volatility Prediction - Rolling Forecast', fontsize=20)\n",
    "# plt.legend(['True Returns', 'Predicted VaR', 'Predicted Volatility'], fontsize=16)\n",
    "\n",
    "# #Thailand\n",
    "# plt.figure(figsize=(10,4))\n",
    "# plt.plot(abs(TH['Returns'][:test_size]*100))\n",
    "# plt.plot(-TH_rw_df)\n",
    "# plt.plot(TH_sigma_df)\n",
    "# plt.title('Volatility Prediction - Rolling Forecast', fontsize=20)\n",
    "# plt.legend(['True Returns', 'Predicted VaR', 'Predicted Volatility'], fontsize=16)\n",
    "\n",
    "# #Vietnam\n",
    "# plt.figure(figsize=(10,4))\n",
    "# plt.plot(abs(VT['Returns'][:test_size]*100))\n",
    "# plt.plot(-VT_rw_df)\n",
    "# plt.plot(VT_sigma_df)\n",
    "# plt.title('Volatility Prediction - Rolling Forecast', fontsize=20)\n",
    "# plt.legend(['True Returns', 'Predicted VaR', 'Predicted Volatility'], fontsize=16)"
   ]
  },
  {
   "cell_type": "code",
   "execution_count": 33,
   "id": "0ea082da",
   "metadata": {},
   "outputs": [],
   "source": [
    "# PSEI_PS = PSEI_PS.set_index('Date')\n",
    "# plt.plot(PSEI_PS['Residuals'])\n",
    "# plt.ylabel('Log Return', fontsize=16)\n",
    "# plt.title('PSEI.PS Residuals', fontsize=20)"
   ]
  },
  {
   "cell_type": "code",
   "execution_count": 34,
   "id": "2ac140f4",
   "metadata": {},
   "outputs": [],
   "source": [
    "# df = PSEI_PS_resid*100 \n",
    "# test_size =247\n",
    "# d = 1 \n",
    "\n",
    "# sigma_lst = []\n",
    "# for i in range(len(df)-test_size):\n",
    "#     temp_df = df[-(test_size+i):-(i+1)]\n",
    "#     model = arch_model(temp_df, p=1, q=2, rescale=False)\n",
    "#     model_fit = model.fit(disp='off')\n",
    "#     pred = model_fit.forecast(horizon=d, reindex = False).variance\n",
    "#     sigma_lst.append(np.sqrt(pred.values[0,0]))\n",
    "# sigma_lst = sigma_lst[::-1]\n",
    "# sigma_lst*PSEI_PS_params[0]"
   ]
  },
  {
   "cell_type": "code",
   "execution_count": 35,
   "id": "2921fb3c",
   "metadata": {},
   "outputs": [],
   "source": [
    "# a = NormalDist().inv_cdf(1-0.05)\n",
    "# type(a)"
   ]
  },
  {
   "cell_type": "code",
   "execution_count": 36,
   "id": "8eeb0352",
   "metadata": {},
   "outputs": [],
   "source": [
    "# a*np.array(sigma_lst) +PSEI_PS_mean.iloc[:-247]*100"
   ]
  },
  {
   "cell_type": "code",
   "execution_count": 37,
   "id": "d21ff4a8",
   "metadata": {},
   "outputs": [],
   "source": [
    "# test_size = 971\n",
    "# alpha = 0.05\n",
    "\n",
    "# PH_1 = PH[::-1]\n",
    "# returns = PH_1['Returns']\n",
    "# sigma_lst = []\n",
    "# date_df = PH_1.iloc[:test_size]\n",
    "# date_df = date_df.reset_index()\n",
    "# date_df = date_df.filter(['Date'])\n",
    "# for i in range(test_size):\n",
    "#     df = PH_1['Returns'][:-test_size+i]\n",
    "#     model = arch_model(df, p = 1, q = 1, rescale = False)\n",
    "#     model_fit = model.fit(disp='off')\n",
    "#     pred = model_fit.forecast(horizon=1, reindex = False)\n",
    "#     sigma_lst.append(np.sqrt(pred.variance.values[-1,:][0]))\n",
    "# sigma_df = pd.Series(sigma_lst, index=returns.index[-test_size:])\n",
    "# VaR_df = -NormalDist().inv_cdf(1-alpha)*sigma_df"
   ]
  },
  {
   "cell_type": "code",
   "execution_count": 38,
   "id": "4a2cc741",
   "metadata": {},
   "outputs": [],
   "source": [
    "# for i in range(test_size):\n",
    "#     train = returns[:-(test_size-i)]\n",
    "#     model = arch_model(train, p=1, q=2)\n",
    "#     model_fit = model.fit(disp='off')\n",
    "#     pred = model_fit.forecast(horizon=1, reindex = False)\n",
    "#     rolling_predictions.append(np.sqrt(pred.variance.values[-1,:][0]))"
   ]
  },
  {
   "cell_type": "code",
   "execution_count": 39,
   "id": "91810e15",
   "metadata": {},
   "outputs": [],
   "source": [
    "# df = PSEI_PS_resid\n",
    "# rw_df = pd.DataFrame(rw_df, columns = ['Forecasted VaR'])\n",
    "# date_df = df.iloc[:-test_size]\n",
    "# date_df = date_df.reset_index()\n",
    "# date_df = date_df.filter(['Date'])\n",
    "# rw_df = pd.merge(date_df, rw_df, left_index = True, right_index = True).set_index(['Date'])"
   ]
  }
 ],
 "metadata": {
  "celltoolbar": "Raw Cell Format",
  "kernelspec": {
   "display_name": "Python 3",
   "language": "python",
   "name": "python3"
  },
  "language_info": {
   "codemirror_mode": {
    "name": "ipython",
    "version": 3
   },
   "file_extension": ".py",
   "mimetype": "text/x-python",
   "name": "python",
   "nbconvert_exporter": "python",
   "pygments_lexer": "ipython3",
   "version": "3.8.8"
  }
 },
 "nbformat": 4,
 "nbformat_minor": 5
}

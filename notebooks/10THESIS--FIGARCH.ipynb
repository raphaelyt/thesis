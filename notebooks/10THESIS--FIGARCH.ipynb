{
 "cells": [
  {
   "cell_type": "markdown",
   "id": "b3fe6dbc",
   "metadata": {},
   "source": [
    "# Imported Packages"
   ]
  },
  {
   "cell_type": "code",
   "execution_count": null,
   "id": "b1f48c3c",
   "metadata": {},
   "outputs": [],
   "source": [
    "import pandas as pd\n",
    "import matplotlib.pyplot as plt\n",
    "from arch import arch_model #GARCH Models\n",
    "from statsmodels.graphics.tsaplots import plot_acf, plot_pacf\n",
    "import numpy as np\n",
    "import math\n",
    "from statistics import NormalDist\n",
    "from scipy.stats import t\n",
    "from datetime import datetime\n",
    "from scipy.stats import shapiro #Shapiro Test\n",
    "from scipy import stats #t-test\n",
    "import statsmodels.api as sm #Ljung-Box Test\n",
    "from scipy.stats import chi2\n",
    "import os"
   ]
  },
  {
   "cell_type": "code",
   "execution_count": null,
   "id": "3d463c86",
   "metadata": {},
   "outputs": [],
   "source": [
    "dir_name = \"/Users/raph/Desktop/Data/Pred20/\"\n",
    "plt.rcParams[\"figure.figsize\"] = [7.50, 3.50]\n",
    "plt.rcParams[\"figure.autolayout\"] = True\n",
    "plt.rcParams[\"savefig.directory\"] = os.chdir(os.path.dirname(dir_name))"
   ]
  },
  {
   "cell_type": "markdown",
   "id": "9fb4b7d7",
   "metadata": {},
   "source": [
    "# Data"
   ]
  },
  {
   "cell_type": "code",
   "execution_count": null,
   "id": "00572533",
   "metadata": {},
   "outputs": [],
   "source": [
    "start_date = '2006-01-01' #yyyy-mm-dd\n",
    "end_date = '2022-01-01'\n",
    "\n",
    "\n",
    "#Philippines\n",
    "PH = pd.read_csv('https://raw.githubusercontent.com/raphaelyt/thesis199.11/main/data/2006-2021/PSEi.csv')\n",
    "PH['Date'] = pd.to_datetime(PH['Date'])\n",
    "PH = PH.rename(columns={'Price': 'Close'})\n",
    "PH = PH.replace(',','', regex=True)\n",
    "PH['Close'] = PH['Close'].astype(float, errors = 'raise')\n",
    "mask = (PH['Date'] >= start_date) & (PH['Date'] <= end_date)\n",
    "PH = PH.loc[mask]\n",
    "PH = PH.set_index('Date')\n",
    "PH = PH.sort_index(axis=0, ascending = False)\n",
    "#Malaysia\n",
    "MY = pd.read_csv('https://raw.githubusercontent.com/raphaelyt/thesis199.11/main/data/2006-2021/%5EKLSE.csv')\n",
    "MY['Date'] = pd.to_datetime(MY['Date'])\n",
    "MY = MY.rename(columns={'Price': 'Close'})\n",
    "MY = MY.replace(',','', regex=True)\n",
    "MY['Close'] = MY['Close'].astype(float, errors = 'raise')\n",
    "mask = (MY['Date'] >= start_date) & (MY['Date'] <= end_date)\n",
    "MY = MY.loc[mask]\n",
    "MY = MY.set_index('Date')\n",
    "MY = MY.sort_index(axis=0, ascending = False).dropna()\n",
    "\n",
    "#Signapore\n",
    "SG = pd.read_csv('https://raw.githubusercontent.com/raphaelyt/thesis199.11/main/data/2006-2021/STI.csv')\n",
    "SG['Date'] = pd.to_datetime(SG['Date'])\n",
    "SG = SG.replace(',','', regex=True)\n",
    "SG['Close'] = SG['Close'].astype(float, errors = 'raise')\n",
    "mask = (SG['Date'] >= start_date) & (SG['Date'] <= end_date)\n",
    "SG = SG.loc[mask]\n",
    "SG= SG.set_index('Date')\n",
    "SG = SG.sort_index(axis=0, ascending = False).dropna()\n",
    "\n",
    "#Thailand\n",
    "TH = pd.read_csv('https://raw.githubusercontent.com/raphaelyt/thesis199.11/main/data/2006-2021/SETi.csv')\n",
    "TH['Date'] = pd.to_datetime(TH['Date'])\n",
    "TH = TH.rename(columns={'Price': 'Close'})\n",
    "TH = TH.replace(',','', regex=True)\n",
    "TH['Close'] = TH['Close'].astype(float, errors = 'raise')\n",
    "mask = (TH['Date'] >= start_date) & (TH['Date'] <= end_date)\n",
    "TH = TH.loc[mask]\n",
    "TH= TH.set_index('Date')\n",
    "TH = TH.sort_index(axis=0, ascending = False).dropna()\n",
    "\n",
    "#Vietnam\n",
    "VT = pd.read_csv('https://raw.githubusercontent.com/raphaelyt/thesis199.11/main/data/2006-2021/HNX.csv')\n",
    "VT['Date'] = pd.to_datetime(VT['Date'])\n",
    "VT = VT.rename(columns={'Price': 'Close'})\n",
    "VT = VT.replace(',','', regex=True)\n",
    "VT['Close'] = VT['Close'].astype(float, errors = 'raise')\n",
    "mask = (VT['Date'] >= start_date) & (VT['Date'] <= end_date)\n",
    "VT = VT.loc[mask]\n",
    "VT= VT.set_index('Date')\n",
    "VT = VT.sort_index(axis=0, ascending = False).dropna()"
   ]
  },
  {
   "cell_type": "markdown",
   "id": "9edc4532",
   "metadata": {},
   "source": [
    "# Logarithmic Returns"
   ]
  },
  {
   "cell_type": "code",
   "execution_count": null,
   "id": "399ebdbe",
   "metadata": {},
   "outputs": [],
   "source": [
    "def get_returns(df,d):\n",
    "    '''\n",
    "    The function obtains the log returns of the asset shifted d days\n",
    "    \n",
    "    PARAMETERS\n",
    "    ----------\n",
    "    df : pandas.DataFrame\n",
    "        The data frame contains data of a chosen stock index \n",
    "        (Stock index must be arrange in DESCENDING ORDER by DATE)\n",
    "    d : int\n",
    "        The dth day being forecast\n",
    "        (Assumed to be 1 for most cases)\n",
    "        \n",
    "    RETURNS\n",
    "    -------\n",
    "    df : pandas.DataFrame\n",
    "        The data frame returns an updated data frame containing the\n",
    "        'Returns' column\n",
    "    '''\n",
    "    df['Previous'] = df['Close'].shift(-d)\n",
    "    df['Returns'] = np.log(df['Close']/df['Previous'])*100\n",
    "    return df.dropna(subset = ['Returns'], how = 'all')\n",
    "\n",
    "PH = get_returns(PH, 1)\n",
    "MY = get_returns(MY, 1)\n",
    "SG = get_returns(SG, 1)\n",
    "TH = get_returns(TH, 1)\n",
    "VT = get_returns(VT, 1)"
   ]
  },
  {
   "cell_type": "markdown",
   "id": "a899ad12",
   "metadata": {},
   "source": [
    "# Determining the Order of the GARCH Model (Standard is GARCH(1, 1))\n",
    "## Parameters"
   ]
  },
  {
   "cell_type": "code",
   "execution_count": null,
   "id": "dd92368e",
   "metadata": {},
   "outputs": [],
   "source": [
    "vol = 'FIGARCH'\n",
    "p = 1\n",
    "q = 1"
   ]
  },
  {
   "cell_type": "code",
   "execution_count": null,
   "id": "ec1933c6",
   "metadata": {},
   "outputs": [],
   "source": [
    "def fit_params(df, vol,  p = None, q = None):\n",
    "    returns = df['Returns']\n",
    "    model = arch_model(returns, vol = vol, p = p, q = q, rescale = False)\n",
    "    fit = model.fit(disp = 'off')\n",
    "    params = fit.params\n",
    "    resid = fit.resid\n",
    "    condv = fit.conditional_volatility\n",
    "    return fit, params, resid, condv\n",
    "\n",
    "PH_fit_fi, PH_params_fi, PH_resid_fi, PH_condv_fi = fit_params(PH, vol, p, q)\n",
    "MY_fit_fi, MY_params_fi, MY_resid_fi, MY_condv_fi = fit_params(MY, vol, p, q)\n",
    "SG_fit_fi, SG_params_fi, SG_resid_fi, SG_condv_fi = fit_params(SG, vol, p, q)\n",
    "TH_fit_fi, TH_params_fi, TH_resid_fi, TH_condv_fi = fit_params(TH, vol, p, q)\n",
    "VT_fit_fi, VT_params_fi, VT_resid_fi, VT_condv_fi = fit_params(VT, vol, p, q)"
   ]
  },
  {
   "cell_type": "markdown",
   "id": "59035efc",
   "metadata": {},
   "source": [
    "# Verifying Order Determination (Ljung-Box Test)"
   ]
  },
  {
   "cell_type": "code",
   "execution_count": null,
   "id": "0b2a29fb",
   "metadata": {},
   "outputs": [],
   "source": [
    "#Philippines\n",
    "print(sm.stats.acorr_ljungbox((PH_resid_fi**2).dropna(), lags=[20], return_df=True))\n",
    "\n",
    "#Malaysia\n",
    "print(sm.stats.acorr_ljungbox((MY_resid_fi**2).dropna(), lags=[20], return_df=True))\n",
    "\n",
    "#Singapore\n",
    "print(sm.stats.acorr_ljungbox((SG_resid_fi**2).dropna(), lags=[20], return_df=True))\n",
    "\n",
    "#Thailand\n",
    "print(sm.stats.acorr_ljungbox((TH_resid_fi**2).dropna(), lags=[20], return_df=True))\n",
    "\n",
    "#Vietnam\n",
    "print(sm.stats.acorr_ljungbox((VT_resid_fi**2).dropna(), lags=[20], return_df=True))"
   ]
  },
  {
   "cell_type": "markdown",
   "id": "247699b2",
   "metadata": {},
   "source": [
    "# Estimating VaR \n",
    "## Obtaining the volatility\n",
    "### Conditional"
   ]
  },
  {
   "cell_type": "markdown",
   "id": "c771cba6",
   "metadata": {},
   "source": [
    "## Estimating VaR"
   ]
  },
  {
   "cell_type": "code",
   "execution_count": null,
   "id": "f9325314",
   "metadata": {},
   "outputs": [],
   "source": [
    "def get_VaR_FIGARCH(df, alpha, sigma, dist):\n",
    "    if dist == 'normal':\n",
    "        VaR = sigma*NormalDist().inv_cdf(1-alpha) #t.ppf(1-alpha, len(df['Returns'])-1 )\n",
    "    elif dist == 't':\n",
    "        VaR = sigma*t.ppf(1-alpha, len(df['Returns'])-1 )\n",
    "    return VaR\n",
    "\n",
    "def no_to_test(df, prediction_size):\n",
    "    return int(np.ceil(len(df)*prediction_size))"
   ]
  },
  {
   "cell_type": "markdown",
   "id": "bd527349",
   "metadata": {},
   "source": [
    "# Fixed Window\n",
    "## Parameters"
   ]
  },
  {
   "cell_type": "code",
   "execution_count": null,
   "id": "149f524f",
   "metadata": {},
   "outputs": [],
   "source": [
    "prediction_size = 0.2\n",
    "alpha = 0.05 #change\n",
    "vol = 'FIGARCH'\n",
    "d = 1\n",
    "dist = 'normal'\n",
    "p = 1\n",
    "q = 1\n",
    "name = 'FW-FI-5%'"
   ]
  },
  {
   "cell_type": "code",
   "execution_count": null,
   "id": "fba53e36",
   "metadata": {},
   "outputs": [],
   "source": [
    "def fixed_window(df, prediction_size, d, alpha, p, q, vol, dist):\n",
    "    test_size = no_to_test(df, prediction_size)\n",
    "    date_df = df.iloc[:test_size]\n",
    "    date_df = date_df.reset_index()\n",
    "    date_df = date_df.filter(['Date'])\n",
    "    df = df[::-1]\n",
    "    returns = df['Returns']\n",
    "    sigma_df = np.zeros((test_size, 1))\n",
    "    for i in range(test_size):\n",
    "        temp_df = returns[i:-(test_size-i)]\n",
    "        model = arch_model(temp_df, p=p, q=q, vol = vol, rescale=None)\n",
    "        fit = model.fit(disp='off')\n",
    "        pred = fit.forecast(horizon=d, reindex = False)\n",
    "        sigma_df[i] = (np.sqrt(pred.variance.values[-1,:][0]))\n",
    "    sigma_df = pd.DataFrame(sigma_df[::-1], columns = ['Volatility'])\n",
    "    sigma_df = pd.merge(date_df, sigma_df, left_index = True, right_index = True)\n",
    "    sigma_df.set_index('Date', inplace = True)\n",
    "    VaR_df = get_VaR_FIGARCH(df, alpha, sigma_df, dist)\n",
    "    return sigma_df, VaR_df\n",
    "\n",
    "\n",
    "# PH_sigma_df_fi, PH_fw_df_fi = fixed_window(PH, prediction_size,d, alpha,p,q, vol, dist)\n",
    "# MY_sigma_df_fi, MY_fw_df_fi = fixed_window(MY, prediction_size,d, alpha,p,q, vol, dist)\n",
    "# SG_sigma_df_fi, SG_fw_df_fi = fixed_window(SG, prediction_size,d, alpha,p,q, vol, dist)\n",
    "# TH_sigma_df_fi, TH_fw_df_fi = fixed_window(TH, prediction_size,d, alpha,p,q, vol, dist)\n",
    "# VT_sigma_df_fi, VT_fw_df_fi = fixed_window(VT, prediction_size,d, alpha,p,q, vol, dist)"
   ]
  },
  {
   "cell_type": "code",
   "execution_count": null,
   "id": "540cd6f0",
   "metadata": {},
   "outputs": [],
   "source": [
    "PH_sigma_df_fi, PH_fw_df_fi = fixed_window(PH, prediction_size,d, alpha,p,q, vol, dist)\n"
   ]
  },
  {
   "cell_type": "code",
   "execution_count": null,
   "id": "102bd11c",
   "metadata": {},
   "outputs": [],
   "source": [
    "MY_sigma_df_fi, MY_fw_df_fi = fixed_window(MY, prediction_size,d, alpha,p,q, vol, dist)\n"
   ]
  },
  {
   "cell_type": "code",
   "execution_count": null,
   "id": "95188bc7",
   "metadata": {},
   "outputs": [],
   "source": [
    "SG_sigma_df_fi, SG_fw_df_fi = fixed_window(SG, prediction_size,d, alpha,p,q, vol, dist)\n"
   ]
  },
  {
   "cell_type": "code",
   "execution_count": null,
   "id": "2b8b84a5",
   "metadata": {},
   "outputs": [],
   "source": [
    "TH_sigma_df_fi, TH_fw_df_fi = fixed_window(TH, prediction_size,d, alpha,p,q, vol, dist)\n"
   ]
  },
  {
   "cell_type": "code",
   "execution_count": null,
   "id": "023ef7cd",
   "metadata": {},
   "outputs": [],
   "source": [
    "VT_sigma_df_fi, VT_fw_df_fi = fixed_window(VT, prediction_size,d, alpha,p,q, vol, dist)\n"
   ]
  },
  {
   "cell_type": "code",
   "execution_count": null,
   "id": "a18363c0",
   "metadata": {},
   "outputs": [],
   "source": [
    "#Standard\n",
    "\n",
    "#Philippines\n",
    "plt.figure(figsize=(10,4))\n",
    "plt.plot(PH['Returns'][:no_to_test(PH,prediction_size)])\n",
    "plt.plot(-PH_fw_df_fi)\n",
    "plt.plot(PH_sigma_df_fi)\n",
    "plt.title('Volatility Prediction - Fixed Forecast', fontsize=20)\n",
    "plt.legend(['True Returns', 'Predicted VaR', 'Predicted Volatility'], fontsize=16)\n",
    "plt.savefig('PH_'+name+'.png')\n",
    "\n",
    "\n",
    "#Malaysia\n",
    "plt.figure(figsize=(10,4))\n",
    "plt.plot(MY['Returns'][:no_to_test(MY,prediction_size)])\n",
    "plt.plot(-MY_fw_df_fi)\n",
    "plt.plot(MY_sigma_df_fi)\n",
    "plt.title('Volatility Prediction - Fixed Forecast', fontsize=20)\n",
    "plt.legend(['True Returns', 'Predicted VaR', 'Predicted Volatility'], fontsize=16)\n",
    "plt.savefig('MY_'+name+'.png')\n",
    "\n",
    "#Singapore\n",
    "plt.figure(figsize=(10,4))\n",
    "plt.plot(SG['Returns'][:no_to_test(SG,prediction_size)])\n",
    "plt.plot(-SG_fw_df_fi)\n",
    "plt.plot(SG_sigma_df_fi)\n",
    "plt.title('Volatility Prediction - Fixed Forecast', fontsize=20)\n",
    "plt.legend(['True Returns', 'Predicted VaR', 'Predicted Volatility'], fontsize=16)\n",
    "plt.savefig('SG_'+name+'.png')\n",
    "\n",
    "#Thailand\n",
    "plt.figure(figsize=(10,4))\n",
    "plt.plot(TH['Returns'][:no_to_test(TH,prediction_size)])\n",
    "plt.plot(-TH_fw_df_fi)\n",
    "plt.plot(TH_sigma_df_fi)\n",
    "plt.title('Volatility Prediction - Fixed Forecast', fontsize=20)\n",
    "plt.legend(['True Returns', 'Predicted VaR', 'Predicted Volatility'], fontsize=16)\n",
    "plt.savefig('TH_'+name+'.png')\n",
    "\n",
    "#Vietnam\n",
    "plt.figure(figsize=(10,4))\n",
    "plt.plot(VT['Returns'][:no_to_test(VT,prediction_size)])\n",
    "plt.plot(-VT_fw_df_fi)\n",
    "plt.plot(VT_sigma_df_fi)\n",
    "plt.title('Volatility Prediction - Fixed Forecast', fontsize=20)\n",
    "plt.legend(['True Returns', 'Predicted VaR', 'Predicted Volatility'], fontsize=16)\n",
    "plt.savefig('VT_'+name+'.png')"
   ]
  },
  {
   "cell_type": "markdown",
   "id": "e149cf21",
   "metadata": {},
   "source": [
    "# VaR Violations FW"
   ]
  },
  {
   "cell_type": "code",
   "execution_count": null,
   "id": "e67e12f5",
   "metadata": {},
   "outputs": [],
   "source": [
    "def char_function(df, window, test_size, name):\n",
    "    '''\n",
    "    The function returns the number of VaR violations.\n",
    "    \n",
    "    PARAMETERS\n",
    "    ----------\n",
    "    df : pandas.DataFrame\n",
    "        The data frame contains data of a} chosen stock index \n",
    "        (Stock index must be arrange in DESCENDING ORDER by DATE)\n",
    "        (Data frames must be the same size)\n",
    "    window : pandas.DataFrame\n",
    "        The data frame contains the estimated (1-alpha)% d-day VaR from \n",
    "        time t = test size to current using the rolling time window \n",
    "        (Data frames must be the same size)\n",
    "        \n",
    "    RETURNS\n",
    "    -------\n",
    "    N : int\n",
    "        The value is the number of VaR violations\n",
    "    '''\n",
    "#     returns = abs(df['Returns'][:test_size].dropna())\n",
    "    test_size = no_to_test(df, prediction_size)\n",
    "    returns = df['Returns'][:test_size]\n",
    "    f_returns = window.values\n",
    "    N = 0\n",
    "    violation_lst = []\n",
    "    for i, j in zip(returns, f_returns):\n",
    "        if i < -j :\n",
    "            violation_lst.append(1)\n",
    "            N += 1 \n",
    "        else:\n",
    "            violation_lst.append(0)\n",
    "    violations = pd.Series(violation_lst, index = returns.index, name = name)\n",
    "    df = df.join(violations)\n",
    "    display(N)\n",
    "    return df, N\n",
    "\n",
    "#Philippines\n",
    "PH, PH_N_fw_fi = char_function(PH, PH_fw_df_fi, prediction_size, name)\n",
    "\n",
    "#Malaysia\n",
    "MY, MY_N_fw_fi = char_function(MY, MY_fw_df_fi, prediction_size, name)\n",
    "\n",
    "#Singapore\n",
    "SG, SG_N_fw_fi = char_function(SG, SG_fw_df_fi, prediction_size, name)\n",
    "    \n",
    "#Thailand\n",
    "TH, TH_N_fw_fi = char_function(TH, TH_fw_df_fi, prediction_size, name)\n",
    "\n",
    "#Vietnam\n",
    "VT, VT_N_fw_fi = char_function(VT, VT_fw_df_fi, prediction_size, name)"
   ]
  },
  {
   "cell_type": "markdown",
   "id": "412a5f3b",
   "metadata": {},
   "source": [
    "# Rolling Window\n",
    "## Parameters"
   ]
  },
  {
   "cell_type": "code",
   "execution_count": null,
   "id": "baaa45ae",
   "metadata": {},
   "outputs": [],
   "source": [
    "prediction_size = 0.2\n",
    "alpha = 0.05\n",
    "d = 1\n",
    "p = 1\n",
    "q = 1\n",
    "dist = 'normal'\n",
    "vol = 'FIGARCH'\n",
    "name = 'RW-FI-5%'"
   ]
  },
  {
   "cell_type": "code",
   "execution_count": null,
   "id": "d212ca29",
   "metadata": {},
   "outputs": [],
   "source": [
    "def rolling_window(df, test_size, d, alpha, p, q, vol, dist):\n",
    "    test_size = no_to_test(df, prediction_size)\n",
    "    date_df = df.iloc[:test_size]\n",
    "    date_df = date_df.reset_index()\n",
    "    date_df = date_df.filter(['Date'])\n",
    "    df = df[::-1]\n",
    "    returns = df['Returns']\n",
    "    sigma_df = np.zeros((test_size, 1))\n",
    "    for i in range(test_size):\n",
    "        temp_df = returns[:-(test_size-i)]\n",
    "        model = arch_model(temp_df, p=p, q=q, vol = vol , rescale=None)\n",
    "        fit = model.fit(disp='off')\n",
    "        pred = fit.forecast(horizon=d, reindex = False)\n",
    "        sigma_df[i] = (np.sqrt(pred.variance.values[-1,:][0]))\n",
    "    sigma_df = pd.DataFrame(sigma_df[::-1], columns = ['Volatility'])\n",
    "    sigma_df = pd.merge(date_df, sigma_df, left_index = True, right_index = True)\n",
    "    sigma_df.set_index('Date', inplace = True)\n",
    "    VaR_df = get_VaR_FIGARCH(df, alpha, sigma_df, dist)\n",
    "    return sigma_df, VaR_df"
   ]
  },
  {
   "cell_type": "code",
   "execution_count": null,
   "id": "cac9d462",
   "metadata": {},
   "outputs": [],
   "source": [
    "PH_sigma_df_fi, PH_rw_df_fi = rolling_window(PH, prediction_size,d, alpha,p,q, vol, dist)\n",
    "PH, PH_N_rw_fi = char_function(PH, PH_rw_df_fi, prediction_size, name)\n",
    "\n"
   ]
  },
  {
   "cell_type": "code",
   "execution_count": null,
   "id": "36e23bbb",
   "metadata": {},
   "outputs": [],
   "source": [
    "MY_sigma_df_fi, MY_rw_df_fi = rolling_window(MY, prediction_size,d, alpha,p,q, vol, dist)\n",
    "MY, MY_N_rw_fi = char_function(MY, MY_rw_df_fi, prediction_size, name)\n",
    "\n"
   ]
  },
  {
   "cell_type": "code",
   "execution_count": null,
   "id": "a03e8746",
   "metadata": {},
   "outputs": [],
   "source": [
    "SG_sigma_df_fi, SG_rw_df_fi = rolling_window(SG, prediction_size,d, alpha,p,q, vol, dist)\n",
    "\n",
    "SG, SG_N_rw_fi = char_function(SG, SG_rw_df_fi, prediction_size, name)\n",
    "\n"
   ]
  },
  {
   "cell_type": "code",
   "execution_count": null,
   "id": "590395c8",
   "metadata": {},
   "outputs": [],
   "source": [
    "TH_sigma_df_fi, TH_rw_df_fi = rolling_window(TH, prediction_size,d, alpha,p,q, vol, dist)\n",
    "\n",
    "TH, TH_N_rw_fi = char_function(TH, TH_rw_df_fi, prediction_size, name)\n",
    "\n"
   ]
  },
  {
   "cell_type": "code",
   "execution_count": null,
   "id": "6498ef66",
   "metadata": {},
   "outputs": [],
   "source": [
    "VT_sigma_df_fi, VT_rw_df_fi = rolling_window(VT, prediction_size,d, alpha,p,q, vol, dist)\n",
    "\n",
    "VT, VT_N_rw_fi = char_function(VT, VT_rw_df_fi, prediction_size, name)\n",
    "\n"
   ]
  },
  {
   "cell_type": "code",
   "execution_count": null,
   "id": "3169b9b1",
   "metadata": {},
   "outputs": [],
   "source": [
    "#Standard\n",
    "\n",
    "#Philippines\n",
    "plt.figure(figsize=(10,4))\n",
    "plt.plot(PH['Returns'][:no_to_test(PH,prediction_size)])\n",
    "plt.plot(-PH_rw_df_fi)\n",
    "plt.plot(PH_sigma_df_fi)\n",
    "plt.title('Volatility Prediction - Fixed Forecast', fontsize=20)\n",
    "plt.legend(['True Returns', 'Predicted VaR', 'Predicted Volatility'], fontsize=16)\n",
    "plt.savefig('PH_'+name+'.png')\n",
    "\n",
    "\n",
    "#Malaysia\n",
    "plt.figure(figsize=(10,4))\n",
    "plt.plot(MY['Returns'][:no_to_test(MY,prediction_size)])\n",
    "plt.plot(-MY_rw_df_fi)\n",
    "plt.plot(MY_sigma_df_fi)\n",
    "plt.title('Volatility Prediction - Fixed Forecast', fontsize=20)\n",
    "plt.legend(['True Returns', 'Predicted VaR', 'Predicted Volatility'], fontsize=16)\n",
    "plt.savefig('MY_'+name+'.png')\n",
    "\n",
    "#Singapore\n",
    "plt.figure(figsize=(10,4))\n",
    "plt.plot(SG['Returns'][:no_to_test(SG,prediction_size)])\n",
    "plt.plot(-SG_rw_df_fi)\n",
    "plt.plot(SG_sigma_df_fi)\n",
    "plt.title('Volatility Prediction - Fixed Forecast', fontsize=20)\n",
    "plt.legend(['True Returns', 'Predicted VaR', 'Predicted Volatility'], fontsize=16)\n",
    "plt.savefig('SG_'+name+'.png')\n",
    "\n",
    "#Thailand\n",
    "plt.figure(figsize=(10,4))\n",
    "plt.plot(TH['Returns'][:no_to_test(TH,prediction_size)])\n",
    "plt.plot(-TH_rw_df_fi)\n",
    "plt.plot(TH_sigma_df_fi)\n",
    "plt.title('Volatility Prediction - Fixed Forecast', fontsize=20)\n",
    "plt.legend(['True Returns', 'Predicted VaR', 'Predicted Volatility'], fontsize=16)\n",
    "plt.savefig('TH_'+name+'.png')\n",
    "\n",
    "#Vietnam\n",
    "plt.figure(figsize=(10,4))\n",
    "plt.plot(VT['Returns'][:no_to_test(VT,prediction_size)])\n",
    "plt.plot(-VT_rw_df_fi)\n",
    "plt.plot(VT_sigma_df_fi)\n",
    "plt.title('Volatility Prediction - Fixed Forecast', fontsize=20)\n",
    "plt.legend(['True Returns', 'Predicted VaR', 'Predicted Volatility'], fontsize=16)\n",
    "plt.savefig('VT_'+name+'.png')"
   ]
  },
  {
   "cell_type": "markdown",
   "id": "2c79a84c",
   "metadata": {},
   "source": [
    "# Suffieincy of the Model\n"
   ]
  },
  {
   "cell_type": "markdown",
   "id": "ed7b6818",
   "metadata": {},
   "source": [
    "## Unconditional Coverage"
   ]
  },
  {
   "cell_type": "code",
   "execution_count": null,
   "id": "95e1b256",
   "metadata": {},
   "outputs": [],
   "source": [
    "def CI_UC(alpha, ss):\n",
    "    '''\n",
    "    The function returns an (1-alpha)% confidence interval for N\n",
    "    \n",
    "    PARAMETERS\n",
    "    ----------\n",
    "    alpha : float \n",
    "        The level of significance of the VaR\n",
    "        (Assumes a value in between 0 and 1)\n",
    "    ss : int\n",
    "        The total number of entries in the data frame of the asset\n",
    "        \n",
    "    RETURNS\n",
    "    -------\n",
    "    CI : list\n",
    "        The list is the (1-alpha)% confidence interval\n",
    "    '''\n",
    "    CI = []\n",
    "    a = np.ceil(alpha*ss - (NormalDist().inv_cdf(1-alpha/2))*np.sqrt(ss*alpha*(1-alpha)))\n",
    "    b = np.ceil(alpha*ss + (NormalDist().inv_cdf(1-alpha/2))*np.sqrt(ss*alpha*(1-alpha)))\n",
    "    CI.append(a)\n",
    "    CI.append(b)\n",
    "    return CI\n",
    "\n",
    "\n",
    "# print(CI_UC(alpha,prediction_size))\n"
   ]
  },
  {
   "cell_type": "markdown",
   "id": "e10a9937",
   "metadata": {},
   "source": [
    "## Chi-squared Test (1 DoF)"
   ]
  },
  {
   "cell_type": "code",
   "execution_count": null,
   "id": "74ecd42d",
   "metadata": {},
   "outputs": [],
   "source": [
    "chi2.ppf(1-alpha, df = 1)"
   ]
  },
  {
   "cell_type": "markdown",
   "id": "bcaddba5",
   "metadata": {},
   "source": [
    "## Conditional Coverage"
   ]
  },
  {
   "cell_type": "code",
   "execution_count": null,
   "id": "451b2239",
   "metadata": {},
   "outputs": [],
   "source": [
    "chi2.ppf(1-alpha, df = 2)"
   ]
  },
  {
   "cell_type": "markdown",
   "id": "1f2c9918",
   "metadata": {},
   "source": [
    "# Parameters"
   ]
  },
  {
   "cell_type": "code",
   "execution_count": null,
   "id": "a35982b5",
   "metadata": {},
   "outputs": [],
   "source": [
    "alpha = 0.05\n",
    "entries1 = no_to_test(PH, prediction_size)\n",
    "entries2 = no_to_test(MY, prediction_size)\n",
    "entries3 = no_to_test(SG, prediction_size)\n",
    "entries4 = no_to_test(TH, prediction_size)\n",
    "entries5 = no_to_test(VT, prediction_size)\n",
    "name_1 = 'FW-FI-5%'\n",
    "name_2 = 'RW-FI-5%'\n"
   ]
  },
  {
   "cell_type": "markdown",
   "id": "608ce446",
   "metadata": {},
   "source": [
    "# Kupiec Test"
   ]
  },
  {
   "cell_type": "code",
   "execution_count": null,
   "id": "a68544eb",
   "metadata": {},
   "outputs": [],
   "source": [
    "def LR_kupiec(N, observations, alpha):\n",
    "    p = alpha\n",
    "    a= -2*np.log((((1-p)**(observations - N))*(p**N))/(((1-N/observations)**(observations - N))*((N/observations)**N)))\n",
    "    display(round(a,4))\n",
    "    return a\n",
    "\n",
    "\n",
    "\n",
    "#Philippines\n",
    "PH_LRk_fw_fi = LR_kupiec(PH_N_fw_fi, entries1, alpha)\n",
    "PH_LRk_rw_fi = LR_kupiec(PH_N_rw_fi, entries1, alpha)\n",
    "\n",
    "#Malaysia\n",
    "MY_LRk_fw_fi = LR_kupiec(MY_N_fw_fi, entries2, alpha)\n",
    "MY_LRk_rw_fi = LR_kupiec(MY_N_rw_fi, entries2, alpha)\n",
    "\n",
    "#Singapore\n",
    "SG_LRk_fw_fi = LR_kupiec(SG_N_fw_fi, entries3, alpha)\n",
    "SG_LRk_rw_fi = LR_kupiec(SG_N_rw_fi, entries3, alpha)\n",
    "\n",
    "#Thailand\n",
    "TH_LRk_fw_fi = LR_kupiec(TH_N_fw_fi, entries4, alpha)\n",
    "TH_LRk_rw_fi = LR_kupiec(TH_N_rw_fi, entries4, alpha)\n",
    "\n",
    "#Vietnam\n",
    "VT_LRk_fw_fi = LR_kupiec(VT_N_fw_fi, entries5, alpha)\n",
    "VT_LRk_rw_fi = LR_kupiec(VT_N_rw_fi, entries5, alpha)"
   ]
  },
  {
   "cell_type": "markdown",
   "id": "241168f9",
   "metadata": {},
   "source": [
    "# Christoffersen Test\n",
    "## Part 1"
   ]
  },
  {
   "cell_type": "code",
   "execution_count": null,
   "id": "2de5640d",
   "metadata": {},
   "outputs": [],
   "source": [
    "def no_of_periods(df, name):\n",
    "    n00 = 0\n",
    "    n01 = 0\n",
    "    n10 = 0\n",
    "    n11 = 0\n",
    "    violations = df[name].dropna()[::-1]\n",
    "    v_p = violations[0]\n",
    "    i = 1\n",
    "    while i < len(violations):\n",
    "        if v_p == violations[i] and v_p == 0:\n",
    "            n00 += 1\n",
    "        elif v_p != violations[i] and v_p == 0:\n",
    "            n01 += 1\n",
    "        elif v_p != violations[i] and v_p == 1:\n",
    "            n10 += 1\n",
    "        else:\n",
    "            n11 += 1\n",
    "        v_p = violations[i]\n",
    "        i += 1 \n",
    "    return n00, n01, n10, n11"
   ]
  },
  {
   "cell_type": "markdown",
   "id": "0a685efe",
   "metadata": {},
   "source": [
    "## Part 2"
   ]
  },
  {
   "cell_type": "code",
   "execution_count": null,
   "id": "e678f049",
   "metadata": {},
   "outputs": [],
   "source": [
    "def LR_ind(df, name, LR_pof):\n",
    "    n00, n01, n10, n11 = no_of_periods(df, name)\n",
    "    pi_0 = n01/(n00+n01)\n",
    "    pi_1 = n11/(n10+n11)\n",
    "    pi = (n01+n11)/(n00+n01+n10+n11)\n",
    "    LR_ind = -2*np.log((((1-pi)**(n00+n01))*(pi**(n01+n11)))/(((1-pi_0)**n00)*(pi_0**n01)*((1-pi_1)**n10)*(pi_1**n11)))\n",
    "    LR_cc = LR_ind+LR_pof\n",
    "    display(round(LR_cc,4))\n",
    "    return LR_ind, LR_cc\n",
    "\n",
    "#Philippines\n",
    "PH_LRcci_fw_fi, PH_LRcc_fw_fi = LR_ind(PH, name_1, PH_LRk_fw_fi)\n",
    "PH_LRcci_rw_fi, PH_LRcc_rw_fi = LR_ind(PH, name_2, PH_LRk_rw_fi)\n",
    "#Malaysia\n",
    "MY_LRcci_fw_fi, MY_LRcc_fw_fi = LR_ind(MY, name_1, MY_LRk_fw_fi)\n",
    "MY_LRcci_rw_fi, MY_LRcc_rw_fi = LR_ind(MY, name_2, MY_LRk_rw_fi)\n",
    "#Singapore\n",
    "SG_LRcci_fw_fi, SG_LRcc_fw_fi= LR_ind(SG, name_1, SG_LRk_fw_fi)\n",
    "SG_LRcci_rw_fi, SG_LRcc_rw_fi= LR_ind(SG, name_2, SG_LRk_rw_fi)\n",
    "#Thailand\n",
    "TH_LRcci_fw_fi, TH_LRcc_fw_fi= LR_ind(TH, name_1, TH_LRk_fw_fi)\n",
    "TH_LRcci_rw_fi, TH_LRcc_rw_fi= LR_ind(TH, name_2, TH_LRk_rw_fi)\n",
    "#Vietnem\n",
    "VT_LRcci_fw_fi, VT_LRcc_fw_fi= LR_ind(VT, name_1, VT_LRk_fw_fi)\n",
    "VT_LRcci_rw_fi, VT_LRcc_rw_fi= LR_ind(VT, name_2, VT_LRk_rw_fi)"
   ]
  },
  {
   "cell_type": "code",
   "execution_count": null,
   "id": "30063c32",
   "metadata": {},
   "outputs": [],
   "source": [
    "def sigma_c(df_1, df_2, model_param, p, q):\n",
    "    omega = model_param[1]\n",
    "    if p != None:\n",
    "        i = 0\n",
    "        alpha_lst = []\n",
    "        while i < len(model_param) - (q+2):\n",
    "            alpha = model_param[i+2]\n",
    "            alpha_lst.append(alpha)\n",
    "            i += 1\n",
    "    if q != None:\n",
    "        i = 0\n",
    "        beta_lst = []\n",
    "        while i < len(model_param) - (p+2):\n",
    "            beta = model_param[i+2+p]\n",
    "            beta_lst.append(beta)\n",
    "            i += 1\n",
    "    sigma = omega\n",
    "    i = 0\n",
    "    for alpha in alpha_lst:\n",
    "        sigma += alpha*(df_1.iloc[i]**2)\n",
    "        i += 1\n",
    "    i = 0\n",
    "    for beta in beta_lst:\n",
    "        sigma += beta*(df_2.iloc[i]**2)\n",
    "        i += 1\n",
    "    return np.sqrt(sigma)\n",
    "\n",
    "\n",
    "PH_sigma_c = sigma_c(PH_resid_fi, PH_condv_fi, PH_params_fi, p = 1, q = 1)\n",
    "MY_sigma_c = sigma_c(MY_resid_fi, MY_condv_fi, MY_params_fi, p = 1, q = 1)\n",
    "SG_sigma_c = sigma_c(SG_resid_fi, SG_condv_fi, SG_params_fi, p = 1, q = 1)\n",
    "TH_sigma_c = sigma_c(TH_resid_fi, TH_condv_fi, TH_params_fi, p = 1, q = 1)\n",
    "VT_sigma_c = sigma_c(VT_resid_fi, VT_condv_fi, VT_params_fi, p = 1, q = 1)"
   ]
  }
 ],
 "metadata": {
  "kernelspec": {
   "display_name": "Python 3",
   "language": "python",
   "name": "python3"
  },
  "language_info": {
   "codemirror_mode": {
    "name": "ipython",
    "version": 3
   },
   "file_extension": ".py",
   "mimetype": "text/x-python",
   "name": "python",
   "nbconvert_exporter": "python",
   "pygments_lexer": "ipython3",
   "version": "3.9.6"
  }
 },
 "nbformat": 4,
 "nbformat_minor": 5
}

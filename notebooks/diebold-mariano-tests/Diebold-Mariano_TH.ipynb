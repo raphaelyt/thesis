{
 "cells": [
  {
   "cell_type": "markdown",
   "id": "8ddcfd2a",
   "metadata": {},
   "source": [
    "# Importing Packages"
   ]
  },
  {
   "cell_type": "code",
   "execution_count": 1,
   "id": "a06b5d63",
   "metadata": {},
   "outputs": [],
   "source": [
    "import pandas as pd\n",
    "import matplotlib.pyplot as plt\n",
    "from arch import arch_model #GARCH Models\n",
    "from statsmodels.graphics.tsaplots import plot_acf, plot_pacf\n",
    "import numpy as np\n",
    "import math\n",
    "import scipy.stats\n",
    "from statistics import NormalDist\n",
    "from scipy.stats import t\n",
    "from scipy.stats import f\n",
    "from datetime import datetime\n",
    "from scipy.stats import shapiro #Shapiro Test\n",
    "from scipy import stats #t-test\n",
    "import statsmodels.api as sm #Ljung-Box Test\n",
    "from scipy.stats import chi2"
   ]
  },
  {
   "cell_type": "markdown",
   "id": "c4fad351",
   "metadata": {},
   "source": [
    "# Price and Returns"
   ]
  },
  {
   "cell_type": "code",
   "execution_count": 2,
   "id": "808e9a06",
   "metadata": {},
   "outputs": [],
   "source": [
    "start_date = '2006-01-01' #yyyy-mm-dd\n",
    "end_date = '2021-01-01'\n",
    "\n",
    "\n",
    "# Thailand\n",
    "TH = pd.read_csv('https://raw.githubusercontent.com/raphaelyt/thesis199.11/main/data/2006-2021/SETi.csv')\n",
    "TH['Date'] = pd.to_datetime(TH['Date'])\n",
    "TH = TH.rename(columns={'Price': 'Close'})\n",
    "TH = TH.replace(',','', regex=True)\n",
    "TH['Close'] = TH['Close'].astype(float, errors = 'raise')\n",
    "mask = (TH['Date'] >= start_date) & (TH['Date'] <= end_date)\n",
    "TH = TH.loc[mask]\n",
    "TH = TH.set_index('Date')\n",
    "TH = TH.sort_index(axis=0, ascending = False)"
   ]
  },
  {
   "cell_type": "code",
   "execution_count": 3,
   "id": "44c64afc",
   "metadata": {
    "scrolled": true
   },
   "outputs": [
    {
     "data": {
      "text/html": [
       "<div>\n",
       "<style scoped>\n",
       "    .dataframe tbody tr th:only-of-type {\n",
       "        vertical-align: middle;\n",
       "    }\n",
       "\n",
       "    .dataframe tbody tr th {\n",
       "        vertical-align: top;\n",
       "    }\n",
       "\n",
       "    .dataframe thead th {\n",
       "        text-align: right;\n",
       "    }\n",
       "</style>\n",
       "<table border=\"1\" class=\"dataframe\">\n",
       "  <thead>\n",
       "    <tr style=\"text-align: right;\">\n",
       "      <th></th>\n",
       "      <th>Open</th>\n",
       "      <th>High</th>\n",
       "      <th>Low</th>\n",
       "      <th>Close</th>\n",
       "      <th>Previous</th>\n",
       "      <th>Returns</th>\n",
       "    </tr>\n",
       "    <tr>\n",
       "      <th>Date</th>\n",
       "      <th></th>\n",
       "      <th></th>\n",
       "      <th></th>\n",
       "      <th></th>\n",
       "      <th></th>\n",
       "      <th></th>\n",
       "    </tr>\n",
       "  </thead>\n",
       "  <tbody>\n",
       "    <tr>\n",
       "      <th>2020-12-30</th>\n",
       "      <td>1467.74</td>\n",
       "      <td>1479.04</td>\n",
       "      <td>1445.36</td>\n",
       "      <td>1449.35</td>\n",
       "      <td>1461.95</td>\n",
       "      <td>-0.865598</td>\n",
       "    </tr>\n",
       "    <tr>\n",
       "      <th>2020-12-29</th>\n",
       "      <td>1452.39</td>\n",
       "      <td>1468.60</td>\n",
       "      <td>1440.59</td>\n",
       "      <td>1461.95</td>\n",
       "      <td>1452.67</td>\n",
       "      <td>0.636792</td>\n",
       "    </tr>\n",
       "    <tr>\n",
       "      <th>2020-12-28</th>\n",
       "      <td>1505.15</td>\n",
       "      <td>1512.99</td>\n",
       "      <td>1452.48</td>\n",
       "      <td>1452.67</td>\n",
       "      <td>1486.31</td>\n",
       "      <td>-2.289330</td>\n",
       "    </tr>\n",
       "    <tr>\n",
       "      <th>2020-12-25</th>\n",
       "      <td>1463.32</td>\n",
       "      <td>1486.84</td>\n",
       "      <td>1462.77</td>\n",
       "      <td>1486.31</td>\n",
       "      <td>1451.52</td>\n",
       "      <td>2.368526</td>\n",
       "    </tr>\n",
       "    <tr>\n",
       "      <th>2020-12-24</th>\n",
       "      <td>1420.60</td>\n",
       "      <td>1453.87</td>\n",
       "      <td>1409.75</td>\n",
       "      <td>1451.52</td>\n",
       "      <td>1416.02</td>\n",
       "      <td>2.476116</td>\n",
       "    </tr>\n",
       "    <tr>\n",
       "      <th>...</th>\n",
       "      <td>...</td>\n",
       "      <td>...</td>\n",
       "      <td>...</td>\n",
       "      <td>...</td>\n",
       "      <td>...</td>\n",
       "      <td>...</td>\n",
       "    </tr>\n",
       "    <tr>\n",
       "      <th>2006-01-09</th>\n",
       "      <td>749.04</td>\n",
       "      <td>762.29</td>\n",
       "      <td>749.04</td>\n",
       "      <td>762.26</td>\n",
       "      <td>747.34</td>\n",
       "      <td>1.976747</td>\n",
       "    </tr>\n",
       "    <tr>\n",
       "      <th>2006-01-06</th>\n",
       "      <td>743.91</td>\n",
       "      <td>747.77</td>\n",
       "      <td>737.02</td>\n",
       "      <td>747.34</td>\n",
       "      <td>741.28</td>\n",
       "      <td>0.814181</td>\n",
       "    </tr>\n",
       "    <tr>\n",
       "      <th>2006-01-05</th>\n",
       "      <td>750.13</td>\n",
       "      <td>752.65</td>\n",
       "      <td>740.19</td>\n",
       "      <td>741.28</td>\n",
       "      <td>743.20</td>\n",
       "      <td>-0.258677</td>\n",
       "    </tr>\n",
       "    <tr>\n",
       "      <th>2006-01-04</th>\n",
       "      <td>732.51</td>\n",
       "      <td>745.32</td>\n",
       "      <td>732.51</td>\n",
       "      <td>743.20</td>\n",
       "      <td>725.64</td>\n",
       "      <td>2.391116</td>\n",
       "    </tr>\n",
       "    <tr>\n",
       "      <th>2006-01-03</th>\n",
       "      <td>713.8</td>\n",
       "      <td>725.64</td>\n",
       "      <td>713.8</td>\n",
       "      <td>725.64</td>\n",
       "      <td>NaN</td>\n",
       "      <td>NaN</td>\n",
       "    </tr>\n",
       "  </tbody>\n",
       "</table>\n",
       "<p>3662 rows × 6 columns</p>\n",
       "</div>"
      ],
      "text/plain": [
       "               Open     High      Low    Close  Previous   Returns\n",
       "Date                                                              \n",
       "2020-12-30  1467.74  1479.04  1445.36  1449.35   1461.95 -0.865598\n",
       "2020-12-29  1452.39  1468.60  1440.59  1461.95   1452.67  0.636792\n",
       "2020-12-28  1505.15  1512.99  1452.48  1452.67   1486.31 -2.289330\n",
       "2020-12-25  1463.32  1486.84  1462.77  1486.31   1451.52  2.368526\n",
       "2020-12-24  1420.60  1453.87  1409.75  1451.52   1416.02  2.476116\n",
       "...             ...      ...      ...      ...       ...       ...\n",
       "2006-01-09   749.04   762.29   749.04   762.26    747.34  1.976747\n",
       "2006-01-06   743.91   747.77   737.02   747.34    741.28  0.814181\n",
       "2006-01-05   750.13   752.65   740.19   741.28    743.20 -0.258677\n",
       "2006-01-04   732.51   745.32   732.51   743.20    725.64  2.391116\n",
       "2006-01-03    713.8   725.64    713.8   725.64       NaN       NaN\n",
       "\n",
       "[3662 rows x 6 columns]"
      ]
     },
     "metadata": {},
     "output_type": "display_data"
    }
   ],
   "source": [
    "def get_returns(df,d):\n",
    "    '''\n",
    "    The function obtains the log returns of the asset shifted d days\n",
    "    \n",
    "    PARAMETERS\n",
    "    ----------\n",
    "    df : pandas.DataFrame\n",
    "        The data frame contains data of a chosen stock index \n",
    "        (Stock index must be arrange in DESCENDING ORDER by DATE)\n",
    "    d : int\n",
    "        The dth day being forecast\n",
    "        (Assumed to be 1 for most cases)\n",
    "        \n",
    "    RETURNS\n",
    "    -------\n",
    "    df : pandas.DataFrame\n",
    "        The data frame returns an updated data frame containing the\n",
    "        'Returns' column\n",
    "    '''\n",
    "    df['Previous'] = df['Close'].shift(-d)\n",
    "    df['Returns'] = np.log(df['Close']/df['Previous'])*100\n",
    "    display(df)\n",
    "    return df\n",
    "\n",
    "TH = get_returns(TH, 1)"
   ]
  },
  {
   "cell_type": "markdown",
   "id": "358fd17c",
   "metadata": {},
   "source": [
    "# Diebold-Mariano Test"
   ]
  },
  {
   "cell_type": "code",
   "execution_count": 4,
   "id": "e8db683a",
   "metadata": {},
   "outputs": [],
   "source": [
    "# Author   : John Tsang\n",
    "# Date     : December 7th, 2017\n",
    "# Purpose  : Implement the Diebold-Mariano Test (DM test) to compare \n",
    "#            forecast accuracy\n",
    "# Input    : 1) actual_lst: the list of actual values\n",
    "#            2) pred1_lst : the first list of predicted values\n",
    "#            3) pred2_lst : the second list of predicted values\n",
    "#            4) h         : the number of stpes ahead\n",
    "#            5) crit      : a string specifying the criterion \n",
    "#                             i)  MSE : the mean squared error\n",
    "#                            ii)  MAD : the mean absolute deviation\n",
    "#                           iii) MAPE : the mean absolute percentage error\n",
    "#                            iv) poly : use power function to weigh the errors\n",
    "#            6) poly      : the power for crit power \n",
    "#                           (it is only meaningful when crit is \"poly\")\n",
    "# Condition: 1) length of actual_lst, pred1_lst and pred2_lst is equal\n",
    "#            2) h must be an integer and it must be greater than 0 and less than \n",
    "#               the length of actual_lst.\n",
    "#            3) crit must take the 4 values specified in Input\n",
    "#            4) Each value of actual_lst, pred1_lst and pred2_lst must\n",
    "#               be numerical values. Missing values will not be accepted.\n",
    "#            5) power must be a numerical value.\n",
    "# Return   : a named-tuple of 2 elements\n",
    "#            1) p_value : the p-value of the DM test\n",
    "#            2) DM      : the test statistics of the DM test\n",
    "##########################################################\n",
    "# References:\n",
    "#\n",
    "# Harvey, D., Leybourne, S., & Newbold, P. (1997). Testing the equality of \n",
    "#   prediction mean squared errors. International Journal of forecasting, \n",
    "#   13(2), 281-291.\n",
    "#\n",
    "# Diebold, F. X. and Mariano, R. S. (1995), Comparing predictive accuracy, \n",
    "#   Journal of business & economic statistics 13(3), 253-264.\n",
    "#\n",
    "##########################################################\n",
    "def dm_test(actual_lst, pred1_lst, pred2_lst, h = 1, crit=\"MSE\", power = 2):\n",
    "    # Routine for checking errors\n",
    "    def error_check():\n",
    "        rt = 0\n",
    "        msg = \"\"\n",
    "        # Check if h is an integer\n",
    "        if (not isinstance(h, int)):\n",
    "            rt = -1\n",
    "            msg = \"The type of the number of steps ahead (h) is not an integer.\"\n",
    "            return (rt,msg)\n",
    "        # Check the range of h\n",
    "        if (h < 1):\n",
    "            rt = -1\n",
    "            msg = \"The number of steps ahead (h) is not large enough.\"\n",
    "            return (rt,msg)\n",
    "        len_act = len(actual_lst)\n",
    "        len_p1  = len(pred1_lst)\n",
    "        len_p2  = len(pred2_lst)\n",
    "        # Check if lengths of actual values and predicted values are equal\n",
    "        if (len_act != len_p1 or len_p1 != len_p2 or len_act != len_p2):\n",
    "            rt = -1\n",
    "            msg = \"Lengths of actual_lst, pred1_lst and pred2_lst do not match.\"\n",
    "            return (rt,msg)\n",
    "        # Check range of h\n",
    "        if (h >= len_act):\n",
    "            rt = -1\n",
    "            msg = \"The number of steps ahead is too large.\"\n",
    "            return (rt,msg)\n",
    "        # Check if criterion supported\n",
    "        if (crit != \"MSE\" and crit != \"MAPE\" and crit != \"MAD\" and crit != \"poly\"):\n",
    "            rt = -1\n",
    "            msg = \"The criterion is not supported.\"\n",
    "            return (rt,msg)  \n",
    "        # Check if every value of the input lists are numerical values\n",
    "        from re import compile as re_compile\n",
    "        comp = re_compile(\"^\\d+?\\.\\d+?$\")  \n",
    "        def compiled_regex(s):\n",
    "            \"\"\" Returns True is string is a number. \"\"\"\n",
    "            if comp.match(s) is None:\n",
    "                return s.isdigit()\n",
    "            return True\n",
    "        for actual, pred1, pred2 in zip(actual_lst, pred1_lst, pred2_lst):\n",
    "            is_actual_ok = compiled_regex(str(abs(actual)))\n",
    "            is_pred1_ok = compiled_regex(str(abs(pred1)))\n",
    "            is_pred2_ok = compiled_regex(str(abs(pred2)))\n",
    "            if (not (is_actual_ok and is_pred1_ok and is_pred2_ok)):  \n",
    "                msg = \"An element in the actual_lst, pred1_lst or pred2_lst is not numeric.\"\n",
    "                rt = -1\n",
    "                return (rt,msg)\n",
    "        return (rt,msg)\n",
    "    \n",
    "    # Error check\n",
    "    error_code = error_check()\n",
    "    # Raise error if cannot pass error check\n",
    "    if (error_code[0] == -1):\n",
    "        raise SyntaxError(error_code[1])\n",
    "        return\n",
    "    # Import libraries\n",
    "    from scipy.stats import t\n",
    "    import collections\n",
    "    import pandas as pd\n",
    "    import numpy as np\n",
    "    \n",
    "    # Initialise lists\n",
    "    e1_lst = []\n",
    "    e2_lst = []\n",
    "    d_lst  = []\n",
    "    \n",
    "    # convert every value of the lists into real values\n",
    "    actual_lst = pd.Series(actual_lst).apply(lambda x: float(x)).tolist()\n",
    "    pred1_lst = pd.Series(pred1_lst).apply(lambda x: float(x)).tolist()\n",
    "    pred2_lst = pd.Series(pred2_lst).apply(lambda x: float(x)).tolist()\n",
    "    \n",
    "    # Length of lists (as real numbers)\n",
    "    T = float(len(actual_lst))\n",
    "    \n",
    "    # construct d according to crit\n",
    "    if (crit == \"MSE\"):\n",
    "        for actual,p1,p2 in zip(actual_lst,pred1_lst,pred2_lst):\n",
    "            e1_lst.append((actual - p1)**2)\n",
    "            e2_lst.append((actual - p2)**2)\n",
    "        for e1, e2 in zip(e1_lst, e2_lst):\n",
    "            d_lst.append(e1 - e2)\n",
    "    elif (crit == \"MAD\"):\n",
    "        for actual,p1,p2 in zip(actual_lst,pred1_lst,pred2_lst):\n",
    "            e1_lst.append(abs(actual - p1))\n",
    "            e2_lst.append(abs(actual - p2))\n",
    "        for e1, e2 in zip(e1_lst, e2_lst):\n",
    "            d_lst.append(e1 - e2)\n",
    "    elif (crit == \"MAPE\"):\n",
    "        for actual,p1,p2 in zip(actual_lst,pred1_lst,pred2_lst):\n",
    "            e1_lst.append(abs((actual - p1)/actual))\n",
    "            e2_lst.append(abs((actual - p2)/actual))\n",
    "        for e1, e2 in zip(e1_lst, e2_lst):\n",
    "            d_lst.append(e1 - e2)\n",
    "    elif (crit == \"poly\"):\n",
    "        for actual,p1,p2 in zip(actual_lst,pred1_lst,pred2_lst):\n",
    "            e1_lst.append(((actual - p1))**(power))\n",
    "            e2_lst.append(((actual - p2))**(power))\n",
    "        for e1, e2 in zip(e1_lst, e2_lst):\n",
    "            d_lst.append(e1 - e2)    \n",
    "    \n",
    "    # Mean of d        \n",
    "    mean_d = pd.Series(d_lst).mean()\n",
    "    \n",
    "    # Find autocovariance and construct DM test statistics\n",
    "    def autocovariance(Xi, N, k, Xs):\n",
    "        autoCov = 0\n",
    "        T = float(N)\n",
    "        for i in np.arange(0, N-k):\n",
    "              autoCov += ((Xi[i+k])-Xs)*(Xi[i]-Xs)\n",
    "        return (1/(T))*autoCov\n",
    "    gamma = []\n",
    "    for lag in range(0,h):\n",
    "        gamma.append(autocovariance(d_lst,len(d_lst),lag,mean_d)) # 0, 1, 2\n",
    "    V_d = (gamma[0] + 2*sum(gamma[1:]))/T\n",
    "    DM_stat=V_d**(-0.5)*mean_d\n",
    "    harvey_adj=((T+1-2*h+h*(h-1)/T)/T)**(0.5)\n",
    "    DM_stat = harvey_adj*DM_stat\n",
    "    # Find p-value\n",
    "    p_value = 2*t.cdf(-abs(DM_stat), df = T - 1)\n",
    "    \n",
    "    # Construct named tuple for return\n",
    "    dm_return = collections.namedtuple('dm_return', 'DM p_value')\n",
    "    \n",
    "    rt = dm_return(DM = DM_stat, p_value = p_value)\n",
    "    \n",
    "    return rt"
   ]
  },
  {
   "cell_type": "markdown",
   "id": "ad2561cb",
   "metadata": {},
   "source": [
    "## Custom DM-Test Function"
   ]
  },
  {
   "cell_type": "code",
   "execution_count": 5,
   "id": "97786103",
   "metadata": {},
   "outputs": [],
   "source": [
    "def DM_test(country, model_1, model_2, t):\n",
    "    \n",
    "    arr_model_1_dropped = model_1.drop(['Date'], axis = 1)\n",
    "    arr_model_1_zero = arr_model_1_dropped.iloc[:, 0].to_numpy()\n",
    "\n",
    "    arr_model_2_dropped = model_2.drop(['Date'], axis = 1)\n",
    "    arr_model_2_zero = arr_model_2_dropped.iloc[:,0].to_numpy()\n",
    "\n",
    "    returns = np.array(country['Returns'])[:t]\n",
    "\n",
    "    dm = dm_test(returns, arr_model_1_zero, arr_model_2_zero, h = 1, crit = 'MSE')\n",
    "    \n",
    "    return dm"
   ]
  },
  {
   "cell_type": "markdown",
   "id": "ee3a29a9",
   "metadata": {},
   "source": [
    "# Fixed Window"
   ]
  },
  {
   "cell_type": "markdown",
   "id": "47da5462",
   "metadata": {},
   "source": [
    "## 0.01%"
   ]
  },
  {
   "cell_type": "code",
   "execution_count": 6,
   "id": "6e2ee02e",
   "metadata": {},
   "outputs": [],
   "source": [
    "TH_fw_01_dn = pd.read_csv('https://raw.githubusercontent.com/raphaelyt/thesis199.11/main/data/csv/DN/0.01%25/TH_VaR_FW-DN-0.01%25.csv')\n",
    "TH_fw_01_hs = pd.read_csv('https://raw.githubusercontent.com/raphaelyt/thesis199.11/main/data/csv/HS/0.01%25/TH_VaR_FW-HS-0.01%25.csv')\n",
    "TH_fw_01_brw = pd.read_csv('https://raw.githubusercontent.com/raphaelyt/thesis199.11/main/data/csv/BRW/0.01%25/TH_VaR_FW-BRW-0.01%25.csv')\n",
    "TH_fw_01_garch = pd.read_csv('https://raw.githubusercontent.com/raphaelyt/thesis199.11/main/data/csv/GARCH/0.01%25/TH_VaR_FW-G-0.01%25.csv')\n",
    "TH_fw_01_earch = pd.read_csv('https://raw.githubusercontent.com/raphaelyt/thesis199.11/main/data/csv/EARCH/0.01%25/TH_VaR_FW-EA-0.01%25.csv')\n",
    "TH_fw_01_egarch = pd.read_csv('https://raw.githubusercontent.com/raphaelyt/thesis199.11/main/data/csv/EGARCH/0.01%25/TH_VaR_FW-E-0.01%25.csv')\n",
    "TH_fw_01_igarch = pd.read_csv('https://raw.githubusercontent.com/raphaelyt/thesis199.11/main/data/csv/IGARCH/IGARCH-0.01%25-FW/TH_fw_FW-I-0.01%25.csv')\n",
    "TH_fw_01_figarch = pd.read_csv('https://raw.githubusercontent.com/raphaelyt/thesis199.11/main/data/csv/FIGARCH/FIGARCH-0.01%25-FW/TH_fw_FW-FI-0.01%25.csv')\n",
    "TH_fw_01_figarch0633 = pd.read_csv('https://raw.githubusercontent.com/raphaelyt/thesis199.11/main/data/csv/FIGARCH0.633/FIGARCH0.633-0.01%25-FW/TH_fw_FW-FI0.633-0.01%25.csv')"
   ]
  },
  {
   "cell_type": "code",
   "execution_count": 7,
   "id": "74ac5d3e",
   "metadata": {
    "scrolled": false
   },
   "outputs": [
    {
     "name": "stdout",
     "output_type": "stream",
     "text": [
      "dm_return(DM=-1.1424343582667573, p_value=0.2536240723696228)\n",
      "dm_return(DM=0.3794016805658664, p_value=0.704492868074927)\n",
      "dm_return(DM=1.1678696603526408, p_value=0.24321619876985612)\n",
      "dm_return(DM=-0.6502246816135312, p_value=0.515738562069451)\n",
      "dm_return(DM=-0.49883340301736806, p_value=0.6180373991488857)\n",
      "dm_return(DM=-0.821030091312683, p_value=0.4118799856396147)\n"
     ]
    }
   ],
   "source": [
    "# DN\n",
    "print(DM_test(TH, TH_fw_01_dn, TH_fw_01_garch, len(TH_fw_01_dn)))\n",
    "print(DM_test(TH, TH_fw_01_dn, TH_fw_01_earch, len(TH_fw_01_dn)))\n",
    "print(DM_test(TH, TH_fw_01_dn, TH_fw_01_egarch, len(TH_fw_01_dn)))\n",
    "print(DM_test(TH, TH_fw_01_dn, TH_fw_01_igarch, len(TH_fw_01_dn)))\n",
    "print(DM_test(TH, TH_fw_01_dn, TH_fw_01_figarch, len(TH_fw_01_dn)))\n",
    "print(DM_test(TH, TH_fw_01_dn, TH_fw_01_figarch0633, len(TH_fw_01_dn)))"
   ]
  },
  {
   "cell_type": "code",
   "execution_count": 8,
   "id": "1f7653ad",
   "metadata": {
    "scrolled": false
   },
   "outputs": [
    {
     "name": "stdout",
     "output_type": "stream",
     "text": [
      "dm_return(DM=17.48739799762614, p_value=5.041278214706059e-58)\n",
      "dm_return(DM=36.76701104199458, p_value=1.815873253671256e-172)\n",
      "dm_return(DM=27.1563525195876, p_value=7.801678339630868e-115)\n",
      "dm_return(DM=11.675194352262343, p_value=3.86106774807858e-29)\n",
      "dm_return(DM=19.72866707687389, p_value=1.3515033346471189e-70)\n",
      "dm_return(DM=16.63322871036649, p_value=2.121512131239208e-53)\n"
     ]
    }
   ],
   "source": [
    "# HS\n",
    "print(DM_test(TH, TH_fw_01_hs, TH_fw_01_garch, len(TH_fw_01_hs)))\n",
    "print(DM_test(TH, TH_fw_01_hs, TH_fw_01_earch, len(TH_fw_01_hs)))\n",
    "print(DM_test(TH, TH_fw_01_hs, TH_fw_01_egarch, len(TH_fw_01_hs)))\n",
    "print(DM_test(TH, TH_fw_01_hs, TH_fw_01_igarch, len(TH_fw_01_hs)))\n",
    "print(DM_test(TH, TH_fw_01_hs, TH_fw_01_figarch, len(TH_fw_01_hs)))\n",
    "print(DM_test(TH, TH_fw_01_hs, TH_fw_01_figarch0633, len(TH_fw_01_hs)))"
   ]
  },
  {
   "cell_type": "code",
   "execution_count": 9,
   "id": "5cf91f05",
   "metadata": {
    "scrolled": false
   },
   "outputs": [
    {
     "name": "stdout",
     "output_type": "stream",
     "text": [
      "dm_return(DM=7.097669199049889, p_value=2.8550055649473037e-12)\n",
      "dm_return(DM=12.535157280225324, p_value=5.6981763789534085e-33)\n",
      "dm_return(DM=11.655731491351172, p_value=4.691052599960987e-29)\n",
      "dm_return(DM=4.881039880224469, p_value=1.2800690916365946e-06)\n",
      "dm_return(DM=8.278175766517888, p_value=5.408691297511156e-16)\n",
      "dm_return(DM=6.852216829525726, p_value=1.476654704894159e-11)\n"
     ]
    }
   ],
   "source": [
    "# BRW\n",
    "print(DM_test(TH, TH_fw_01_brw, TH_fw_01_garch, len(TH_fw_01_brw)))\n",
    "print(DM_test(TH, TH_fw_01_brw, TH_fw_01_earch, len(TH_fw_01_brw)))\n",
    "print(DM_test(TH, TH_fw_01_brw, TH_fw_01_egarch, len(TH_fw_01_brw)))\n",
    "print(DM_test(TH, TH_fw_01_brw, TH_fw_01_igarch, len(TH_fw_01_brw)))\n",
    "print(DM_test(TH, TH_fw_01_brw, TH_fw_01_figarch, len(TH_fw_01_brw)))\n",
    "print(DM_test(TH, TH_fw_01_brw, TH_fw_01_figarch0633, len(TH_fw_01_brw)))"
   ]
  },
  {
   "cell_type": "code",
   "execution_count": 10,
   "id": "98bdb22c",
   "metadata": {
    "scrolled": true
   },
   "outputs": [
    {
     "name": "stdout",
     "output_type": "stream",
     "text": [
      "dm_return(DM=1.509099181580403, p_value=0.13167838280142194)\n",
      "dm_return(DM=6.056595878617475, p_value=2.160781037911541e-09)\n",
      "dm_return(DM=0.14783553288047652, p_value=0.8825107727407324)\n",
      "dm_return(DM=3.1258828190795853, p_value=0.0018384418999023771)\n",
      "dm_return(DM=0.7835127176749375, p_value=0.43356392890884765)\n"
     ]
    }
   ],
   "source": [
    "# GARCH\n",
    "print(DM_test(TH, TH_fw_01_garch, TH_fw_01_earch, len(TH_fw_01_garch)))\n",
    "print(DM_test(TH, TH_fw_01_garch, TH_fw_01_egarch, len(TH_fw_01_garch)))\n",
    "print(DM_test(TH, TH_fw_01_garch, TH_fw_01_igarch, len(TH_fw_01_garch)))\n",
    "print(DM_test(TH, TH_fw_01_garch, TH_fw_01_figarch, len(TH_fw_01_garch)))\n",
    "print(DM_test(TH, TH_fw_01_garch, TH_fw_01_figarch0633, len(TH_fw_01_garch)))"
   ]
  },
  {
   "cell_type": "code",
   "execution_count": 11,
   "id": "14dfa11d",
   "metadata": {
    "scrolled": false
   },
   "outputs": [
    {
     "name": "stdout",
     "output_type": "stream",
     "text": [
      "dm_return(DM=1.0230743489527538, p_value=0.30658988265502274)\n",
      "dm_return(DM=-0.9833306737971311, p_value=0.3257496270889819)\n",
      "dm_return(DM=-0.786713581944615, p_value=0.43168850589421615)\n",
      "dm_return(DM=-1.2095796705095818, p_value=0.22680669817222474)\n"
     ]
    }
   ],
   "source": [
    "# EARCH\n",
    "print(DM_test(TH, TH_fw_01_earch, TH_fw_01_egarch, len(TH_fw_01_earch)))\n",
    "print(DM_test(TH, TH_fw_01_earch, TH_fw_01_igarch, len(TH_fw_01_earch)))\n",
    "print(DM_test(TH, TH_fw_01_earch, TH_fw_01_figarch, len(TH_fw_01_earch)))\n",
    "print(DM_test(TH, TH_fw_01_earch, TH_fw_01_figarch0633, len(TH_fw_01_earch)))"
   ]
  },
  {
   "cell_type": "code",
   "execution_count": 12,
   "id": "f84780df",
   "metadata": {
    "scrolled": false
   },
   "outputs": [
    {
     "name": "stdout",
     "output_type": "stream",
     "text": [
      "dm_return(DM=-1.6608615895504741, p_value=0.09714312467196236)\n",
      "dm_return(DM=-4.5463934935628245, p_value=6.3240746582402265e-06)\n",
      "dm_return(DM=-3.6430306029451196, p_value=0.0002872727982095731)\n"
     ]
    }
   ],
   "source": [
    "# EGARCH\n",
    "print(DM_test(TH, TH_fw_01_egarch, TH_fw_01_igarch, len(TH_fw_01_egarch)))\n",
    "print(DM_test(TH, TH_fw_01_egarch, TH_fw_01_figarch, len(TH_fw_01_egarch)))\n",
    "print(DM_test(TH, TH_fw_01_egarch, TH_fw_01_figarch0633, len(TH_fw_01_egarch)))"
   ]
  },
  {
   "cell_type": "code",
   "execution_count": 13,
   "id": "295f1085",
   "metadata": {},
   "outputs": [
    {
     "name": "stdout",
     "output_type": "stream",
     "text": [
      "dm_return(DM=0.550767129467312, p_value=0.5819510272429336)\n",
      "dm_return(DM=0.16388212413716044, p_value=0.8698663942419549)\n"
     ]
    }
   ],
   "source": [
    "# IGARCH\n",
    "print(DM_test(TH, TH_fw_01_igarch, TH_fw_01_figarch, len(TH_fw_01_igarch)))\n",
    "print(DM_test(TH, TH_fw_01_igarch, TH_fw_01_figarch0633, len(TH_fw_01_igarch)))"
   ]
  },
  {
   "cell_type": "code",
   "execution_count": 14,
   "id": "a3d49408",
   "metadata": {
    "scrolled": true
   },
   "outputs": [
    {
     "name": "stdout",
     "output_type": "stream",
     "text": [
      "dm_return(DM=-1.6366625427650774, p_value=0.10210437876012211)\n"
     ]
    }
   ],
   "source": [
    "# FIGARCH\n",
    "print(DM_test(TH, TH_fw_01_figarch, TH_fw_01_figarch0633, len(TH_fw_01_figarch)))"
   ]
  },
  {
   "cell_type": "markdown",
   "id": "366cf0b7",
   "metadata": {},
   "source": [
    "## 1.00 %"
   ]
  },
  {
   "cell_type": "code",
   "execution_count": 15,
   "id": "d18d5109",
   "metadata": {},
   "outputs": [],
   "source": [
    "TH_fw_1_dn = pd.read_csv('https://raw.githubusercontent.com/raphaelyt/thesis199.11/main/data/csv/DN/1%25/TH_VaR_FW-DN-1%25.csv')\n",
    "TH_fw_1_hs = pd.read_csv('https://raw.githubusercontent.com/raphaelyt/thesis199.11/main/data/csv/HS/1%25/TH_VaR_FW-HS-1%25.csv')\n",
    "TH_fw_1_brw = pd.read_csv('https://raw.githubusercontent.com/raphaelyt/thesis199.11/main/data/csv/BRW/1%25/TH_VaR_FW-BRW-1%25.csv')\n",
    "TH_fw_1_garch = pd.read_csv('https://raw.githubusercontent.com/raphaelyt/thesis199.11/main/data/csv/GARCH/1%25/TH_VaR_FW-G-1%25.csv')\n",
    "TH_fw_1_earch = pd.read_csv('https://raw.githubusercontent.com/raphaelyt/thesis199.11/main/data/csv/EARCH/1%25/TH_VaR_FW-EA-1%25.csv')\n",
    "TH_fw_1_egarch = pd.read_csv('https://raw.githubusercontent.com/raphaelyt/thesis199.11/main/data/csv/EGARCH/1%25/TH_VaR_FW-E-1%25.csv')\n",
    "TH_fw_1_igarch = pd.read_csv('https://raw.githubusercontent.com/raphaelyt/thesis199.11/main/data/csv/IGARCH/IGARCH-1%25-FW/TH_fw_FW-I-1%25.csv')\n",
    "TH_fw_1_figarch = pd.read_csv('https://raw.githubusercontent.com/raphaelyt/thesis199.11/main/data/csv/FIGARCH/FIGARCH-1%25-FW/TH_fw_FW-FI-1%25.csv')\n",
    "TH_fw_1_figarch0633 = pd.read_csv('https://raw.githubusercontent.com/raphaelyt/thesis199.11/main/data/csv/FIGARCH0.633/FIGARCH0.633-1%25-FW/TH_fw_FW-FI0.633-1%25.csv')"
   ]
  },
  {
   "cell_type": "code",
   "execution_count": 16,
   "id": "67aa1863",
   "metadata": {},
   "outputs": [
    {
     "name": "stdout",
     "output_type": "stream",
     "text": [
      "dm_return(DM=-1.1422816162118217, p_value=0.2536874973136439)\n",
      "dm_return(DM=0.3925533705198345, p_value=0.694756632416824)\n",
      "dm_return(DM=1.1631231843377534, p_value=0.24513523038961196)\n",
      "dm_return(DM=-0.6635624392161003, p_value=0.5071664735033725)\n",
      "dm_return(DM=-0.5013502067063809, p_value=0.6162661385389513)\n",
      "dm_return(DM=-0.8297261696967945, p_value=0.406947480866106)\n"
     ]
    }
   ],
   "source": [
    "# DN\n",
    "print(DM_test(TH, TH_fw_1_dn, TH_fw_1_garch, len(TH_fw_1_dn)))\n",
    "print(DM_test(TH, TH_fw_1_dn, TH_fw_1_earch, len(TH_fw_1_dn)))\n",
    "print(DM_test(TH, TH_fw_1_dn, TH_fw_1_egarch, len(TH_fw_1_dn)))\n",
    "print(DM_test(TH, TH_fw_1_dn, TH_fw_1_igarch, len(TH_fw_1_dn)))\n",
    "print(DM_test(TH, TH_fw_1_dn, TH_fw_1_figarch, len(TH_fw_1_dn)))\n",
    "print(DM_test(TH, TH_fw_1_dn, TH_fw_1_figarch0633, len(TH_fw_1_dn)))"
   ]
  },
  {
   "cell_type": "code",
   "execution_count": 17,
   "id": "d0a4c345",
   "metadata": {},
   "outputs": [
    {
     "name": "stdout",
     "output_type": "stream",
     "text": [
      "dm_return(DM=1.0004722317166164, p_value=0.317392295131435)\n",
      "dm_return(DM=4.9925650596538285, p_value=7.354069315535796e-07)\n",
      "dm_return(DM=4.236229320038497, p_value=2.5445094330770277e-05)\n",
      "dm_return(DM=0.7411004287276594, p_value=0.45885560077362186)\n",
      "dm_return(DM=1.8462064654182337, p_value=0.06524093994076209)\n",
      "dm_return(DM=1.1854004022541702, p_value=0.23622018141037135)\n"
     ]
    }
   ],
   "source": [
    "# HS\n",
    "print(DM_test(TH, TH_fw_1_hs, TH_fw_1_garch, len(TH_fw_1_hs)))\n",
    "print(DM_test(TH, TH_fw_1_hs, TH_fw_1_earch, len(TH_fw_1_hs)))\n",
    "print(DM_test(TH, TH_fw_1_hs, TH_fw_1_egarch, len(TH_fw_1_hs)))\n",
    "print(DM_test(TH, TH_fw_1_hs, TH_fw_1_igarch, len(TH_fw_1_hs)))\n",
    "print(DM_test(TH, TH_fw_1_hs, TH_fw_1_figarch, len(TH_fw_1_hs)))\n",
    "print(DM_test(TH, TH_fw_1_hs, TH_fw_1_figarch0633, len(TH_fw_1_hs)))"
   ]
  },
  {
   "cell_type": "code",
   "execution_count": 18,
   "id": "9b632c90",
   "metadata": {
    "scrolled": true
   },
   "outputs": [
    {
     "name": "stdout",
     "output_type": "stream",
     "text": [
      "dm_return(DM=1.466102439591177, p_value=0.1430233920350848)\n",
      "dm_return(DM=4.066950011643035, p_value=5.247076791970544e-05)\n",
      "dm_return(DM=4.61294714787544, p_value=4.639165138173229e-06)\n",
      "dm_return(DM=1.0097990071640925, p_value=0.3129047384869618)\n",
      "dm_return(DM=2.2922453882288627, p_value=0.022156972765526778)\n",
      "dm_return(DM=1.5643825980284136, p_value=0.11813334197818141)\n"
     ]
    }
   ],
   "source": [
    "# BRW\n",
    "print(DM_test(TH, TH_fw_1_brw, TH_fw_1_garch, len(TH_fw_1_brw)))\n",
    "print(DM_test(TH, TH_fw_1_brw, TH_fw_1_earch, len(TH_fw_1_brw)))\n",
    "print(DM_test(TH, TH_fw_1_brw, TH_fw_1_egarch, len(TH_fw_1_brw)))\n",
    "print(DM_test(TH, TH_fw_1_brw, TH_fw_1_igarch, len(TH_fw_1_brw)))\n",
    "print(DM_test(TH, TH_fw_1_brw, TH_fw_1_figarch, len(TH_fw_1_brw)))\n",
    "print(DM_test(TH, TH_fw_1_brw, TH_fw_1_figarch0633, len(TH_fw_1_brw)))"
   ]
  },
  {
   "cell_type": "code",
   "execution_count": 19,
   "id": "68c3207b",
   "metadata": {
    "scrolled": true
   },
   "outputs": [
    {
     "name": "stdout",
     "output_type": "stream",
     "text": [
      "dm_return(DM=1.5126461164324483, p_value=0.13077462124346784)\n",
      "dm_return(DM=6.061313923820422, p_value=2.1011022577153787e-09)\n",
      "dm_return(DM=0.12982030733310346, p_value=0.8967420659890122)\n",
      "dm_return(DM=3.106861656829695, p_value=0.001959374202509549)\n",
      "dm_return(DM=0.7569720776192185, p_value=0.4492951809563862)\n"
     ]
    }
   ],
   "source": [
    "# GARCH\n",
    "print(DM_test(TH, TH_fw_1_garch, TH_fw_1_earch, len(TH_fw_1_garch)))\n",
    "print(DM_test(TH, TH_fw_1_garch, TH_fw_1_egarch, len(TH_fw_1_garch)))\n",
    "print(DM_test(TH, TH_fw_1_garch, TH_fw_1_igarch, len(TH_fw_1_garch)))\n",
    "print(DM_test(TH, TH_fw_1_garch, TH_fw_1_figarch, len(TH_fw_1_garch)))\n",
    "print(DM_test(TH, TH_fw_1_garch, TH_fw_1_figarch0633, len(TH_fw_1_garch)))"
   ]
  },
  {
   "cell_type": "code",
   "execution_count": 20,
   "id": "935b40ca",
   "metadata": {
    "scrolled": true
   },
   "outputs": [
    {
     "name": "stdout",
     "output_type": "stream",
     "text": [
      "dm_return(DM=1.0139719409051613, p_value=0.3109105619969982)\n",
      "dm_return(DM=-1.0016780217510475, p_value=0.31680976418142254)\n",
      "dm_return(DM=-0.7937436281738488, p_value=0.4275860950778718)\n",
      "dm_return(DM=-1.2223059930921978, p_value=0.2219611601814415)\n"
     ]
    }
   ],
   "source": [
    "# EARCH\n",
    "print(DM_test(TH, TH_fw_1_earch, TH_fw_1_egarch, len(TH_fw_1_earch)))\n",
    "print(DM_test(TH, TH_fw_1_earch, TH_fw_1_igarch, len(TH_fw_1_earch)))\n",
    "print(DM_test(TH, TH_fw_1_earch, TH_fw_1_figarch, len(TH_fw_1_earch)))\n",
    "print(DM_test(TH, TH_fw_1_earch, TH_fw_1_figarch0633, len(TH_fw_1_earch)))"
   ]
  },
  {
   "cell_type": "code",
   "execution_count": 21,
   "id": "da09eea8",
   "metadata": {},
   "outputs": [
    {
     "name": "stdout",
     "output_type": "stream",
     "text": [
      "dm_return(DM=-1.6814104080227064, p_value=0.09308353428051415)\n",
      "dm_return(DM=-4.543317661492797, p_value=6.414673287717193e-06)\n",
      "dm_return(DM=-3.6674692241419162, p_value=0.00026159160455476767)\n"
     ]
    }
   ],
   "source": [
    "# EGARCH\n",
    "print(DM_test(TH, TH_fw_1_egarch, TH_fw_1_igarch, len(TH_fw_1_egarch)))\n",
    "print(DM_test(TH, TH_fw_1_egarch, TH_fw_1_figarch, len(TH_fw_1_egarch)))\n",
    "print(DM_test(TH, TH_fw_1_egarch, TH_fw_1_figarch0633, len(TH_fw_1_egarch)))"
   ]
  },
  {
   "cell_type": "code",
   "execution_count": 22,
   "id": "7b89bdad",
   "metadata": {},
   "outputs": [
    {
     "name": "stdout",
     "output_type": "stream",
     "text": [
      "dm_return(DM=0.5670695062244091, p_value=0.5708301113164616)\n",
      "dm_return(DM=0.17676199507354595, p_value=0.8597412284459303)\n"
     ]
    }
   ],
   "source": [
    "# IGARCH\n",
    "print(DM_test(TH, TH_fw_1_igarch, TH_fw_1_figarch, len(TH_fw_1_igarch)))\n",
    "print(DM_test(TH, TH_fw_1_igarch, TH_fw_1_figarch0633, len(TH_fw_1_igarch)))"
   ]
  },
  {
   "cell_type": "code",
   "execution_count": 23,
   "id": "c56a42e5",
   "metadata": {},
   "outputs": [
    {
     "name": "stdout",
     "output_type": "stream",
     "text": [
      "dm_return(DM=-1.6611862079760504, p_value=0.09707790853574119)\n"
     ]
    }
   ],
   "source": [
    "# FIGARCH\n",
    "print(DM_test(TH, TH_fw_1_figarch, TH_fw_1_figarch0633, len(TH_fw_1_figarch)))"
   ]
  },
  {
   "cell_type": "markdown",
   "id": "d2576660",
   "metadata": {},
   "source": [
    "## 5.00 %"
   ]
  },
  {
   "cell_type": "code",
   "execution_count": 24,
   "id": "2636de0c",
   "metadata": {},
   "outputs": [],
   "source": [
    "TH_fw_5_dn = pd.read_csv('https://raw.githubusercontent.com/raphaelyt/thesis199.11/main/data/csv/DN/5%25/TH_VaR_FW-DN-5%25.csv')\n",
    "TH_fw_5_hs = pd.read_csv('https://raw.githubusercontent.com/raphaelyt/thesis199.11/main/data/csv/HS/5%25/TH_VaR_FW-HS-5%25.csv')\n",
    "TH_fw_5_brw = pd.read_csv('https://raw.githubusercontent.com/raphaelyt/thesis199.11/main/data/csv/BRW/5%25/TH_VaR_FW-BRW-5%25.csv')\n",
    "TH_fw_5_garch = pd.read_csv('https://raw.githubusercontent.com/raphaelyt/thesis199.11/main/data/csv/GARCH/5%25/TH_VaR_FW-G-5%25.csv')\n",
    "TH_fw_5_earch = pd.read_csv('https://raw.githubusercontent.com/raphaelyt/thesis199.11/main/data/csv/EARCH/5%25/TH_VaR_FW-EA-5%25.csv')\n",
    "TH_fw_5_egarch = pd.read_csv('https://raw.githubusercontent.com/raphaelyt/thesis199.11/main/data/csv/EGARCH/5%25/TH_VaR_FW-E-5%25.csv')\n",
    "TH_fw_5_igarch = pd.read_csv('https://raw.githubusercontent.com/raphaelyt/thesis199.11/main/data/csv/IGARCH/IGARCH-5%25-FW/TH_fw_FW-I-5%25.csv')\n",
    "TH_fw_5_figarch = pd.read_csv('https://raw.githubusercontent.com/raphaelyt/thesis199.11/main/data/csv/FIGARCH/FIGARCH-5%25-FW/TH_fw_FW-FI-5%25.csv')\n",
    "TH_fw_5_figarch0633 = pd.read_csv('https://raw.githubusercontent.com/raphaelyt/thesis199.11/main/data/csv/FIGARCH0.633/FIGARCH0.633-5%25-FW/TH_fw_FW-FI0.633-5%25.csv')"
   ]
  },
  {
   "cell_type": "code",
   "execution_count": 25,
   "id": "e686fd03",
   "metadata": {},
   "outputs": [
    {
     "name": "stdout",
     "output_type": "stream",
     "text": [
      "dm_return(DM=-1.1382607286889517, p_value=0.25536111956159213)\n",
      "dm_return(DM=0.40646015380421957, p_value=0.6845160230805496)\n",
      "dm_return(DM=1.150322084919121, p_value=0.25036378083576355)\n",
      "dm_return(DM=-0.6764649384709176, p_value=0.4989460390303109)\n",
      "dm_return(DM=-0.5022930226566467, p_value=0.6156031845096711)\n",
      "dm_return(DM=-0.8364544347256618, p_value=0.4031554764596733)\n"
     ]
    }
   ],
   "source": [
    "# DN\n",
    "print(DM_test(TH, TH_fw_5_dn, TH_fw_5_garch, len(TH_fw_5_dn)))\n",
    "print(DM_test(TH, TH_fw_5_dn, TH_fw_5_earch, len(TH_fw_5_dn)))\n",
    "print(DM_test(TH, TH_fw_5_dn, TH_fw_5_egarch, len(TH_fw_5_dn)))\n",
    "print(DM_test(TH, TH_fw_5_dn, TH_fw_5_igarch, len(TH_fw_5_dn)))\n",
    "print(DM_test(TH, TH_fw_5_dn, TH_fw_5_figarch, len(TH_fw_5_dn)))\n",
    "print(DM_test(TH, TH_fw_5_dn, TH_fw_5_figarch0633, len(TH_fw_5_dn)))"
   ]
  },
  {
   "cell_type": "code",
   "execution_count": 26,
   "id": "644c272f",
   "metadata": {},
   "outputs": [
    {
     "name": "stdout",
     "output_type": "stream",
     "text": [
      "dm_return(DM=-4.585065753002717, p_value=5.28465875580966e-06)\n",
      "dm_return(DM=-7.099518025809579, p_value=2.8193627832624085e-12)\n",
      "dm_return(DM=-3.8068313565193477, p_value=0.00015179615092963359)\n",
      "dm_return(DM=-2.9416940529049245, p_value=0.0033608851908553845)\n",
      "dm_return(DM=-4.2769199299388365, p_value=2.1300962973513534e-05)\n",
      "dm_return(DM=-4.083433323534087, p_value=4.89552161619572e-05)\n"
     ]
    }
   ],
   "source": [
    "# HS\n",
    "print(DM_test(TH, TH_fw_5_hs, TH_fw_5_garch, len(TH_fw_5_hs)))\n",
    "print(DM_test(TH, TH_fw_5_hs, TH_fw_5_earch, len(TH_fw_5_hs)))\n",
    "print(DM_test(TH, TH_fw_5_hs, TH_fw_5_egarch, len(TH_fw_5_hs)))\n",
    "print(DM_test(TH, TH_fw_5_hs, TH_fw_5_igarch, len(TH_fw_5_hs)))\n",
    "print(DM_test(TH, TH_fw_5_hs, TH_fw_5_figarch, len(TH_fw_5_hs)))\n",
    "print(DM_test(TH, TH_fw_5_hs, TH_fw_5_figarch0633, len(TH_fw_5_hs)))"
   ]
  },
  {
   "cell_type": "code",
   "execution_count": 27,
   "id": "bb7650b6",
   "metadata": {},
   "outputs": [
    {
     "name": "stdout",
     "output_type": "stream",
     "text": [
      "dm_return(DM=-6.12327025642644, p_value=1.4519811408967332e-09)\n",
      "dm_return(DM=-9.835184439669815, p_value=1.3461007069017313e-21)\n",
      "dm_return(DM=-6.019906340235262, p_value=2.6848569717443834e-09)\n",
      "dm_return(DM=-3.9110223251746987, p_value=9.991263192171343e-05)\n",
      "dm_return(DM=-5.962841897318834, p_value=3.755107509204676e-09)\n",
      "dm_return(DM=-5.493969010899228, p_value=5.323083210118257e-08)\n"
     ]
    }
   ],
   "source": [
    "# BRW\n",
    "print(DM_test(TH, TH_fw_5_brw, TH_fw_5_garch, len(TH_fw_5_brw)))\n",
    "print(DM_test(TH, TH_fw_5_brw, TH_fw_5_earch, len(TH_fw_5_brw)))\n",
    "print(DM_test(TH, TH_fw_5_brw, TH_fw_5_egarch, len(TH_fw_5_brw)))\n",
    "print(DM_test(TH, TH_fw_5_brw, TH_fw_5_igarch, len(TH_fw_5_brw)))\n",
    "print(DM_test(TH, TH_fw_5_brw, TH_fw_5_figarch, len(TH_fw_5_brw)))\n",
    "print(DM_test(TH, TH_fw_5_brw, TH_fw_5_figarch0633, len(TH_fw_5_brw)))"
   ]
  },
  {
   "cell_type": "code",
   "execution_count": 28,
   "id": "420cc6bc",
   "metadata": {},
   "outputs": [
    {
     "name": "stdout",
     "output_type": "stream",
     "text": [
      "dm_return(DM=1.51225632550247, p_value=0.13087370385695823)\n",
      "dm_return(DM=6.0620358066306, p_value=2.0921141969897936e-09)\n",
      "dm_return(DM=0.10961475750118038, p_value=0.9127431007527003)\n",
      "dm_return(DM=3.0806303093811898, p_value=0.0021381679799933333)\n",
      "dm_return(DM=0.7264342103230395, p_value=0.467790558386769)\n"
     ]
    }
   ],
   "source": [
    "# GARCH\n",
    "print(DM_test(TH, TH_fw_5_garch, TH_fw_5_earch, len(TH_fw_5_garch)))\n",
    "print(DM_test(TH, TH_fw_5_garch, TH_fw_5_egarch, len(TH_fw_5_garch)))\n",
    "print(DM_test(TH, TH_fw_5_garch, TH_fw_5_igarch, len(TH_fw_5_garch)))\n",
    "print(DM_test(TH, TH_fw_5_garch, TH_fw_5_figarch, len(TH_fw_5_garch)))\n",
    "print(DM_test(TH, TH_fw_5_garch, TH_fw_5_figarch0633, len(TH_fw_5_garch)))"
   ]
  },
  {
   "cell_type": "code",
   "execution_count": 29,
   "id": "b8833906",
   "metadata": {},
   "outputs": [
    {
     "name": "stdout",
     "output_type": "stream",
     "text": [
      "dm_return(DM=0.9986477471277969, p_value=0.318275061415829)\n",
      "dm_return(DM=-1.0191680501066283, p_value=0.308439196096986)\n",
      "dm_return(DM=-0.799066119398339, p_value=0.42449532193234407)\n",
      "dm_return(DM=-1.2324921578358712, p_value=0.2181366584092756)\n"
     ]
    }
   ],
   "source": [
    "# EARCH\n",
    "print(DM_test(TH, TH_fw_5_earch, TH_fw_5_egarch, len(TH_fw_5_earch)))\n",
    "print(DM_test(TH, TH_fw_5_earch, TH_fw_5_igarch, len(TH_fw_5_earch)))\n",
    "print(DM_test(TH, TH_fw_5_earch, TH_fw_5_figarch, len(TH_fw_5_earch)))\n",
    "print(DM_test(TH, TH_fw_5_earch, TH_fw_5_figarch0633, len(TH_fw_5_earch)))"
   ]
  },
  {
   "cell_type": "code",
   "execution_count": 30,
   "id": "c764ca28",
   "metadata": {},
   "outputs": [
    {
     "name": "stdout",
     "output_type": "stream",
     "text": [
      "dm_return(DM=-1.7020693790813972, p_value=0.08914083118102206)\n",
      "dm_return(DM=-4.531178832838274, p_value=6.784516367678468e-06)\n",
      "dm_return(DM=-3.690566926356187, p_value=0.00023931570045632357)\n"
     ]
    }
   ],
   "source": [
    "# EGARCH\n",
    "print(DM_test(TH, TH_fw_5_egarch, TH_fw_5_igarch, len(TH_fw_5_egarch)))\n",
    "print(DM_test(TH, TH_fw_5_egarch, TH_fw_5_figarch, len(TH_fw_5_egarch)))\n",
    "print(DM_test(TH, TH_fw_5_egarch, TH_fw_5_figarch0633, len(TH_fw_5_egarch)))"
   ]
  },
  {
   "cell_type": "code",
   "execution_count": 31,
   "id": "9344452d",
   "metadata": {},
   "outputs": [
    {
     "name": "stdout",
     "output_type": "stream",
     "text": [
      "dm_return(DM=0.5841370771226854, p_value=0.559296984243357)\n",
      "dm_return(DM=0.19076586764624456, p_value=0.8487586717177527)\n"
     ]
    }
   ],
   "source": [
    "# IGARCH\n",
    "print(DM_test(TH, TH_fw_5_igarch, TH_fw_5_figarch,  len(TH_fw_5_igarch)))\n",
    "print(DM_test(TH, TH_fw_5_igarch, TH_fw_5_figarch0633, len(TH_fw_5_igarch)))"
   ]
  },
  {
   "cell_type": "code",
   "execution_count": 32,
   "id": "489a1297",
   "metadata": {},
   "outputs": [
    {
     "name": "stdout",
     "output_type": "stream",
     "text": [
      "dm_return(DM=-1.6844666120810496, p_value=0.09249158002221897)\n"
     ]
    }
   ],
   "source": [
    "# FIGARCH\n",
    "print(DM_test(TH, TH_fw_5_figarch, TH_fw_5_figarch0633, len(TH_fw_5_figarch)))"
   ]
  },
  {
   "cell_type": "markdown",
   "id": "63bcd295",
   "metadata": {},
   "source": [
    "# Rolling Window"
   ]
  },
  {
   "cell_type": "markdown",
   "id": "a1e66dba",
   "metadata": {},
   "source": [
    "## 0.01 %"
   ]
  },
  {
   "cell_type": "code",
   "execution_count": 33,
   "id": "5cdb2c58",
   "metadata": {},
   "outputs": [],
   "source": [
    "TH_rw_01_dn = pd.read_csv('https://raw.githubusercontent.com/raphaelyt/thesis199.11/main/data/csv/DN/0.01%25/TH_VaR_RW-DN-0.01%25.csv')\n",
    "TH_rw_01_hs = pd.read_csv('https://raw.githubusercontent.com/raphaelyt/thesis199.11/main/data/csv/HS/0.01%25/TH_VaR_RW-HS-0.01%25.csv')\n",
    "TH_rw_01_brw = pd.read_csv('https://raw.githubusercontent.com/raphaelyt/thesis199.11/main/data/csv/BRW/0.01%25/TH_VaR_RW-BRW-0.01%25.csv')\n",
    "TH_rw_01_garch = pd.read_csv('https://raw.githubusercontent.com/raphaelyt/thesis199.11/main/data/csv/GARCH/0.01%25/TH_VaR_RW-G-0.01%25.csv')\n",
    "TH_rw_01_earch = pd.read_csv('https://raw.githubusercontent.com/raphaelyt/thesis199.11/main/data/csv/EARCH/0.01%25/TH_VaR_RW-EA-0.01%25.csv')\n",
    "TH_rw_01_egarch = pd.read_csv('https://raw.githubusercontent.com/raphaelyt/thesis199.11/main/data/csv/EGARCH/0.01%25/TH_VaR_RW-E-0.01%25.csv')\n",
    "TH_rw_01_igarch = pd.read_csv('https://raw.githubusercontent.com/raphaelyt/thesis199.11/main/data/csv/IGARCH/IGARCH-0.01%25-RW/TH_RW-I-0.01%25.csv')\n",
    "TH_rw_01_figarch = pd.read_csv('https://raw.githubusercontent.com/raphaelyt/thesis199.11/main/data/csv/FIGARCH/FIGARCH-0.01%25-RW/TH_RW-FI-0.01%25.csv')\n",
    "TH_rw_01_figarch0633 = pd.read_csv('https://raw.githubusercontent.com/raphaelyt/thesis199.11/main/data/csv/FIGARCH0.633/FIGARCH0.633-0.01%25-RW/TH_RW-FI0.633-0.01%25.csv')"
   ]
  },
  {
   "cell_type": "code",
   "execution_count": 34,
   "id": "78f3c04f",
   "metadata": {},
   "outputs": [
    {
     "name": "stdout",
     "output_type": "stream",
     "text": [
      "dm_return(DM=-0.9195140839976237, p_value=0.35811101104330334)\n",
      "dm_return(DM=0.8924240470299659, p_value=0.3724409169699666)\n",
      "dm_return(DM=2.14425279484971, p_value=0.032321070605146975)\n",
      "dm_return(DM=-0.5097756657763967, p_value=0.6103528384016379)\n",
      "dm_return(DM=-0.18697591625730547, p_value=0.851728137853471)\n",
      "dm_return(DM=-0.6537044200611505, p_value=0.5134949175122976)\n"
     ]
    }
   ],
   "source": [
    "# DN\n",
    "print(DM_test(TH, TH_rw_01_dn, TH_rw_01_garch, len(TH_rw_01_dn)))\n",
    "print(DM_test(TH, TH_rw_01_dn, TH_rw_01_earch, len(TH_rw_01_dn)))\n",
    "print(DM_test(TH, TH_rw_01_dn, TH_rw_01_egarch, len(TH_rw_01_dn)))\n",
    "print(DM_test(TH, TH_rw_01_dn, TH_rw_01_igarch, len(TH_rw_01_dn)))\n",
    "print(DM_test(TH, TH_rw_01_dn, TH_rw_01_figarch, len(TH_rw_01_dn)))\n",
    "print(DM_test(TH, TH_rw_01_dn, TH_rw_01_figarch0633, len(TH_rw_01_dn)))"
   ]
  },
  {
   "cell_type": "code",
   "execution_count": 35,
   "id": "3259f594",
   "metadata": {
    "scrolled": true
   },
   "outputs": [
    {
     "name": "stdout",
     "output_type": "stream",
     "text": [
      "dm_return(DM=48.76972849311587, p_value=4.3375105217563275e-239)\n",
      "dm_return(DM=97.67458783067663, p_value=0.0)\n",
      "dm_return(DM=76.55556469769732, p_value=0.0)\n",
      "dm_return(DM=28.447352234016904, p_value=1.1311144726883377e-122)\n",
      "dm_return(DM=53.81028294430307, p_value=8.886753368791012e-265)\n",
      "dm_return(DM=40.14935014892526, p_value=5.537619380207112e-192)\n"
     ]
    }
   ],
   "source": [
    "# HS\n",
    "print(DM_test(TH, TH_rw_01_hs, TH_rw_01_garch, len(TH_rw_01_hs)))\n",
    "print(DM_test(TH, TH_rw_01_hs, TH_rw_01_earch, len(TH_rw_01_hs)))\n",
    "print(DM_test(TH, TH_rw_01_hs, TH_rw_01_egarch, len(TH_rw_01_hs)))\n",
    "print(DM_test(TH, TH_rw_01_hs, TH_rw_01_igarch, len(TH_rw_01_hs)))\n",
    "print(DM_test(TH, TH_rw_01_hs, TH_rw_01_figarch, len(TH_rw_01_hs)))\n",
    "print(DM_test(TH, TH_rw_01_hs, TH_rw_01_figarch0633, len(TH_rw_01_hs)))"
   ]
  },
  {
   "cell_type": "code",
   "execution_count": 36,
   "id": "585759d5",
   "metadata": {},
   "outputs": [
    {
     "name": "stdout",
     "output_type": "stream",
     "text": [
      "dm_return(DM=6.5307461294107405, p_value=1.1793638205087156e-10)\n",
      "dm_return(DM=12.314109184835075, p_value=5.72508443595821e-32)\n",
      "dm_return(DM=12.271757140695696, p_value=8.88028671822116e-32)\n",
      "dm_return(DM=3.8736342327253603, p_value=0.00011622121552209964)\n",
      "dm_return(DM=7.821187796229173, p_value=1.6987684666577288e-14)\n",
      "dm_return(DM=5.465813654325098, p_value=6.204490146815766e-08)\n"
     ]
    }
   ],
   "source": [
    "# BRW\n",
    "print(DM_test(TH, TH_rw_01_brw, TH_rw_01_garch, len(TH_rw_01_brw)))\n",
    "print(DM_test(TH, TH_rw_01_brw, TH_rw_01_earch, len(TH_rw_01_brw)))\n",
    "print(DM_test(TH, TH_rw_01_brw, TH_rw_01_egarch, len(TH_rw_01_brw)))\n",
    "print(DM_test(TH, TH_rw_01_brw, TH_rw_01_igarch, len(TH_rw_01_brw)))\n",
    "print(DM_test(TH, TH_rw_01_brw, TH_rw_01_figarch, len(TH_rw_01_brw)))\n",
    "print(DM_test(TH, TH_rw_01_brw, TH_rw_01_figarch0633, len(TH_rw_01_brw)))"
   ]
  },
  {
   "cell_type": "code",
   "execution_count": 37,
   "id": "1e96df22",
   "metadata": {},
   "outputs": [
    {
     "name": "stdout",
     "output_type": "stream",
     "text": [
      "dm_return(DM=1.5402048612851391, p_value=0.1239159898473886)\n",
      "dm_return(DM=5.454918194664948, p_value=6.582288558634434e-08)\n",
      "dm_return(DM=0.007840590610589998, p_value=0.9937461827317571)\n",
      "dm_return(DM=2.9275720581020988, p_value=0.003515588838782084)\n",
      "dm_return(DM=0.1837748887694543, p_value=0.8542378194745938)\n"
     ]
    }
   ],
   "source": [
    "# GARCH\n",
    "print(DM_test(TH, TH_rw_01_garch, TH_rw_01_earch, len(TH_rw_01_garch)))\n",
    "print(DM_test(TH, TH_rw_01_garch, TH_rw_01_egarch, len(TH_rw_01_garch)))\n",
    "print(DM_test(TH, TH_rw_01_garch, TH_rw_01_igarch, len(TH_rw_01_garch)))\n",
    "print(DM_test(TH, TH_rw_01_garch, TH_rw_01_figarch, len(TH_rw_01_garch)))\n",
    "print(DM_test(TH, TH_rw_01_garch, TH_rw_01_figarch0633, len(TH_rw_01_garch)))"
   ]
  },
  {
   "cell_type": "code",
   "execution_count": 38,
   "id": "dad26e87",
   "metadata": {},
   "outputs": [
    {
     "name": "stdout",
     "output_type": "stream",
     "text": [
      "dm_return(DM=1.721858508544426, p_value=0.0854916124899605)\n",
      "dm_return(DM=-0.9152220578374678, p_value=0.3603579133300956)\n",
      "dm_return(DM=-0.7983015398307451, p_value=0.4249385072037922)\n",
      "dm_return(DM=-1.2752871458586388, p_value=0.20258732550735165)\n"
     ]
    }
   ],
   "source": [
    "# EARCH\n",
    "print(DM_test(TH, TH_rw_01_earch, TH_rw_01_egarch, len(TH_rw_01_earch)))\n",
    "print(DM_test(TH, TH_rw_01_earch, TH_rw_01_igarch, len(TH_rw_01_earch)))\n",
    "print(DM_test(TH, TH_rw_01_earch, TH_rw_01_figarch, len(TH_rw_01_earch)))\n",
    "print(DM_test(TH, TH_rw_01_earch, TH_rw_01_figarch0633, len(TH_rw_01_earch)))"
   ]
  },
  {
   "cell_type": "code",
   "execution_count": 39,
   "id": "c802b963",
   "metadata": {},
   "outputs": [
    {
     "name": "stdout",
     "output_type": "stream",
     "text": [
      "dm_return(DM=-1.5543227130142714, p_value=0.12051308950023187)\n",
      "dm_return(DM=-4.114608079467531, p_value=4.2909015149903384e-05)\n",
      "dm_return(DM=-2.7710486395839053, p_value=0.005720616640940641)\n"
     ]
    }
   ],
   "source": [
    "# EGARCH\n",
    "print(DM_test(TH, TH_rw_01_egarch, TH_rw_01_igarch, len(TH_rw_01_egarch)))\n",
    "print(DM_test(TH, TH_rw_01_egarch, TH_rw_01_figarch, len(TH_rw_01_egarch)))\n",
    "print(DM_test(TH, TH_rw_01_egarch, TH_rw_01_figarch0633, len(TH_rw_01_egarch)))"
   ]
  },
  {
   "cell_type": "code",
   "execution_count": 40,
   "id": "293bff55",
   "metadata": {},
   "outputs": [
    {
     "name": "stdout",
     "output_type": "stream",
     "text": [
      "dm_return(DM=0.6526360003274027, p_value=0.5141832646744993)\n",
      "dm_return(DM=0.1352764692912163, p_value=0.8924281899271245)\n"
     ]
    }
   ],
   "source": [
    "# IGARCH\n",
    "print(DM_test(TH, TH_rw_01_igarch, TH_rw_01_figarch,  len(TH_rw_01_igarch)))\n",
    "print(DM_test(TH, TH_rw_01_igarch, TH_rw_01_figarch0633, len(TH_rw_01_igarch)))"
   ]
  },
  {
   "cell_type": "code",
   "execution_count": 41,
   "id": "09e465e7",
   "metadata": {},
   "outputs": [
    {
     "name": "stdout",
     "output_type": "stream",
     "text": [
      "dm_return(DM=-1.4916334362649586, p_value=0.13619957712364963)\n"
     ]
    }
   ],
   "source": [
    "# FIGARCH\n",
    "print(DM_test(TH, TH_rw_01_figarch, TH_rw_01_figarch0633, len(TH_rw_01_figarch)))"
   ]
  },
  {
   "cell_type": "markdown",
   "id": "4f543b85",
   "metadata": {},
   "source": [
    "## 1.00 %"
   ]
  },
  {
   "cell_type": "code",
   "execution_count": 42,
   "id": "2c5b0da3",
   "metadata": {},
   "outputs": [],
   "source": [
    "TH_rw_1_dn = pd.read_csv('https://raw.githubusercontent.com/raphaelyt/thesis199.11/main/data/csv/DN/1%25/TH_VaR_RW-DN-1%25.csv')\n",
    "TH_rw_1_hs = pd.read_csv('https://raw.githubusercontent.com/raphaelyt/thesis199.11/main/data/csv/HS/1%25/TH_VaR_RW-HS-1%25.csv')\n",
    "TH_rw_1_brw = pd.read_csv('https://raw.githubusercontent.com/raphaelyt/thesis199.11/main/data/csv/BRW/1%25/TH_VaR_RW-BRW-1%25.csv')\n",
    "TH_rw_1_garch = pd.read_csv('https://raw.githubusercontent.com/raphaelyt/thesis199.11/main/data/csv/GARCH/1%25/TH_VaR_RW-G-1%25.csv')\n",
    "TH_rw_1_earch = pd.read_csv('https://raw.githubusercontent.com/raphaelyt/thesis199.11/main/data/csv/EARCH/1%25/TH_VaR_RW-EA-1%25.csv')\n",
    "TH_rw_1_egarch = pd.read_csv('https://raw.githubusercontent.com/raphaelyt/thesis199.11/main/data/csv/EGARCH/1%25/TH_VaR_RW-E-1%25.csv')\n",
    "TH_rw_1_igarch = pd.read_csv('https://raw.githubusercontent.com/raphaelyt/thesis199.11/main/data/csv/IGARCH/IGARCH-1%25-RW/TH_RW-I-1%25.csv')\n",
    "TH_rw_1_figarch = pd.read_csv('https://raw.githubusercontent.com/raphaelyt/thesis199.11/main/data/csv/FIGARCH/FIGARCH-1%25-RW/TH_RW-FI-1%25.csv')\n",
    "TH_rw_1_figarch0633 = pd.read_csv('https://raw.githubusercontent.com/raphaelyt/thesis199.11/main/data/csv/FIGARCH0.633/FIGARCH0.633-1%25-RW/TH_RW-FI0.633-1%25.csv')"
   ]
  },
  {
   "cell_type": "code",
   "execution_count": 43,
   "id": "3d58077b",
   "metadata": {},
   "outputs": [
    {
     "name": "stdout",
     "output_type": "stream",
     "text": [
      "dm_return(DM=-0.9188672268566606, p_value=0.3584490784128064)\n",
      "dm_return(DM=0.909855609714252, p_value=0.3631797252884882)\n",
      "dm_return(DM=2.125233215945512, p_value=0.033880880749362526)\n",
      "dm_return(DM=-0.5169716594219813, p_value=0.6053224959537973)\n",
      "dm_return(DM=-0.19223510326402818, p_value=0.847608086116578)\n",
      "dm_return(DM=-0.6657568758023351, p_value=0.5057633419717249)\n"
     ]
    }
   ],
   "source": [
    "# DN\n",
    "print(DM_test(TH, TH_rw_1_dn, TH_rw_1_garch, len(TH_rw_1_dn)))\n",
    "print(DM_test(TH, TH_rw_1_dn, TH_rw_1_earch, len(TH_rw_1_dn)))\n",
    "print(DM_test(TH, TH_rw_1_dn, TH_rw_1_egarch, len(TH_rw_1_dn)))\n",
    "print(DM_test(TH, TH_rw_1_dn, TH_rw_1_igarch, len(TH_rw_1_dn)))\n",
    "print(DM_test(TH, TH_rw_1_dn, TH_rw_1_figarch, len(TH_rw_1_dn)))\n",
    "print(DM_test(TH, TH_rw_1_dn, TH_rw_1_figarch0633, len(TH_rw_1_dn)))"
   ]
  },
  {
   "cell_type": "code",
   "execution_count": 44,
   "id": "55affb57",
   "metadata": {},
   "outputs": [
    {
     "name": "stdout",
     "output_type": "stream",
     "text": [
      "dm_return(DM=0.9124732121921237, p_value=0.3618015981087509)\n",
      "dm_return(DM=5.075400528036105, p_value=4.838193335106687e-07)\n",
      "dm_return(DM=5.068675881329981, p_value=5.006596692124439e-07)\n",
      "dm_return(DM=0.5137446626499044, p_value=0.607576019680867)\n",
      "dm_return(DM=1.8183372587701403, p_value=0.06939601760819207)\n",
      "dm_return(DM=0.8140283709901702, p_value=0.4158771338525613)\n"
     ]
    }
   ],
   "source": [
    "# HS\n",
    "print(DM_test(TH, TH_rw_1_hs, TH_rw_1_garch, len(TH_rw_1_hs)))\n",
    "print(DM_test(TH, TH_rw_1_hs, TH_rw_1_earch, len(TH_rw_1_hs)))\n",
    "print(DM_test(TH, TH_rw_1_hs, TH_rw_1_egarch, len(TH_rw_1_hs)))\n",
    "print(DM_test(TH, TH_rw_1_hs, TH_rw_1_igarch, len(TH_rw_1_hs)))\n",
    "print(DM_test(TH, TH_rw_1_hs, TH_rw_1_figarch, len(TH_rw_1_hs)))\n",
    "print(DM_test(TH, TH_rw_1_hs, TH_rw_1_figarch0633, len(TH_rw_1_hs)))"
   ]
  },
  {
   "cell_type": "code",
   "execution_count": 45,
   "id": "d00409f2",
   "metadata": {},
   "outputs": [
    {
     "name": "stdout",
     "output_type": "stream",
     "text": [
      "dm_return(DM=0.984693078121021, p_value=0.32508019167223023)\n",
      "dm_return(DM=3.53047685055298, p_value=0.00043914480965423844)\n",
      "dm_return(DM=4.720304810664276, p_value=2.7912961569683703e-06)\n",
      "dm_return(DM=0.5545715882584532, p_value=0.5793467012995394)\n",
      "dm_return(DM=1.8678978691206036, p_value=0.06215108074774161)\n",
      "dm_return(DM=0.8646936707898364, p_value=0.38747278937025886)\n"
     ]
    }
   ],
   "source": [
    "# BRW\n",
    "print(DM_test(TH, TH_rw_1_brw, TH_rw_1_garch, len(TH_rw_1_brw)))\n",
    "print(DM_test(TH, TH_rw_1_brw, TH_rw_1_earch, len(TH_rw_1_brw)))\n",
    "print(DM_test(TH, TH_rw_1_brw, TH_rw_1_egarch, len(TH_rw_1_brw)))\n",
    "print(DM_test(TH, TH_rw_1_brw, TH_rw_1_igarch, len(TH_rw_1_brw)))\n",
    "print(DM_test(TH, TH_rw_1_brw, TH_rw_1_figarch, len(TH_rw_1_brw)))\n",
    "print(DM_test(TH, TH_rw_1_brw, TH_rw_1_figarch0633, len(TH_rw_1_brw)))"
   ]
  },
  {
   "cell_type": "code",
   "execution_count": 46,
   "id": "df73232e",
   "metadata": {},
   "outputs": [
    {
     "name": "stdout",
     "output_type": "stream",
     "text": [
      "dm_return(DM=1.5417334174396977, p_value=0.12354396600388465)\n",
      "dm_return(DM=5.452019599240168, p_value=6.686499433070258e-08)\n",
      "dm_return(DM=-0.0010220813425232873, p_value=0.9991847585562256)\n",
      "dm_return(DM=2.899451451453552, p_value=0.0038431352150019374)\n",
      "dm_return(DM=0.16026721444086553, p_value=0.8727120791014062)\n"
     ]
    }
   ],
   "source": [
    "# GARCH\n",
    "print(DM_test(TH, TH_rw_1_garch, TH_rw_1_earch, len(TH_rw_1_garch)))\n",
    "print(DM_test(TH, TH_rw_1_garch, TH_rw_1_egarch, len(TH_rw_1_garch)))\n",
    "print(DM_test(TH, TH_rw_1_garch, TH_rw_1_igarch, len(TH_rw_1_garch)))\n",
    "print(DM_test(TH, TH_rw_1_garch, TH_rw_1_figarch, len(TH_rw_1_garch)))\n",
    "print(DM_test(TH, TH_rw_1_garch, TH_rw_1_figarch0633, len(TH_rw_1_garch)))"
   ]
  },
  {
   "cell_type": "code",
   "execution_count": 47,
   "id": "689de2f2",
   "metadata": {},
   "outputs": [
    {
     "name": "stdout",
     "output_type": "stream",
     "text": [
      "dm_return(DM=1.700625726549911, p_value=0.08941189518559524)\n",
      "dm_return(DM=-0.9257285288621326, p_value=0.3548733992080575)\n",
      "dm_return(DM=-0.8089897371076872, p_value=0.41876774008455164)\n",
      "dm_return(DM=-1.29285781676807, p_value=0.19644304998041995)\n"
     ]
    }
   ],
   "source": [
    "# EARCH\n",
    "print(DM_test(TH, TH_rw_1_earch, TH_rw_1_egarch, len(TH_rw_1_earch)))\n",
    "print(DM_test(TH, TH_rw_1_earch, TH_rw_1_igarch, len(TH_rw_1_earch)))\n",
    "print(DM_test(TH, TH_rw_1_earch, TH_rw_1_figarch, len(TH_rw_1_earch)))\n",
    "print(DM_test(TH, TH_rw_1_earch, TH_rw_1_figarch0633, len(TH_rw_1_earch)))"
   ]
  },
  {
   "cell_type": "code",
   "execution_count": 48,
   "id": "18a9f83c",
   "metadata": {},
   "outputs": [
    {
     "name": "stdout",
     "output_type": "stream",
     "text": [
      "dm_return(DM=-1.5623719921555232, p_value=0.11860599042744979)\n",
      "dm_return(DM=-4.134382735372276, p_value=3.9449242588764514e-05)\n",
      "dm_return(DM=-2.7926121824168595, p_value=0.005356447765135085)\n"
     ]
    }
   ],
   "source": [
    "# EGARCH\n",
    "print(DM_test(TH, TH_rw_1_egarch, TH_rw_1_igarch, len(TH_rw_1_egarch)))\n",
    "print(DM_test(TH, TH_rw_1_egarch, TH_rw_1_figarch, len(TH_rw_1_egarch)))\n",
    "print(DM_test(TH, TH_rw_1_egarch, TH_rw_1_figarch0633, len(TH_rw_1_egarch)))"
   ]
  },
  {
   "cell_type": "code",
   "execution_count": 49,
   "id": "30608fa5",
   "metadata": {},
   "outputs": [
    {
     "name": "stdout",
     "output_type": "stream",
     "text": [
      "dm_return(DM=0.6578734824159712, p_value=0.5108135338364406)\n",
      "dm_return(DM=0.13192801898930076, p_value=0.8950752488890814)\n"
     ]
    }
   ],
   "source": [
    "# IGARCH\n",
    "print(DM_test(TH, TH_rw_1_igarch, TH_rw_1_figarch,  len(TH_rw_1_igarch)))\n",
    "print(DM_test(TH, TH_rw_1_igarch, TH_rw_1_figarch0633, len(TH_rw_1_igarch)))"
   ]
  },
  {
   "cell_type": "code",
   "execution_count": 50,
   "id": "5633961d",
   "metadata": {},
   "outputs": [
    {
     "name": "stdout",
     "output_type": "stream",
     "text": [
      "dm_return(DM=-1.5106351183853162, p_value=0.1312864313880917)\n"
     ]
    }
   ],
   "source": [
    "# FIGARCH\n",
    "print(DM_test(TH, TH_rw_1_figarch, TH_rw_1_figarch0633, len(TH_rw_1_figarch)))"
   ]
  },
  {
   "cell_type": "markdown",
   "id": "6660bba5",
   "metadata": {},
   "source": [
    "## 5.00 %"
   ]
  },
  {
   "cell_type": "code",
   "execution_count": 51,
   "id": "95a0d715",
   "metadata": {},
   "outputs": [],
   "source": [
    "TH_rw_5_dn = pd.read_csv('https://raw.githubusercontent.com/raphaelyt/thesis199.11/main/data/csv/DN/5%25/TH_VaR_RW-DN-5%25.csv')\n",
    "TH_rw_5_hs = pd.read_csv('https://raw.githubusercontent.com/raphaelyt/thesis199.11/main/data/csv/HS/5%25/TH_VaR_RW-HS-5%25.csv')\n",
    "TH_rw_5_brw = pd.read_csv('https://raw.githubusercontent.com/raphaelyt/thesis199.11/main/data/csv/BRW/5%25/TH_VaR_RW-BRW-5%25.csv')\n",
    "TH_rw_5_garch = pd.read_csv('https://raw.githubusercontent.com/raphaelyt/thesis199.11/main/data/csv/GARCH/5%25/TH_VaR_RW-G-5%25.csv')\n",
    "TH_rw_5_earch = pd.read_csv('https://raw.githubusercontent.com/raphaelyt/thesis199.11/main/data/csv/EARCH/5%25/TH_VaR_RW-EA-5%25.csv')\n",
    "TH_rw_5_egarch = pd.read_csv('https://raw.githubusercontent.com/raphaelyt/thesis199.11/main/data/csv/EGARCH/5%25/TH_VaR_RW-E-5%25.csv')\n",
    "TH_rw_5_igarch = pd.read_csv('https://raw.githubusercontent.com/raphaelyt/thesis199.11/main/data/csv/IGARCH/IGARCH-5%25-RW/TH_RW-I-5%25.csv')\n",
    "TH_rw_5_figarch = pd.read_csv('https://raw.githubusercontent.com/raphaelyt/thesis199.11/main/data/csv/FIGARCH/FIGARCH-5%25-RW/TH_RW-FI-5%25.csv')\n",
    "TH_rw_5_figarch0633 = pd.read_csv('https://raw.githubusercontent.com/raphaelyt/thesis199.11/main/data/csv/FIGARCH0.633/FIGARCH0.633-5%25-RW/TH_RW-FI0.633-5%25.csv')"
   ]
  },
  {
   "cell_type": "code",
   "execution_count": 52,
   "id": "208d5fe3",
   "metadata": {},
   "outputs": [
    {
     "name": "stdout",
     "output_type": "stream",
     "text": [
      "dm_return(DM=-0.9153031821237306, p_value=0.3603153622288304)\n",
      "dm_return(DM=0.9270392766133241, p_value=0.3541928952250164)\n",
      "dm_return(DM=2.088300822683342, p_value=0.03709447736799834)\n",
      "dm_return(DM=-0.5238874950550466, p_value=0.6005056134853131)\n",
      "dm_return(DM=-0.19744193646061994, p_value=0.8435331544022694)\n",
      "dm_return(DM=-0.6773404204826762, p_value=0.49839083385117333)\n"
     ]
    }
   ],
   "source": [
    "# DN\n",
    "print(DM_test(TH, TH_rw_5_dn, TH_rw_5_garch, len(TH_rw_5_dn)))\n",
    "print(DM_test(TH, TH_rw_5_dn, TH_rw_5_earch, len(TH_rw_5_dn)))\n",
    "print(DM_test(TH, TH_rw_5_dn, TH_rw_5_egarch, len(TH_rw_5_dn)))\n",
    "print(DM_test(TH, TH_rw_5_dn, TH_rw_5_igarch, len(TH_rw_5_dn)))\n",
    "print(DM_test(TH, TH_rw_5_dn, TH_rw_5_figarch, len(TH_rw_5_dn)))\n",
    "print(DM_test(TH, TH_rw_5_dn, TH_rw_5_figarch0633, len(TH_rw_5_dn)))"
   ]
  },
  {
   "cell_type": "code",
   "execution_count": 53,
   "id": "5b24c73e",
   "metadata": {},
   "outputs": [
    {
     "name": "stdout",
     "output_type": "stream",
     "text": [
      "dm_return(DM=-4.629723456912506, p_value=4.287987679367e-06)\n",
      "dm_return(DM=-7.642761214931756, p_value=6.246318898426878e-14)\n",
      "dm_return(DM=-3.951625454231922, p_value=8.466314277690475e-05)\n",
      "dm_return(DM=-2.613075244658367, p_value=0.009145987197104318)\n",
      "dm_return(DM=-4.2901098662162465, p_value=2.0101845581685027e-05)\n",
      "dm_return(DM=-3.6833164971401455, p_value=0.0002461085396595393)\n"
     ]
    }
   ],
   "source": [
    "# HS\n",
    "print(DM_test(TH, TH_rw_5_hs, TH_rw_5_garch, len(TH_rw_5_hs)))\n",
    "print(DM_test(TH, TH_rw_5_hs, TH_rw_5_earch, len(TH_rw_5_hs)))\n",
    "print(DM_test(TH, TH_rw_5_hs, TH_rw_5_egarch, len(TH_rw_5_hs)))\n",
    "print(DM_test(TH, TH_rw_5_hs, TH_rw_5_igarch, len(TH_rw_5_hs)))\n",
    "print(DM_test(TH, TH_rw_5_hs, TH_rw_5_figarch, len(TH_rw_5_hs)))\n",
    "print(DM_test(TH, TH_rw_5_hs, TH_rw_5_figarch0633, len(TH_rw_5_hs)))"
   ]
  },
  {
   "cell_type": "code",
   "execution_count": 54,
   "id": "09a6a930",
   "metadata": {},
   "outputs": [
    {
     "name": "stdout",
     "output_type": "stream",
     "text": [
      "dm_return(DM=-6.413054769169329, p_value=2.4702565344596266e-10)\n",
      "dm_return(DM=-11.092129377265922, p_value=1.1944930624822363e-26)\n",
      "dm_return(DM=-6.901804858514769, p_value=1.0636799282294127e-11)\n",
      "dm_return(DM=-3.6011142937613982, p_value=0.0003369075318074936)\n",
      "dm_return(DM=-6.2920276585768296, p_value=5.220538354886984e-10)\n",
      "dm_return(DM=-5.1124361552966775, p_value=4.004412126136718e-07)\n"
     ]
    }
   ],
   "source": [
    "# BRW\n",
    "print(DM_test(TH, TH_rw_5_brw, TH_rw_5_garch, len(TH_rw_5_brw)))\n",
    "print(DM_test(TH, TH_rw_5_brw, TH_rw_5_earch, len(TH_rw_5_brw)))\n",
    "print(DM_test(TH, TH_rw_5_brw, TH_rw_5_egarch, len(TH_rw_5_brw)))\n",
    "print(DM_test(TH, TH_rw_5_brw, TH_rw_5_igarch, len(TH_rw_5_brw)))\n",
    "print(DM_test(TH, TH_rw_5_brw, TH_rw_5_figarch, len(TH_rw_5_brw)))\n",
    "print(DM_test(TH, TH_rw_5_brw, TH_rw_5_figarch0633, len(TH_rw_5_brw)))"
   ]
  },
  {
   "cell_type": "code",
   "execution_count": 55,
   "id": "f761f7a2",
   "metadata": {},
   "outputs": [
    {
     "name": "stdout",
     "output_type": "stream",
     "text": [
      "dm_return(DM=1.5394247429628898, p_value=0.1241061943047165)\n",
      "dm_return(DM=5.445251815396209, p_value=6.936088844200707e-08)\n",
      "dm_return(DM=-0.010866738578356355, p_value=0.9913325463944787)\n",
      "dm_return(DM=2.8634913507881063, p_value=0.004302409295120166)\n",
      "dm_return(DM=0.13393551246843508, p_value=0.8934881174926079)\n"
     ]
    }
   ],
   "source": [
    "# GARCH\n",
    "print(DM_test(TH, TH_rw_5_garch, TH_rw_5_earch, len(TH_rw_5_garch)))\n",
    "print(DM_test(TH, TH_rw_5_garch, TH_rw_5_egarch, len(TH_rw_5_garch)))\n",
    "print(DM_test(TH, TH_rw_5_garch, TH_rw_5_igarch, len(TH_rw_5_garch)))\n",
    "print(DM_test(TH, TH_rw_5_garch, TH_rw_5_figarch, len(TH_rw_5_garch)))\n",
    "print(DM_test(TH, TH_rw_5_garch, TH_rw_5_figarch0633, len(TH_rw_5_garch)))"
   ]
  },
  {
   "cell_type": "code",
   "execution_count": 56,
   "id": "26c90177",
   "metadata": {},
   "outputs": [
    {
     "name": "stdout",
     "output_type": "stream",
     "text": [
      "dm_return(DM=1.6670233887202248, p_value=0.09591118865643442)\n",
      "dm_return(DM=-0.9356819489298369, p_value=0.34972655864785396)\n",
      "dm_return(DM=-0.8183886408791808, p_value=0.41338525006088744)\n",
      "dm_return(DM=-1.3091039795605959, p_value=0.1908846519948985)\n"
     ]
    }
   ],
   "source": [
    "# EARCH\n",
    "print(DM_test(TH, TH_rw_5_earch, TH_rw_5_egarch, len(TH_rw_5_earch)))\n",
    "print(DM_test(TH, TH_rw_5_earch, TH_rw_5_igarch, len(TH_rw_5_earch)))\n",
    "print(DM_test(TH, TH_rw_5_earch, TH_rw_5_figarch, len(TH_rw_5_earch)))\n",
    "print(DM_test(TH, TH_rw_5_earch, TH_rw_5_figarch0633, len(TH_rw_5_earch)))"
   ]
  },
  {
   "cell_type": "code",
   "execution_count": 57,
   "id": "ad777037",
   "metadata": {},
   "outputs": [
    {
     "name": "stdout",
     "output_type": "stream",
     "text": [
      "dm_return(DM=-1.5696993749388362, p_value=0.11689061838166782)\n",
      "dm_return(DM=-4.150943752182931, p_value=3.6757476853246906e-05)\n",
      "dm_return(DM=-2.8142174384422836, p_value=0.005012738495597444)\n"
     ]
    }
   ],
   "source": [
    "# EGARCH\n",
    "print(DM_test(TH, TH_rw_5_egarch, TH_rw_5_igarch, len(TH_rw_5_egarch)))\n",
    "print(DM_test(TH, TH_rw_5_egarch, TH_rw_5_figarch, len(TH_rw_5_egarch)))\n",
    "print(DM_test(TH, TH_rw_5_egarch, TH_rw_5_figarch0633, len(TH_rw_5_egarch)))"
   ]
  },
  {
   "cell_type": "code",
   "execution_count": 58,
   "id": "1ebbdedd",
   "metadata": {},
   "outputs": [
    {
     "name": "stdout",
     "output_type": "stream",
     "text": [
      "dm_return(DM=0.6627153283271883, p_value=0.5077086671822887)\n",
      "dm_return(DM=0.12803232711550594, p_value=0.8981563919318181)\n"
     ]
    }
   ],
   "source": [
    "# IGARCH\n",
    "print(DM_test(TH, TH_rw_5_igarch, TH_rw_5_figarch,  len(TH_rw_5_igarch)))\n",
    "print(DM_test(TH, TH_rw_5_igarch, TH_rw_5_figarch0633, len(TH_rw_5_igarch)))"
   ]
  },
  {
   "cell_type": "code",
   "execution_count": 59,
   "id": "6849300c",
   "metadata": {},
   "outputs": [
    {
     "name": "stdout",
     "output_type": "stream",
     "text": [
      "dm_return(DM=-1.529030700586615, p_value=0.12666225003361145)\n"
     ]
    }
   ],
   "source": [
    "# FIGARCH\n",
    "print(DM_test(TH, TH_rw_5_figarch, TH_rw_5_figarch0633, len(TH_rw_5_figarch)))"
   ]
  }
 ],
 "metadata": {
  "kernelspec": {
   "display_name": "Python 3",
   "language": "python",
   "name": "python3"
  },
  "language_info": {
   "codemirror_mode": {
    "name": "ipython",
    "version": 3
   },
   "file_extension": ".py",
   "mimetype": "text/x-python",
   "name": "python",
   "nbconvert_exporter": "python",
   "pygments_lexer": "ipython3",
   "version": "3.8.8"
  }
 },
 "nbformat": 4,
 "nbformat_minor": 5
}

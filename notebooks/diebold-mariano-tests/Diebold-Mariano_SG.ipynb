{
 "cells": [
  {
   "cell_type": "markdown",
   "id": "8ddcfd2a",
   "metadata": {},
   "source": [
    "# Importing Packages"
   ]
  },
  {
   "cell_type": "code",
   "execution_count": 61,
   "id": "a06b5d63",
   "metadata": {},
   "outputs": [],
   "source": [
    "import pandas as pd\n",
    "import matplotlib.pyplot as plt\n",
    "from arch import arch_model #GARCH Models\n",
    "from statsmodels.graphics.tsaplots import plot_acf, plot_pacf\n",
    "import numpy as np\n",
    "import math\n",
    "import scipy.stats\n",
    "from statistics import NormalDist\n",
    "from scipy.stats import t\n",
    "from scipy.stats import f\n",
    "from datetime import datetime\n",
    "from scipy.stats import shapiro #Shapiro Test\n",
    "from scipy import stats #t-test\n",
    "import statsmodels.api as sm #Ljung-Box Test\n",
    "from scipy.stats import chi2"
   ]
  },
  {
   "cell_type": "markdown",
   "id": "c4fad351",
   "metadata": {},
   "source": [
    "# Price and Returns"
   ]
  },
  {
   "cell_type": "code",
   "execution_count": 62,
   "id": "808e9a06",
   "metadata": {},
   "outputs": [],
   "source": [
    "start_date = '2006-01-01' #yyyy-mm-dd\n",
    "end_date = '2021-01-01'\n",
    "\n",
    "\n",
    "# Singapore\n",
    "SG = pd.read_csv('https://raw.githubusercontent.com/raphaelyt/thesis199.11/main/data/2006-2021/STI.csv')\n",
    "SG['Date'] = pd.to_datetime(SG['Date'])\n",
    "SG = SG.rename(columns={'Price': 'Close'})\n",
    "SG = SG.replace(',','', regex=True)\n",
    "SG['Close'] = SG['Close'].astype(float, errors = 'raise')\n",
    "mask = (SG['Date'] >= start_date) & (SG['Date'] <= end_date)\n",
    "SG = SG.loc[mask]\n",
    "SG = SG.set_index('Date')\n",
    "SG = SG.sort_index(axis=0, ascending = False)"
   ]
  },
  {
   "cell_type": "code",
   "execution_count": 63,
   "id": "44c64afc",
   "metadata": {
    "scrolled": true
   },
   "outputs": [
    {
     "data": {
      "text/html": [
       "<div>\n",
       "<style scoped>\n",
       "    .dataframe tbody tr th:only-of-type {\n",
       "        vertical-align: middle;\n",
       "    }\n",
       "\n",
       "    .dataframe tbody tr th {\n",
       "        vertical-align: top;\n",
       "    }\n",
       "\n",
       "    .dataframe thead th {\n",
       "        text-align: right;\n",
       "    }\n",
       "</style>\n",
       "<table border=\"1\" class=\"dataframe\">\n",
       "  <thead>\n",
       "    <tr style=\"text-align: right;\">\n",
       "      <th></th>\n",
       "      <th>Open</th>\n",
       "      <th>High</th>\n",
       "      <th>Low</th>\n",
       "      <th>Close</th>\n",
       "      <th>Previous</th>\n",
       "      <th>Returns</th>\n",
       "    </tr>\n",
       "    <tr>\n",
       "      <th>Date</th>\n",
       "      <th></th>\n",
       "      <th></th>\n",
       "      <th></th>\n",
       "      <th></th>\n",
       "      <th></th>\n",
       "      <th></th>\n",
       "    </tr>\n",
       "  </thead>\n",
       "  <tbody>\n",
       "    <tr>\n",
       "      <th>2020-12-31</th>\n",
       "      <td>2853.60</td>\n",
       "      <td>2861.61</td>\n",
       "      <td>2843.81</td>\n",
       "      <td>2843.81</td>\n",
       "      <td>2869.22</td>\n",
       "      <td>-0.889551</td>\n",
       "    </tr>\n",
       "    <tr>\n",
       "      <th>2020-12-30</th>\n",
       "      <td>2855.06</td>\n",
       "      <td>2878.13</td>\n",
       "      <td>2846.22</td>\n",
       "      <td>2869.22</td>\n",
       "      <td>2848.14</td>\n",
       "      <td>0.737407</td>\n",
       "    </tr>\n",
       "    <tr>\n",
       "      <th>2020-12-29</th>\n",
       "      <td>2848.65</td>\n",
       "      <td>2852.65</td>\n",
       "      <td>2840.38</td>\n",
       "      <td>2848.14</td>\n",
       "      <td>2840.14</td>\n",
       "      <td>0.281280</td>\n",
       "    </tr>\n",
       "    <tr>\n",
       "      <th>2020-12-28</th>\n",
       "      <td>2845.85</td>\n",
       "      <td>2840.14</td>\n",
       "      <td>2840.14</td>\n",
       "      <td>2840.14</td>\n",
       "      <td>2842.04</td>\n",
       "      <td>-0.066876</td>\n",
       "    </tr>\n",
       "    <tr>\n",
       "      <th>2020-12-24</th>\n",
       "      <td>2840.65</td>\n",
       "      <td>2847.80</td>\n",
       "      <td>2834.14</td>\n",
       "      <td>2842.04</td>\n",
       "      <td>2833.40</td>\n",
       "      <td>0.304470</td>\n",
       "    </tr>\n",
       "    <tr>\n",
       "      <th>...</th>\n",
       "      <td>...</td>\n",
       "      <td>...</td>\n",
       "      <td>...</td>\n",
       "      <td>...</td>\n",
       "      <td>...</td>\n",
       "      <td>...</td>\n",
       "    </tr>\n",
       "    <tr>\n",
       "      <th>2006-01-09</th>\n",
       "      <td>2353.33</td>\n",
       "      <td>2353.33</td>\n",
       "      <td>2353.33</td>\n",
       "      <td>2353.33</td>\n",
       "      <td>2348.89</td>\n",
       "      <td>0.188847</td>\n",
       "    </tr>\n",
       "    <tr>\n",
       "      <th>2006-01-06</th>\n",
       "      <td>2348.89</td>\n",
       "      <td>2348.89</td>\n",
       "      <td>2348.89</td>\n",
       "      <td>2348.89</td>\n",
       "      <td>2334.08</td>\n",
       "      <td>0.632507</td>\n",
       "    </tr>\n",
       "    <tr>\n",
       "      <th>2006-01-05</th>\n",
       "      <td>2334.08</td>\n",
       "      <td>2334.08</td>\n",
       "      <td>2334.08</td>\n",
       "      <td>2334.08</td>\n",
       "      <td>2316.90</td>\n",
       "      <td>0.738772</td>\n",
       "    </tr>\n",
       "    <tr>\n",
       "      <th>2006-01-04</th>\n",
       "      <td>2316.90</td>\n",
       "      <td>2316.90</td>\n",
       "      <td>2316.90</td>\n",
       "      <td>2316.90</td>\n",
       "      <td>2303.76</td>\n",
       "      <td>0.568751</td>\n",
       "    </tr>\n",
       "    <tr>\n",
       "      <th>2006-01-03</th>\n",
       "      <td>2303.76</td>\n",
       "      <td>2303.76</td>\n",
       "      <td>2303.76</td>\n",
       "      <td>2303.76</td>\n",
       "      <td>NaN</td>\n",
       "      <td>NaN</td>\n",
       "    </tr>\n",
       "  </tbody>\n",
       "</table>\n",
       "<p>3761 rows × 6 columns</p>\n",
       "</div>"
      ],
      "text/plain": [
       "               Open     High      Low    Close  Previous   Returns\n",
       "Date                                                              \n",
       "2020-12-31  2853.60  2861.61  2843.81  2843.81   2869.22 -0.889551\n",
       "2020-12-30  2855.06  2878.13  2846.22  2869.22   2848.14  0.737407\n",
       "2020-12-29  2848.65  2852.65  2840.38  2848.14   2840.14  0.281280\n",
       "2020-12-28  2845.85  2840.14  2840.14  2840.14   2842.04 -0.066876\n",
       "2020-12-24  2840.65  2847.80  2834.14  2842.04   2833.40  0.304470\n",
       "...             ...      ...      ...      ...       ...       ...\n",
       "2006-01-09  2353.33  2353.33  2353.33  2353.33   2348.89  0.188847\n",
       "2006-01-06  2348.89  2348.89  2348.89  2348.89   2334.08  0.632507\n",
       "2006-01-05  2334.08  2334.08  2334.08  2334.08   2316.90  0.738772\n",
       "2006-01-04  2316.90  2316.90  2316.90  2316.90   2303.76  0.568751\n",
       "2006-01-03  2303.76  2303.76  2303.76  2303.76       NaN       NaN\n",
       "\n",
       "[3761 rows x 6 columns]"
      ]
     },
     "metadata": {},
     "output_type": "display_data"
    }
   ],
   "source": [
    "def get_returns(df,d):\n",
    "    '''\n",
    "    The function obtains the log returns of the asset shifted d days\n",
    "    \n",
    "    PARAMETERS\n",
    "    ----------\n",
    "    df : pandas.DataFrame\n",
    "        The data frame contains data of a chosen stock index \n",
    "        (Stock index must be arrange in DESCENDING ORDER by DATE)\n",
    "    d : int\n",
    "        The dth day being forecast\n",
    "        (Assumed to be 1 for most cases)\n",
    "        \n",
    "    RETURNS\n",
    "    -------\n",
    "    df : pandas.DataFrame\n",
    "        The data frame returns an updated data frame containing the\n",
    "        'Returns' column\n",
    "    '''\n",
    "    df['Previous'] = df['Close'].shift(-d)\n",
    "    df['Returns'] = np.log(df['Close']/df['Previous'])*100\n",
    "    display(df)\n",
    "    return df\n",
    "\n",
    "SG = get_returns(SG, 1)"
   ]
  },
  {
   "cell_type": "markdown",
   "id": "358fd17c",
   "metadata": {},
   "source": [
    "# Diebold-Mariano Test"
   ]
  },
  {
   "cell_type": "code",
   "execution_count": 64,
   "id": "e8db683a",
   "metadata": {},
   "outputs": [],
   "source": [
    "# Author   : John Tsang\n",
    "# Date     : December 7th, 2017\n",
    "# Purpose  : Implement the Diebold-Mariano Test (DM test) to compare \n",
    "#            forecast accuracy\n",
    "# Input    : 1) actual_lst: the list of actual values\n",
    "#            2) pred1_lst : the first list of predicted values\n",
    "#            3) pred2_lst : the second list of predicted values\n",
    "#            4) h         : the number of stpes ahead\n",
    "#            5) crit      : a string specifying the criterion \n",
    "#                             i)  MSE : the mean squared error\n",
    "#                            ii)  MAD : the mean absolute deviation\n",
    "#                           iii) MAPE : the mean absolute percentage error\n",
    "#                            iv) poly : use power function to weigh the errors\n",
    "#            6) poly      : the power for crit power \n",
    "#                           (it is only meaningful when crit is \"poly\")\n",
    "# Condition: 1) length of actual_lst, pred1_lst and pred2_lst is equal\n",
    "#            2) h must be an integer and it must be greater than 0 and less than \n",
    "#               the length of actual_lst.\n",
    "#            3) crit must take the 4 values specified in Input\n",
    "#            4) Each value of actual_lst, pred1_lst and pred2_lst must\n",
    "#               be numerical values. Missing values will not be accepted.\n",
    "#            5) power must be a numerical value.\n",
    "# Return   : a named-tuple of 2 elements\n",
    "#            1) p_value : the p-value of the DM test\n",
    "#            2) DM      : the test statistics of the DM test\n",
    "##########################################################\n",
    "# References:\n",
    "#\n",
    "# Harvey, D., Leybourne, S., & Newbold, P. (1997). Testing the equality of \n",
    "#   prediction mean squared errors. International Journal of forecasting, \n",
    "#   13(2), 281-291.\n",
    "#\n",
    "# Diebold, F. X. and Mariano, R. S. (1995), Comparing predictive accuracy, \n",
    "#   Journal of business & economic statistics 13(3), 253-264.\n",
    "#\n",
    "##########################################################\n",
    "def dm_test(actual_lst, pred1_lst, pred2_lst, h = 1, crit=\"MSE\", power = 2):\n",
    "    # Routine for checking errors\n",
    "    def error_check():\n",
    "        rt = 0\n",
    "        msg = \"\"\n",
    "        # Check if h is an integer\n",
    "        if (not isinstance(h, int)):\n",
    "            rt = -1\n",
    "            msg = \"The type of the number of steps ahead (h) is not an integer.\"\n",
    "            return (rt,msg)\n",
    "        # Check the range of h\n",
    "        if (h < 1):\n",
    "            rt = -1\n",
    "            msg = \"The number of steps ahead (h) is not large enough.\"\n",
    "            return (rt,msg)\n",
    "        len_act = len(actual_lst)\n",
    "        len_p1  = len(pred1_lst)\n",
    "        len_p2  = len(pred2_lst)\n",
    "        # Check if lengths of actual values and predicted values are equal\n",
    "        if (len_act != len_p1 or len_p1 != len_p2 or len_act != len_p2):\n",
    "            rt = -1\n",
    "            msg = \"Lengths of actual_lst, pred1_lst and pred2_lst do not match.\"\n",
    "            return (rt,msg)\n",
    "        # Check range of h\n",
    "        if (h >= len_act):\n",
    "            rt = -1\n",
    "            msg = \"The number of steps ahead is too large.\"\n",
    "            return (rt,msg)\n",
    "        # Check if criterion supported\n",
    "        if (crit != \"MSE\" and crit != \"MAPE\" and crit != \"MAD\" and crit != \"poly\"):\n",
    "            rt = -1\n",
    "            msg = \"The criterion is not supported.\"\n",
    "            return (rt,msg)  \n",
    "        # Check if every value of the input lists are numerical values\n",
    "        from re import compile as re_compile\n",
    "        comp = re_compile(\"^\\d+?\\.\\d+?$\")  \n",
    "        def compiled_regex(s):\n",
    "            \"\"\" Returns True is string is a number. \"\"\"\n",
    "            if comp.match(s) is None:\n",
    "                return s.isdigit()\n",
    "            return True\n",
    "        for actual, pred1, pred2 in zip(actual_lst, pred1_lst, pred2_lst):\n",
    "            is_actual_ok = compiled_regex(str(abs(actual)))\n",
    "            is_pred1_ok = compiled_regex(str(abs(pred1)))\n",
    "            is_pred2_ok = compiled_regex(str(abs(pred2)))\n",
    "            if (not (is_actual_ok and is_pred1_ok and is_pred2_ok)):  \n",
    "                msg = \"An element in the actual_lst, pred1_lst or pred2_lst is not numeric.\"\n",
    "                rt = -1\n",
    "                return (rt,msg)\n",
    "        return (rt,msg)\n",
    "    \n",
    "    # Error check\n",
    "    error_code = error_check()\n",
    "    # Raise error if cannot pass error check\n",
    "    if (error_code[0] == -1):\n",
    "        raise SyntaxError(error_code[1])\n",
    "        return\n",
    "    # Import libraries\n",
    "    from scipy.stats import t\n",
    "    import collections\n",
    "    import pandas as pd\n",
    "    import numpy as np\n",
    "    \n",
    "    # Initialise lists\n",
    "    e1_lst = []\n",
    "    e2_lst = []\n",
    "    d_lst  = []\n",
    "    \n",
    "    # convert every value of the lists into real values\n",
    "    actual_lst = pd.Series(actual_lst).apply(lambda x: float(x)).tolist()\n",
    "    pred1_lst = pd.Series(pred1_lst).apply(lambda x: float(x)).tolist()\n",
    "    pred2_lst = pd.Series(pred2_lst).apply(lambda x: float(x)).tolist()\n",
    "    \n",
    "    # Length of lists (as real numbers)\n",
    "    T = float(len(actual_lst))\n",
    "    \n",
    "    # construct d according to crit\n",
    "    if (crit == \"MSE\"):\n",
    "        for actual,p1,p2 in zip(actual_lst,pred1_lst,pred2_lst):\n",
    "            e1_lst.append((actual - p1)**2)\n",
    "            e2_lst.append((actual - p2)**2)\n",
    "        for e1, e2 in zip(e1_lst, e2_lst):\n",
    "            d_lst.append(e1 - e2)\n",
    "    elif (crit == \"MAD\"):\n",
    "        for actual,p1,p2 in zip(actual_lst,pred1_lst,pred2_lst):\n",
    "            e1_lst.append(abs(actual - p1))\n",
    "            e2_lst.append(abs(actual - p2))\n",
    "        for e1, e2 in zip(e1_lst, e2_lst):\n",
    "            d_lst.append(e1 - e2)\n",
    "    elif (crit == \"MAPE\"):\n",
    "        for actual,p1,p2 in zip(actual_lst,pred1_lst,pred2_lst):\n",
    "            e1_lst.append(abs((actual - p1)/actual))\n",
    "            e2_lst.append(abs((actual - p2)/actual))\n",
    "        for e1, e2 in zip(e1_lst, e2_lst):\n",
    "            d_lst.append(e1 - e2)\n",
    "    elif (crit == \"poly\"):\n",
    "        for actual,p1,p2 in zip(actual_lst,pred1_lst,pred2_lst):\n",
    "            e1_lst.append(((actual - p1))**(power))\n",
    "            e2_lst.append(((actual - p2))**(power))\n",
    "        for e1, e2 in zip(e1_lst, e2_lst):\n",
    "            d_lst.append(e1 - e2)    \n",
    "    \n",
    "    # Mean of d        \n",
    "    mean_d = pd.Series(d_lst).mean()\n",
    "    \n",
    "    # Find autocovariance and construct DM test statistics\n",
    "    def autocovariance(Xi, N, k, Xs):\n",
    "        autoCov = 0\n",
    "        T = float(N)\n",
    "        for i in np.arange(0, N-k):\n",
    "              autoCov += ((Xi[i+k])-Xs)*(Xi[i]-Xs)\n",
    "        return (1/(T))*autoCov\n",
    "    gamma = []\n",
    "    for lag in range(0,h):\n",
    "        gamma.append(autocovariance(d_lst,len(d_lst),lag,mean_d)) # 0, 1, 2\n",
    "    V_d = (gamma[0] + 2*sum(gamma[1:]))/T\n",
    "    DM_stat=V_d**(-0.5)*mean_d\n",
    "    harvey_adj=((T+1-2*h+h*(h-1)/T)/T)**(0.5)\n",
    "    DM_stat = harvey_adj*DM_stat\n",
    "    # Find p-value\n",
    "    p_value = 2*t.cdf(-abs(DM_stat), df = T - 1)\n",
    "    \n",
    "    # Construct named tuple for return\n",
    "    dm_return = collections.namedtuple('dm_return', 'DM p_value')\n",
    "    \n",
    "    rt = dm_return(DM = DM_stat, p_value = p_value)\n",
    "    \n",
    "    return rt"
   ]
  },
  {
   "cell_type": "markdown",
   "id": "ad2561cb",
   "metadata": {},
   "source": [
    "## Custom DM-Test Function"
   ]
  },
  {
   "cell_type": "code",
   "execution_count": 65,
   "id": "97786103",
   "metadata": {},
   "outputs": [],
   "source": [
    "def DM_test(country, model_1, model_2, t):\n",
    "    \n",
    "    arr_model_1_dropped = model_1.drop(['Date'], axis = 1)\n",
    "    arr_model_1_zero = arr_model_1_dropped.iloc[:, 0].to_numpy()\n",
    "\n",
    "    arr_model_2_dropped = model_2.drop(['Date'], axis = 1)\n",
    "    arr_model_2_zero = arr_model_2_dropped.iloc[:,0].to_numpy()\n",
    "\n",
    "    returns = np.array(country['Returns'])[:t]\n",
    "\n",
    "    dm = dm_test(returns, arr_model_1_zero, arr_model_2_zero, h = 1, crit = 'MSE')\n",
    "    \n",
    "    return dm"
   ]
  },
  {
   "cell_type": "markdown",
   "id": "ee3a29a9",
   "metadata": {},
   "source": [
    "# Fixed Window"
   ]
  },
  {
   "cell_type": "markdown",
   "id": "47da5462",
   "metadata": {},
   "source": [
    "## 0.01%"
   ]
  },
  {
   "cell_type": "code",
   "execution_count": 66,
   "id": "6e2ee02e",
   "metadata": {},
   "outputs": [],
   "source": [
    "SG_fw_01_dn = pd.read_csv('https://raw.githubusercontent.com/raphaelyt/thesis199.11/main/data/csv/DN/0.01%25/SG_VaR_FW-DN-0.01%25.csv')\n",
    "SG_fw_01_hs = pd.read_csv('https://raw.githubusercontent.com/raphaelyt/thesis199.11/main/data/csv/HS/0.01%25/SG_VaR_FW-HS-0.01%25.csv')\n",
    "SG_fw_01_brw = pd.read_csv('https://raw.githubusercontent.com/raphaelyt/thesis199.11/main/data/csv/BRW/0.01%25/SG_VaR_FW-BRW-0.01%25.csv')\n",
    "SG_fw_01_garch = pd.read_csv('https://raw.githubusercontent.com/raphaelyt/thesis199.11/main/data/csv/GARCH/0.01%25/SG_VaR_FW-G-0.01%25.csv')\n",
    "SG_fw_01_earch = pd.read_csv('https://raw.githubusercontent.com/raphaelyt/thesis199.11/main/data/csv/EARCH/0.01%25/SG_VaR_FW-EA-0.01%25.csv')\n",
    "SG_fw_01_egarch = pd.read_csv('https://raw.githubusercontent.com/raphaelyt/thesis199.11/main/data/csv/EGARCH/0.01%25/SG_VaR_FW-E-0.01%25.csv')\n",
    "SG_fw_01_igarch = pd.read_csv('https://raw.githubusercontent.com/raphaelyt/thesis199.11/main/data/csv/IGARCH/IGARCH-0.01%25-FW/SG_fw_FW-I-0.01%25.csv')\n",
    "SG_fw_01_figarch = pd.read_csv('https://raw.githubusercontent.com/raphaelyt/thesis199.11/main/data/csv/FIGARCH/FIGARCH-0.01%25-FW/SG_fw_FW-FI-0.01%25.csv')\n",
    "SG_fw_01_figarch0633 = pd.read_csv('https://raw.githubusercontent.com/raphaelyt/thesis199.11/main/data/csv/FIGARCH0.633/FIGARCH0.633-0.01%25-FW/SG_fw_FW-FI0.633-0.01%25.csv')"
   ]
  },
  {
   "cell_type": "code",
   "execution_count": 67,
   "id": "74ac5d3e",
   "metadata": {
    "scrolled": false
   },
   "outputs": [
    {
     "name": "stdout",
     "output_type": "stream",
     "text": [
      "dm_return(DM=1.804273124860974, p_value=0.07156355984408663)\n",
      "dm_return(DM=4.956428329559247, p_value=8.762923363439522e-07)\n",
      "dm_return(DM=3.2804228612394795, p_value=0.0010812676916256187)\n",
      "dm_return(DM=0.7823571033270135, p_value=0.4342356629764599)\n",
      "dm_return(DM=1.4855751419784498, p_value=0.13778449469478268)\n",
      "dm_return(DM=1.6610181555950354, p_value=0.09710064337978197)\n"
     ]
    }
   ],
   "source": [
    "# DN\n",
    "print(DM_test(SG, SG_fw_01_dn, SG_fw_01_garch, len(SG_fw_01_dn)))\n",
    "print(DM_test(SG, SG_fw_01_dn, SG_fw_01_earch, len(SG_fw_01_dn)))\n",
    "print(DM_test(SG, SG_fw_01_dn, SG_fw_01_egarch, len(SG_fw_01_dn)))\n",
    "print(DM_test(SG, SG_fw_01_dn, SG_fw_01_igarch, len(SG_fw_01_dn)))\n",
    "print(DM_test(SG, SG_fw_01_dn, SG_fw_01_figarch, len(SG_fw_01_dn)))\n",
    "print(DM_test(SG, SG_fw_01_dn, SG_fw_01_figarch0633, len(SG_fw_01_dn)))"
   ]
  },
  {
   "cell_type": "code",
   "execution_count": 68,
   "id": "1f7653ad",
   "metadata": {
    "scrolled": false
   },
   "outputs": [
    {
     "name": "stdout",
     "output_type": "stream",
     "text": [
      "dm_return(DM=26.82470397932163, p_value=1.2223185407022646e-113)\n",
      "dm_return(DM=79.70538657076268, p_value=0.0)\n",
      "dm_return(DM=31.65308886628966, p_value=2.5583689631917114e-143)\n",
      "dm_return(DM=18.074487423612755, p_value=1.6201169788903783e-61)\n",
      "dm_return(DM=26.55823802532868, p_value=5.311679007871897e-112)\n",
      "dm_return(DM=26.912855658538785, p_value=3.508298952935813e-114)\n"
     ]
    }
   ],
   "source": [
    "# HS\n",
    "print(DM_test(SG, SG_fw_01_hs, SG_fw_01_garch, len(SG_fw_01_hs)))\n",
    "print(DM_test(SG, SG_fw_01_hs, SG_fw_01_earch, len(SG_fw_01_hs)))\n",
    "print(DM_test(SG, SG_fw_01_hs, SG_fw_01_egarch, len(SG_fw_01_hs)))\n",
    "print(DM_test(SG, SG_fw_01_hs, SG_fw_01_igarch, len(SG_fw_01_hs)))\n",
    "print(DM_test(SG, SG_fw_01_hs, SG_fw_01_figarch, len(SG_fw_01_hs)))\n",
    "print(DM_test(SG, SG_fw_01_hs, SG_fw_01_figarch0633, len(SG_fw_01_hs)))"
   ]
  },
  {
   "cell_type": "code",
   "execution_count": 69,
   "id": "5cf91f05",
   "metadata": {
    "scrolled": false
   },
   "outputs": [
    {
     "name": "stdout",
     "output_type": "stream",
     "text": [
      "dm_return(DM=7.317110475163755, p_value=6.1557939040543e-13)\n",
      "dm_return(DM=11.283438085997885, p_value=1.653545980621015e-27)\n",
      "dm_return(DM=9.19602590233889, p_value=3.137613179193238e-19)\n",
      "dm_return(DM=4.683381021315024, p_value=3.3132627257832254e-06)\n",
      "dm_return(DM=7.058180057508426, p_value=3.653992418577364e-12)\n",
      "dm_return(DM=7.237000323666274, p_value=1.0742379278126171e-12)\n"
     ]
    }
   ],
   "source": [
    "# BRW\n",
    "print(DM_test(SG, SG_fw_01_brw, SG_fw_01_garch, len(SG_fw_01_brw)))\n",
    "print(DM_test(SG, SG_fw_01_brw, SG_fw_01_earch, len(SG_fw_01_brw)))\n",
    "print(DM_test(SG, SG_fw_01_brw, SG_fw_01_egarch, len(SG_fw_01_brw)))\n",
    "print(DM_test(SG, SG_fw_01_brw, SG_fw_01_igarch, len(SG_fw_01_brw)))\n",
    "print(DM_test(SG, SG_fw_01_brw, SG_fw_01_figarch, len(SG_fw_01_brw)))\n",
    "print(DM_test(SG, SG_fw_01_brw, SG_fw_01_figarch0633, len(SG_fw_01_brw)))"
   ]
  },
  {
   "cell_type": "code",
   "execution_count": 70,
   "id": "98bdb22c",
   "metadata": {
    "scrolled": true
   },
   "outputs": [
    {
     "name": "stdout",
     "output_type": "stream",
     "text": [
      "dm_return(DM=-0.5628834515048626, p_value=0.573671563344833)\n",
      "dm_return(DM=6.557934437996986, p_value=9.76952179263602e-11)\n",
      "dm_return(DM=-0.7630492697385634, p_value=0.4456583955544239)\n",
      "dm_return(DM=-2.589784215780369, p_value=0.009777817758509381)\n",
      "dm_return(DM=-1.1422987381176928, p_value=0.25367077492938755)\n"
     ]
    }
   ],
   "source": [
    "# GARCH\n",
    "print(DM_test(SG, SG_fw_01_garch, SG_fw_01_earch, len(SG_fw_01_garch)))\n",
    "print(DM_test(SG, SG_fw_01_garch, SG_fw_01_egarch, len(SG_fw_01_garch)))\n",
    "print(DM_test(SG, SG_fw_01_garch, SG_fw_01_igarch, len(SG_fw_01_garch)))\n",
    "print(DM_test(SG, SG_fw_01_garch, SG_fw_01_figarch, len(SG_fw_01_garch)))\n",
    "print(DM_test(SG, SG_fw_01_garch, SG_fw_01_figarch0633, len(SG_fw_01_garch)))"
   ]
  },
  {
   "cell_type": "code",
   "execution_count": 71,
   "id": "14dfa11d",
   "metadata": {
    "scrolled": false
   },
   "outputs": [
    {
     "name": "stdout",
     "output_type": "stream",
     "text": [
      "dm_return(DM=2.0221423541695795, p_value=0.043493169372688066)\n",
      "dm_return(DM=-0.1093761991461711, p_value=0.9129314714993481)\n",
      "dm_return(DM=0.20764112095112094, p_value=0.8355619073316964)\n",
      "dm_return(DM=0.3954193437234088, p_value=0.6926385896310063)\n"
     ]
    }
   ],
   "source": [
    "# EARCH\n",
    "print(DM_test(SG, SG_fw_01_earch, SG_fw_01_egarch, len(SG_fw_01_earch)))\n",
    "print(DM_test(SG, SG_fw_01_earch, SG_fw_01_igarch, len(SG_fw_01_earch)))\n",
    "print(DM_test(SG, SG_fw_01_earch, SG_fw_01_figarch, len(SG_fw_01_earch)))\n",
    "print(DM_test(SG, SG_fw_01_earch, SG_fw_01_figarch0633, len(SG_fw_01_earch)))"
   ]
  },
  {
   "cell_type": "code",
   "execution_count": 72,
   "id": "f84780df",
   "metadata": {
    "scrolled": false
   },
   "outputs": [
    {
     "name": "stdout",
     "output_type": "stream",
     "text": [
      "dm_return(DM=-1.9070428122566372, p_value=0.056872077802918475)\n",
      "dm_return(DM=-7.647890069497155, p_value=5.85104263088445e-14)\n",
      "dm_return(DM=-6.681075436569096, p_value=4.4348385585101313e-11)\n"
     ]
    }
   ],
   "source": [
    "# EGARCH\n",
    "print(DM_test(SG, SG_fw_01_egarch, SG_fw_01_igarch, len(SG_fw_01_egarch)))\n",
    "print(DM_test(SG, SG_fw_01_egarch, SG_fw_01_figarch, len(SG_fw_01_egarch)))\n",
    "print(DM_test(SG, SG_fw_01_egarch, SG_fw_01_figarch0633, len(SG_fw_01_egarch)))"
   ]
  },
  {
   "cell_type": "code",
   "execution_count": 73,
   "id": "295f1085",
   "metadata": {},
   "outputs": [
    {
     "name": "stdout",
     "output_type": "stream",
     "text": [
      "dm_return(DM=0.41578876366560646, p_value=0.6776758095682931)\n",
      "dm_return(DM=0.6261216804236351, p_value=0.531413284346365)\n"
     ]
    }
   ],
   "source": [
    "# IGARCH\n",
    "print(DM_test(SG, SG_fw_01_igarch, SG_fw_01_figarch, len(SG_fw_01_igarch)))\n",
    "print(DM_test(SG, SG_fw_01_igarch, SG_fw_01_figarch0633, len(SG_fw_01_igarch)))"
   ]
  },
  {
   "cell_type": "code",
   "execution_count": 74,
   "id": "a3d49408",
   "metadata": {
    "scrolled": true
   },
   "outputs": [
    {
     "name": "stdout",
     "output_type": "stream",
     "text": [
      "dm_return(DM=4.117788904519439, p_value=4.221770587433713e-05)\n"
     ]
    }
   ],
   "source": [
    "# FIGARCH\n",
    "print(DM_test(SG, SG_fw_01_figarch, SG_fw_01_figarch0633, len(SG_fw_01_figarch)))"
   ]
  },
  {
   "cell_type": "markdown",
   "id": "366cf0b7",
   "metadata": {},
   "source": [
    "## 1.00 %"
   ]
  },
  {
   "cell_type": "code",
   "execution_count": 75,
   "id": "d18d5109",
   "metadata": {},
   "outputs": [],
   "source": [
    "SG_fw_1_dn = pd.read_csv('https://raw.githubusercontent.com/raphaelyt/thesis199.11/main/data/csv/DN/1%25/SG_VaR_FW-DN-1%25.csv')\n",
    "SG_fw_1_hs = pd.read_csv('https://raw.githubusercontent.com/raphaelyt/thesis199.11/main/data/csv/HS/1%25/SG_VaR_FW-HS-1%25.csv')\n",
    "SG_fw_1_brw = pd.read_csv('https://raw.githubusercontent.com/raphaelyt/thesis199.11/main/data/csv/BRW/1%25/SG_VaR_FW-BRW-1%25.csv')\n",
    "SG_fw_1_garch = pd.read_csv('https://raw.githubusercontent.com/raphaelyt/thesis199.11/main/data/csv/GARCH/1%25/SG_VaR_FW-G-1%25.csv')\n",
    "SG_fw_1_earch = pd.read_csv('https://raw.githubusercontent.com/raphaelyt/thesis199.11/main/data/csv/EARCH/1%25/SG_VaR_FW-EA-1%25.csv')\n",
    "SG_fw_1_egarch = pd.read_csv('https://raw.githubusercontent.com/raphaelyt/thesis199.11/main/data/csv/EGARCH/1%25/SG_VaR_FW-E-1%25.csv')\n",
    "SG_fw_1_igarch = pd.read_csv('https://raw.githubusercontent.com/raphaelyt/thesis199.11/main/data/csv/IGARCH/IGARCH-1%25-FW/SG_fw_FW-I-1%25.csv')\n",
    "SG_fw_1_figarch = pd.read_csv('https://raw.githubusercontent.com/raphaelyt/thesis199.11/main/data/csv/FIGARCH/FIGARCH-1%25-FW/SG_fw_FW-FI-1%25.csv')\n",
    "SG_fw_1_figarch0633 = pd.read_csv('https://raw.githubusercontent.com/raphaelyt/thesis199.11/main/data/csv/FIGARCH0.633/FIGARCH0.633-1%25-FW/SG_fw_FW-FI0.633-1%25.csv')"
   ]
  },
  {
   "cell_type": "code",
   "execution_count": 76,
   "id": "67aa1863",
   "metadata": {},
   "outputs": [
    {
     "name": "stdout",
     "output_type": "stream",
     "text": [
      "dm_return(DM=1.8417220539466923, p_value=0.0658848963651165)\n",
      "dm_return(DM=4.859256620809276, p_value=1.4173471701703027e-06)\n",
      "dm_return(DM=3.3085962478132847, p_value=0.0009794560185787096)\n",
      "dm_return(DM=0.7562799198764686, p_value=0.44970347072921546)\n",
      "dm_return(DM=1.513740690774151, p_value=0.13048558922277562)\n",
      "dm_return(DM=1.6788135009681202, p_value=0.0935779322230692)\n"
     ]
    }
   ],
   "source": [
    "# DN\n",
    "print(DM_test(SG, SG_fw_1_dn, SG_fw_1_garch, len(SG_fw_1_dn)))\n",
    "print(DM_test(SG, SG_fw_1_dn, SG_fw_1_earch, len(SG_fw_1_dn)))\n",
    "print(DM_test(SG, SG_fw_1_dn, SG_fw_1_egarch, len(SG_fw_1_dn)))\n",
    "print(DM_test(SG, SG_fw_1_dn, SG_fw_1_igarch, len(SG_fw_1_dn)))\n",
    "print(DM_test(SG, SG_fw_1_dn, SG_fw_1_figarch, len(SG_fw_1_dn)))\n",
    "print(DM_test(SG, SG_fw_1_dn, SG_fw_1_figarch0633, len(SG_fw_1_dn)))"
   ]
  },
  {
   "cell_type": "code",
   "execution_count": 77,
   "id": "d0a4c345",
   "metadata": {},
   "outputs": [
    {
     "name": "stdout",
     "output_type": "stream",
     "text": [
      "dm_return(DM=9.295447021589181, p_value=1.3543255388036481e-19)\n",
      "dm_return(DM=29.43109822470911, p_value=1.1093115460393768e-129)\n",
      "dm_return(DM=11.801944688392803, p_value=9.400419688294293e-30)\n",
      "dm_return(DM=5.734612276273224, p_value=1.384191103822098e-08)\n",
      "dm_return(DM=8.969911087892362, p_value=2.0649130993402476e-18)\n",
      "dm_return(DM=9.181740606983263, p_value=3.538123945856749e-19)\n"
     ]
    }
   ],
   "source": [
    "# HS\n",
    "print(DM_test(SG, SG_fw_1_hs, SG_fw_1_garch, len(SG_fw_1_hs)))\n",
    "print(DM_test(SG, SG_fw_1_hs, SG_fw_1_earch, len(SG_fw_1_hs)))\n",
    "print(DM_test(SG, SG_fw_1_hs, SG_fw_1_egarch, len(SG_fw_1_hs)))\n",
    "print(DM_test(SG, SG_fw_1_hs, SG_fw_1_igarch, len(SG_fw_1_hs)))\n",
    "print(DM_test(SG, SG_fw_1_hs, SG_fw_1_figarch, len(SG_fw_1_hs)))\n",
    "print(DM_test(SG, SG_fw_1_hs, SG_fw_1_figarch0633, len(SG_fw_1_hs)))"
   ]
  },
  {
   "cell_type": "code",
   "execution_count": 78,
   "id": "9b632c90",
   "metadata": {
    "scrolled": true
   },
   "outputs": [
    {
     "name": "stdout",
     "output_type": "stream",
     "text": [
      "dm_return(DM=8.356439592008728, p_value=2.835729544018066e-16)\n",
      "dm_return(DM=9.018040003153923, p_value=1.3869980605588328e-18)\n",
      "dm_return(DM=10.161141487443755, p_value=6.71476811342268e-23)\n",
      "dm_return(DM=4.766414013555803, p_value=2.2265244946357722e-06)\n",
      "dm_return(DM=7.94169379275638, p_value=6.729494239091475e-15)\n",
      "dm_return(DM=8.074582748606506, p_value=2.474952021573335e-15)\n"
     ]
    }
   ],
   "source": [
    "# BRW\n",
    "print(DM_test(SG, SG_fw_1_brw, SG_fw_1_garch, len(SG_fw_1_brw)))\n",
    "print(DM_test(SG, SG_fw_1_brw, SG_fw_1_earch, len(SG_fw_1_brw)))\n",
    "print(DM_test(SG, SG_fw_1_brw, SG_fw_1_egarch, len(SG_fw_1_brw)))\n",
    "print(DM_test(SG, SG_fw_1_brw, SG_fw_1_igarch, len(SG_fw_1_brw)))\n",
    "print(DM_test(SG, SG_fw_1_brw, SG_fw_1_figarch, len(SG_fw_1_brw)))\n",
    "print(DM_test(SG, SG_fw_1_brw, SG_fw_1_figarch0633, len(SG_fw_1_brw)))"
   ]
  },
  {
   "cell_type": "code",
   "execution_count": 79,
   "id": "68c3207b",
   "metadata": {
    "scrolled": true
   },
   "outputs": [
    {
     "name": "stdout",
     "output_type": "stream",
     "text": [
      "dm_return(DM=-0.6146884665323022, p_value=0.5389348268110085)\n",
      "dm_return(DM=6.552535916492718, p_value=1.0110794686901096e-10)\n",
      "dm_return(DM=-0.8389405872208245, p_value=0.4017526329374743)\n",
      "dm_return(DM=-2.662938667301186, p_value=0.007901436374504835)\n",
      "dm_return(DM=-1.2674829426094574, p_value=0.2053505452326459)\n"
     ]
    }
   ],
   "source": [
    "# GARCH\n",
    "print(DM_test(SG, SG_fw_1_garch, SG_fw_1_earch, len(SG_fw_1_garch)))\n",
    "print(DM_test(SG, SG_fw_1_garch, SG_fw_1_egarch, len(SG_fw_1_garch)))\n",
    "print(DM_test(SG, SG_fw_1_garch, SG_fw_1_igarch, len(SG_fw_1_garch)))\n",
    "print(DM_test(SG, SG_fw_1_garch, SG_fw_1_figarch, len(SG_fw_1_garch)))\n",
    "print(DM_test(SG, SG_fw_1_garch, SG_fw_1_figarch0633, len(SG_fw_1_garch)))"
   ]
  },
  {
   "cell_type": "code",
   "execution_count": 80,
   "id": "935b40ca",
   "metadata": {
    "scrolled": true
   },
   "outputs": [
    {
     "name": "stdout",
     "output_type": "stream",
     "text": [
      "dm_return(DM=2.080560523256807, p_value=0.03779103907793528)\n",
      "dm_return(DM=-0.12657675041551092, p_value=0.8993071253646135)\n",
      "dm_return(DM=0.24802261569819173, p_value=0.8041803970019799)\n",
      "dm_return(DM=0.42627864556675754, p_value=0.6700192027090479)\n"
     ]
    }
   ],
   "source": [
    "# EARCH\n",
    "print(DM_test(SG, SG_fw_1_earch, SG_fw_1_egarch, len(SG_fw_1_earch)))\n",
    "print(DM_test(SG, SG_fw_1_earch, SG_fw_1_igarch, len(SG_fw_1_earch)))\n",
    "print(DM_test(SG, SG_fw_1_earch, SG_fw_1_figarch, len(SG_fw_1_earch)))\n",
    "print(DM_test(SG, SG_fw_1_earch, SG_fw_1_figarch0633, len(SG_fw_1_earch)))"
   ]
  },
  {
   "cell_type": "code",
   "execution_count": 81,
   "id": "da09eea8",
   "metadata": {},
   "outputs": [
    {
     "name": "stdout",
     "output_type": "stream",
     "text": [
      "dm_return(DM=-1.9691185132216487, p_value=0.049283368332433485)\n",
      "dm_return(DM=-7.690380822683084, p_value=4.297483132794747e-14)\n",
      "dm_return(DM=-6.7405999265541805, p_value=3.013879096757207e-11)\n"
     ]
    }
   ],
   "source": [
    "# EGARCH\n",
    "print(DM_test(SG, SG_fw_1_egarch, SG_fw_1_igarch, len(SG_fw_1_egarch)))\n",
    "print(DM_test(SG, SG_fw_1_egarch, SG_fw_1_figarch, len(SG_fw_1_egarch)))\n",
    "print(DM_test(SG, SG_fw_1_egarch, SG_fw_1_figarch0633, len(SG_fw_1_egarch)))"
   ]
  },
  {
   "cell_type": "code",
   "execution_count": 82,
   "id": "7b89bdad",
   "metadata": {},
   "outputs": [
    {
     "name": "stdout",
     "output_type": "stream",
     "text": [
      "dm_return(DM=0.48759164060313426, p_value=0.6259723731825253)\n",
      "dm_return(DM=0.6860925375215476, p_value=0.49285304691867504)\n"
     ]
    }
   ],
   "source": [
    "# IGARCH\n",
    "print(DM_test(SG, SG_fw_1_igarch, SG_fw_1_figarch, len(SG_fw_1_igarch)))\n",
    "print(DM_test(SG, SG_fw_1_igarch, SG_fw_1_figarch0633, len(SG_fw_1_igarch)))"
   ]
  },
  {
   "cell_type": "code",
   "execution_count": 83,
   "id": "c56a42e5",
   "metadata": {},
   "outputs": [
    {
     "name": "stdout",
     "output_type": "stream",
     "text": [
      "dm_return(DM=3.6652739725058656, p_value=0.0002633384559674778)\n"
     ]
    }
   ],
   "source": [
    "# FIGARCH\n",
    "print(DM_test(SG, SG_fw_1_figarch, SG_fw_1_figarch0633, len(SG_fw_1_figarch)))"
   ]
  },
  {
   "cell_type": "markdown",
   "id": "d2576660",
   "metadata": {},
   "source": [
    "## 5.00 %"
   ]
  },
  {
   "cell_type": "code",
   "execution_count": 84,
   "id": "2636de0c",
   "metadata": {},
   "outputs": [],
   "source": [
    "SG_fw_5_dn = pd.read_csv('https://raw.githubusercontent.com/raphaelyt/thesis199.11/main/data/csv/DN/5%25/SG_VaR_FW-DN-5%25.csv')\n",
    "SG_fw_5_hs = pd.read_csv('https://raw.githubusercontent.com/raphaelyt/thesis199.11/main/data/csv/HS/5%25/SG_VaR_FW-HS-5%25.csv')\n",
    "SG_fw_5_brw = pd.read_csv('https://raw.githubusercontent.com/raphaelyt/thesis199.11/main/data/csv/BRW/5%25/SG_VaR_FW-BRW-5%25.csv')\n",
    "SG_fw_5_garch = pd.read_csv('https://raw.githubusercontent.com/raphaelyt/thesis199.11/main/data/csv/GARCH/5%25/SG_VaR_FW-G-5%25.csv')\n",
    "SG_fw_5_earch = pd.read_csv('https://raw.githubusercontent.com/raphaelyt/thesis199.11/main/data/csv/EARCH/5%25/SG_VaR_FW-EA-5%25.csv')\n",
    "SG_fw_5_egarch = pd.read_csv('https://raw.githubusercontent.com/raphaelyt/thesis199.11/main/data/csv/EGARCH/5%25/SG_VaR_FW-E-5%25.csv')\n",
    "SG_fw_5_igarch = pd.read_csv('https://raw.githubusercontent.com/raphaelyt/thesis199.11/main/data/csv/IGARCH/IGARCH-5%25-FW/SG_fw_FW-I-5%25.csv')\n",
    "SG_fw_5_figarch = pd.read_csv('https://raw.githubusercontent.com/raphaelyt/thesis199.11/main/data/csv/FIGARCH/FIGARCH-5%25-FW/SG_fw_FW-FI-5%25.csv')\n",
    "SG_fw_5_figarch0633 = pd.read_csv('https://raw.githubusercontent.com/raphaelyt/thesis199.11/main/data/csv/FIGARCH0.633/FIGARCH0.633-5%25-FW/SG_fw_FW-FI0.633-5%25.csv')"
   ]
  },
  {
   "cell_type": "code",
   "execution_count": 85,
   "id": "e686fd03",
   "metadata": {},
   "outputs": [
    {
     "name": "stdout",
     "output_type": "stream",
     "text": [
      "dm_return(DM=1.8701475414571709, p_value=0.0618274121291929)\n",
      "dm_return(DM=4.7107932485556665, p_value=2.9077520051994214e-06)\n",
      "dm_return(DM=3.3118035340629612, p_value=0.0009684474473965157)\n",
      "dm_return(DM=0.7243719722694564, p_value=0.46904865857735845)\n",
      "dm_return(DM=1.534456082428784, p_value=0.1253118677267297)\n",
      "dm_return(DM=1.6863186783571598, p_value=0.09212336180423832)\n"
     ]
    }
   ],
   "source": [
    "# DN\n",
    "print(DM_test(SG, SG_fw_5_dn, SG_fw_5_garch, len(SG_fw_5_dn)))\n",
    "print(DM_test(SG, SG_fw_5_dn, SG_fw_5_earch, len(SG_fw_5_dn)))\n",
    "print(DM_test(SG, SG_fw_5_dn, SG_fw_5_egarch, len(SG_fw_5_dn)))\n",
    "print(DM_test(SG, SG_fw_5_dn, SG_fw_5_igarch, len(SG_fw_5_dn)))\n",
    "print(DM_test(SG, SG_fw_5_dn, SG_fw_5_figarch, len(SG_fw_5_dn)))\n",
    "print(DM_test(SG, SG_fw_5_dn, SG_fw_5_figarch0633, len(SG_fw_5_dn)))"
   ]
  },
  {
   "cell_type": "code",
   "execution_count": 86,
   "id": "644c272f",
   "metadata": {},
   "outputs": [
    {
     "name": "stdout",
     "output_type": "stream",
     "text": [
      "dm_return(DM=-2.439992025639953, p_value=0.01490318181698322)\n",
      "dm_return(DM=-11.108878508870431, p_value=9.082678269345405e-27)\n",
      "dm_return(DM=-1.6083735955093583, p_value=0.10814693884370515)\n",
      "dm_return(DM=-2.1294978903839015, p_value=0.033517050317876065)\n",
      "dm_return(DM=-2.7751225579398695, p_value=0.00564650532224152)\n",
      "dm_return(DM=-2.6525419651754265, p_value=0.008146729492392901)\n"
     ]
    }
   ],
   "source": [
    "# HS\n",
    "print(DM_test(SG, SG_fw_5_hs, SG_fw_5_garch, len(SG_fw_5_hs)))\n",
    "print(DM_test(SG, SG_fw_5_hs, SG_fw_5_earch, len(SG_fw_5_hs)))\n",
    "print(DM_test(SG, SG_fw_5_hs, SG_fw_5_egarch, len(SG_fw_5_hs)))\n",
    "print(DM_test(SG, SG_fw_5_hs, SG_fw_5_igarch, len(SG_fw_5_hs)))\n",
    "print(DM_test(SG, SG_fw_5_hs, SG_fw_5_figarch, len(SG_fw_5_hs)))\n",
    "print(DM_test(SG, SG_fw_5_hs, SG_fw_5_figarch0633, len(SG_fw_5_hs)))"
   ]
  },
  {
   "cell_type": "code",
   "execution_count": 87,
   "id": "bb7650b6",
   "metadata": {},
   "outputs": [
    {
     "name": "stdout",
     "output_type": "stream",
     "text": [
      "dm_return(DM=-4.3862000106070616, p_value=1.3073242351720654e-05)\n",
      "dm_return(DM=-14.279526604140129, p_value=2.2018188979491933e-41)\n",
      "dm_return(DM=-3.797009857501774, p_value=0.0001575016394857676)\n",
      "dm_return(DM=-3.3129495600297143, p_value=0.000964541788732489)\n",
      "dm_return(DM=-4.722552529300304, p_value=2.7488212089794493e-06)\n",
      "dm_return(DM=-4.600509540199556, p_value=4.896765794157834e-06)\n"
     ]
    }
   ],
   "source": [
    "# BRW\n",
    "print(DM_test(SG, SG_fw_5_brw, SG_fw_5_garch, len(SG_fw_5_brw)))\n",
    "print(DM_test(SG, SG_fw_5_brw, SG_fw_5_earch, len(SG_fw_5_brw)))\n",
    "print(DM_test(SG, SG_fw_5_brw, SG_fw_5_egarch, len(SG_fw_5_brw)))\n",
    "print(DM_test(SG, SG_fw_5_brw, SG_fw_5_igarch, len(SG_fw_5_brw)))\n",
    "print(DM_test(SG, SG_fw_5_brw, SG_fw_5_figarch, len(SG_fw_5_brw)))\n",
    "print(DM_test(SG, SG_fw_5_brw, SG_fw_5_figarch0633, len(SG_fw_5_brw)))"
   ]
  },
  {
   "cell_type": "code",
   "execution_count": 88,
   "id": "420cc6bc",
   "metadata": {},
   "outputs": [
    {
     "name": "stdout",
     "output_type": "stream",
     "text": [
      "dm_return(DM=-0.6685969578455676, p_value=0.5039450009478386)\n",
      "dm_return(DM=6.521852754315724, p_value=1.2283992055420914e-10)\n",
      "dm_return(DM=-0.9189113104513467, p_value=0.358418242457318)\n",
      "dm_return(DM=-2.7330922826697144, p_value=0.006412428335808843)\n",
      "dm_return(DM=-1.3962945869652317, p_value=0.1630121362324885)\n"
     ]
    }
   ],
   "source": [
    "# GARCH\n",
    "print(DM_test(SG, SG_fw_5_garch, SG_fw_5_earch, len(SG_fw_5_garch)))\n",
    "print(DM_test(SG, SG_fw_5_garch, SG_fw_5_egarch, len(SG_fw_5_garch)))\n",
    "print(DM_test(SG, SG_fw_5_garch, SG_fw_5_igarch, len(SG_fw_5_garch)))\n",
    "print(DM_test(SG, SG_fw_5_garch, SG_fw_5_figarch, len(SG_fw_5_garch)))\n",
    "print(DM_test(SG, SG_fw_5_garch, SG_fw_5_figarch0633, len(SG_fw_5_garch)))"
   ]
  },
  {
   "cell_type": "code",
   "execution_count": 89,
   "id": "b8833906",
   "metadata": {},
   "outputs": [
    {
     "name": "stdout",
     "output_type": "stream",
     "text": [
      "dm_return(DM=2.130956285353266, p_value=0.03339631157215439)\n",
      "dm_return(DM=-0.14461413783526852, p_value=0.8850518666993248)\n",
      "dm_return(DM=0.2913137431889268, p_value=0.7708867029249532)\n",
      "dm_return(DM=0.4578831458527365, p_value=0.6471604229256137)\n"
     ]
    }
   ],
   "source": [
    "# EARCH\n",
    "print(DM_test(SG, SG_fw_5_earch, SG_fw_5_egarch, len(SG_fw_5_earch)))\n",
    "print(DM_test(SG, SG_fw_5_earch, SG_fw_5_igarch, len(SG_fw_5_earch)))\n",
    "print(DM_test(SG, SG_fw_5_earch, SG_fw_5_figarch, len(SG_fw_5_earch)))\n",
    "print(DM_test(SG, SG_fw_5_earch, SG_fw_5_figarch0633, len(SG_fw_5_earch)))"
   ]
  },
  {
   "cell_type": "code",
   "execution_count": 90,
   "id": "c764ca28",
   "metadata": {},
   "outputs": [
    {
     "name": "stdout",
     "output_type": "stream",
     "text": [
      "dm_return(DM=-2.0313676274718286, p_value=0.042546992413397)\n",
      "dm_return(DM=-7.708307474053117, p_value=3.771264397664913e-14)\n",
      "dm_return(DM=-6.774455364808455, p_value=2.416285763943673e-11)\n"
     ]
    }
   ],
   "source": [
    "# EGARCH\n",
    "print(DM_test(SG, SG_fw_5_egarch, SG_fw_5_igarch, len(SG_fw_5_egarch)))\n",
    "print(DM_test(SG, SG_fw_5_egarch, SG_fw_5_figarch, len(SG_fw_5_egarch)))\n",
    "print(DM_test(SG, SG_fw_5_egarch, SG_fw_5_figarch0633, len(SG_fw_5_egarch)))"
   ]
  },
  {
   "cell_type": "code",
   "execution_count": 91,
   "id": "9344452d",
   "metadata": {},
   "outputs": [
    {
     "name": "stdout",
     "output_type": "stream",
     "text": [
      "dm_return(DM=0.5639296325848933, p_value=0.5729596766809233)\n",
      "dm_return(DM=0.7494515626648943, p_value=0.45380485132789694)\n"
     ]
    }
   ],
   "source": [
    "# IGARCH\n",
    "print(DM_test(SG, SG_fw_5_igarch, SG_fw_5_figarch,  len(SG_fw_5_igarch)))\n",
    "print(DM_test(SG, SG_fw_5_igarch, SG_fw_5_figarch0633, len(SG_fw_5_igarch)))"
   ]
  },
  {
   "cell_type": "code",
   "execution_count": 92,
   "id": "489a1297",
   "metadata": {},
   "outputs": [
    {
     "name": "stdout",
     "output_type": "stream",
     "text": [
      "dm_return(DM=3.1838228672435247, p_value=0.0015095430160510417)\n"
     ]
    }
   ],
   "source": [
    "# FIGARCH\n",
    "print(DM_test(SG, SG_fw_5_figarch, SG_fw_5_figarch0633, len(SG_fw_5_figarch)))"
   ]
  },
  {
   "cell_type": "markdown",
   "id": "63bcd295",
   "metadata": {},
   "source": [
    "# Rolling Window"
   ]
  },
  {
   "cell_type": "markdown",
   "id": "a1e66dba",
   "metadata": {},
   "source": [
    "## 0.01 %"
   ]
  },
  {
   "cell_type": "code",
   "execution_count": 93,
   "id": "5cdb2c58",
   "metadata": {},
   "outputs": [],
   "source": [
    "SG_rw_01_dn = pd.read_csv('https://raw.githubusercontent.com/raphaelyt/thesis199.11/main/data/csv/DN/0.01%25/SG_VaR_RW-DN-0.01%25.csv')\n",
    "SG_rw_01_hs = pd.read_csv('https://raw.githubusercontent.com/raphaelyt/thesis199.11/main/data/csv/HS/0.01%25/SG_VaR_RW-HS-0.01%25.csv')\n",
    "SG_rw_01_brw = pd.read_csv('https://raw.githubusercontent.com/raphaelyt/thesis199.11/main/data/csv/BRW/0.01%25/SG_VaR_RW-BRW-0.01%25.csv')\n",
    "SG_rw_01_garch = pd.read_csv('https://raw.githubusercontent.com/raphaelyt/thesis199.11/main/data/csv/GARCH/0.01%25/SG_VaR_RW-G-0.01%25.csv')\n",
    "SG_rw_01_earch = pd.read_csv('https://raw.githubusercontent.com/raphaelyt/thesis199.11/main/data/csv/EARCH/0.01%25/SG_VaR_RW-EA-0.01%25.csv')\n",
    "SG_rw_01_egarch = pd.read_csv('https://raw.githubusercontent.com/raphaelyt/thesis199.11/main/data/csv/EGARCH/0.01%25/SG_VaR_RW-E-0.01%25.csv')\n",
    "SG_rw_01_igarch = pd.read_csv('https://raw.githubusercontent.com/raphaelyt/thesis199.11/main/data/csv/IGARCH/IGARCH-0.01%25-RW/SG_RW-I-0.01%25.csv')\n",
    "SG_rw_01_figarch = pd.read_csv('https://raw.githubusercontent.com/raphaelyt/thesis199.11/main/data/csv/FIGARCH/FIGARCH-0.01%25-RW/SG_RW-FI-0.01%25.csv')\n",
    "SG_rw_01_figarch0633 = pd.read_csv('https://raw.githubusercontent.com/raphaelyt/thesis199.11/main/data/csv/FIGARCH0.633/FIGARCH0.633-0.01%25-RW/SG_RW-FI0.633-0.01%25.csv')"
   ]
  },
  {
   "cell_type": "code",
   "execution_count": 94,
   "id": "78f3c04f",
   "metadata": {},
   "outputs": [
    {
     "name": "stdout",
     "output_type": "stream",
     "text": [
      "dm_return(DM=2.300704913118407, p_value=0.021664063540607535)\n",
      "dm_return(DM=5.4524798556546425, p_value=6.617400550068555e-08)\n",
      "dm_return(DM=3.9053149789282835, p_value=0.00010202385349820028)\n",
      "dm_return(DM=1.1845770865786838, p_value=0.23653562368437814)\n",
      "dm_return(DM=1.974818215710921, p_value=0.04863138400580271)\n",
      "dm_return(DM=2.2638059017101106, p_value=0.02385243440003817)\n"
     ]
    }
   ],
   "source": [
    "# DN\n",
    "print(DM_test(SG, SG_rw_01_dn, SG_rw_01_garch, len(SG_rw_01_dn)))\n",
    "print(DM_test(SG, SG_rw_01_dn, SG_rw_01_earch, len(SG_rw_01_dn)))\n",
    "print(DM_test(SG, SG_rw_01_dn, SG_rw_01_egarch, len(SG_rw_01_dn)))\n",
    "print(DM_test(SG, SG_rw_01_dn, SG_rw_01_igarch, len(SG_rw_01_dn)))\n",
    "print(DM_test(SG, SG_rw_01_dn, SG_rw_01_figarch, len(SG_rw_01_dn)))\n",
    "print(DM_test(SG, SG_rw_01_dn, SG_rw_01_figarch0633, len(SG_rw_01_dn)))"
   ]
  },
  {
   "cell_type": "code",
   "execution_count": 95,
   "id": "3259f594",
   "metadata": {
    "scrolled": true
   },
   "outputs": [
    {
     "name": "stdout",
     "output_type": "stream",
     "text": [
      "dm_return(DM=43.21321357080465, p_value=1.2891569121876108e-211)\n",
      "dm_return(DM=115.79099780819979, p_value=0.0)\n",
      "dm_return(DM=50.13795022231656, p_value=2.1229426041363515e-249)\n",
      "dm_return(DM=30.74045039833181, p_value=9.991332139839e-138)\n",
      "dm_return(DM=42.64152707157704, p_value=2.2079918941439366e-208)\n",
      "dm_return(DM=44.91940334936369, p_value=3.643097399573297e-221)\n"
     ]
    }
   ],
   "source": [
    "# HS\n",
    "print(DM_test(SG, SG_rw_01_hs, SG_rw_01_garch, len(SG_rw_01_hs)))\n",
    "print(DM_test(SG, SG_rw_01_hs, SG_rw_01_earch, len(SG_rw_01_hs)))\n",
    "print(DM_test(SG, SG_rw_01_hs, SG_rw_01_egarch, len(SG_rw_01_hs)))\n",
    "print(DM_test(SG, SG_rw_01_hs, SG_rw_01_igarch, len(SG_rw_01_hs)))\n",
    "print(DM_test(SG, SG_rw_01_hs, SG_rw_01_figarch, len(SG_rw_01_hs)))\n",
    "print(DM_test(SG, SG_rw_01_hs, SG_rw_01_figarch0633, len(SG_rw_01_hs)))"
   ]
  },
  {
   "cell_type": "code",
   "execution_count": 96,
   "id": "585759d5",
   "metadata": {},
   "outputs": [
    {
     "name": "stdout",
     "output_type": "stream",
     "text": [
      "dm_return(DM=7.1299498067818385, p_value=2.242498742214341e-12)\n",
      "dm_return(DM=10.904239688530268, p_value=6.530052825960898e-26)\n",
      "dm_return(DM=9.069368877527259, p_value=9.056321815824643e-19)\n",
      "dm_return(DM=4.699424030784283, p_value=3.069785746486909e-06)\n",
      "dm_return(DM=6.823687026806921, p_value=1.7492402350778395e-11)\n",
      "dm_return(DM=7.329501808129743, p_value=5.645213036433455e-13)\n"
     ]
    }
   ],
   "source": [
    "# BRW\n",
    "print(DM_test(SG, SG_rw_01_brw, SG_rw_01_garch, len(SG_rw_01_brw)))\n",
    "print(DM_test(SG, SG_rw_01_brw, SG_rw_01_earch, len(SG_rw_01_brw)))\n",
    "print(DM_test(SG, SG_rw_01_brw, SG_rw_01_egarch, len(SG_rw_01_brw)))\n",
    "print(DM_test(SG, SG_rw_01_brw, SG_rw_01_igarch, len(SG_rw_01_brw)))\n",
    "print(DM_test(SG, SG_rw_01_brw, SG_rw_01_figarch, len(SG_rw_01_brw)))\n",
    "print(DM_test(SG, SG_rw_01_brw, SG_rw_01_figarch0633, len(SG_rw_01_brw)))"
   ]
  },
  {
   "cell_type": "code",
   "execution_count": 97,
   "id": "1e96df22",
   "metadata": {},
   "outputs": [
    {
     "name": "stdout",
     "output_type": "stream",
     "text": [
      "dm_return(DM=-1.0352644343849382, p_value=0.30085748737894263)\n",
      "dm_return(DM=6.6683531790790145, p_value=4.8146736294725195e-11)\n",
      "dm_return(DM=-0.7919002841103172, p_value=0.4286529769608838)\n",
      "dm_return(DM=-3.089657204777975, p_value=0.0020730451236334268)\n",
      "dm_return(DM=-1.3033208500941067, p_value=0.1928392741793069)\n"
     ]
    }
   ],
   "source": [
    "# GARCH\n",
    "print(DM_test(SG, SG_rw_01_garch, SG_rw_01_earch, len(SG_rw_01_garch)))\n",
    "print(DM_test(SG, SG_rw_01_garch, SG_rw_01_egarch, len(SG_rw_01_garch)))\n",
    "print(DM_test(SG, SG_rw_01_garch, SG_rw_01_igarch, len(SG_rw_01_garch)))\n",
    "print(DM_test(SG, SG_rw_01_garch, SG_rw_01_figarch, len(SG_rw_01_garch)))\n",
    "print(DM_test(SG, SG_rw_01_garch, SG_rw_01_figarch0633, len(SG_rw_01_garch)))"
   ]
  },
  {
   "cell_type": "code",
   "execution_count": 98,
   "id": "dad26e87",
   "metadata": {},
   "outputs": [
    {
     "name": "stdout",
     "output_type": "stream",
     "text": [
      "dm_return(DM=2.6282795140178803, p_value=0.008745919448573542)\n",
      "dm_return(DM=0.25899576929098767, p_value=0.7957049643523283)\n",
      "dm_return(DM=0.6869044007792556, p_value=0.49234153839943096)\n",
      "dm_return(DM=0.9189336898704407, p_value=0.3584065432002902)\n"
     ]
    }
   ],
   "source": [
    "# EARCH\n",
    "print(DM_test(SG, SG_rw_01_earch, SG_rw_01_egarch, len(SG_rw_01_earch)))\n",
    "print(DM_test(SG, SG_rw_01_earch, SG_rw_01_igarch, len(SG_rw_01_earch)))\n",
    "print(DM_test(SG, SG_rw_01_earch, SG_rw_01_figarch, len(SG_rw_01_earch)))\n",
    "print(DM_test(SG, SG_rw_01_earch, SG_rw_01_figarch0633, len(SG_rw_01_earch)))"
   ]
  },
  {
   "cell_type": "code",
   "execution_count": 99,
   "id": "c802b963",
   "metadata": {},
   "outputs": [
    {
     "name": "stdout",
     "output_type": "stream",
     "text": [
      "dm_return(DM=-2.0793397637147506, p_value=0.037903336704102654)\n",
      "dm_return(DM=-7.783974307271751, p_value=2.166898383810682e-14)\n",
      "dm_return(DM=-8.419591261661772, p_value=1.7308009646757494e-16)\n"
     ]
    }
   ],
   "source": [
    "# EGARCH\n",
    "print(DM_test(SG, SG_rw_01_egarch, SG_rw_01_igarch, len(SG_rw_01_egarch)))\n",
    "print(DM_test(SG, SG_rw_01_egarch, SG_rw_01_figarch, len(SG_rw_01_egarch)))\n",
    "print(DM_test(SG, SG_rw_01_egarch, SG_rw_01_figarch0633, len(SG_rw_01_egarch)))"
   ]
  },
  {
   "cell_type": "code",
   "execution_count": 100,
   "id": "293bff55",
   "metadata": {},
   "outputs": [
    {
     "name": "stdout",
     "output_type": "stream",
     "text": [
      "dm_return(DM=0.40736333238228034, p_value=0.6838498597885011)\n",
      "dm_return(DM=0.5756212363716647, p_value=0.5650326936881976)\n"
     ]
    }
   ],
   "source": [
    "# IGARCH\n",
    "print(DM_test(SG, SG_rw_01_igarch, SG_rw_01_figarch,  len(SG_rw_01_igarch)))\n",
    "print(DM_test(SG, SG_rw_01_igarch, SG_rw_01_figarch0633, len(SG_rw_01_igarch)))"
   ]
  },
  {
   "cell_type": "code",
   "execution_count": 101,
   "id": "09e465e7",
   "metadata": {},
   "outputs": [
    {
     "name": "stdout",
     "output_type": "stream",
     "text": [
      "dm_return(DM=1.8117375096386978, p_value=0.07040068917849095)\n"
     ]
    }
   ],
   "source": [
    "# FIGARCH\n",
    "print(DM_test(SG, SG_rw_01_figarch, SG_rw_01_figarch0633, len(SG_rw_01_figarch)))"
   ]
  },
  {
   "cell_type": "markdown",
   "id": "4f543b85",
   "metadata": {},
   "source": [
    "## 1.00 %"
   ]
  },
  {
   "cell_type": "code",
   "execution_count": 102,
   "id": "2c5b0da3",
   "metadata": {},
   "outputs": [],
   "source": [
    "SG_rw_1_dn = pd.read_csv('https://raw.githubusercontent.com/raphaelyt/thesis199.11/main/data/csv/DN/1%25/SG_VaR_RW-DN-1%25.csv')\n",
    "SG_rw_1_hs = pd.read_csv('https://raw.githubusercontent.com/raphaelyt/thesis199.11/main/data/csv/HS/1%25/SG_VaR_RW-HS-1%25.csv')\n",
    "SG_rw_1_brw = pd.read_csv('https://raw.githubusercontent.com/raphaelyt/thesis199.11/main/data/csv/BRW/1%25/SG_VaR_RW-BRW-1%25.csv')\n",
    "SG_rw_1_garch = pd.read_csv('https://raw.githubusercontent.com/raphaelyt/thesis199.11/main/data/csv/GARCH/1%25/SG_VaR_RW-G-1%25.csv')\n",
    "SG_rw_1_earch = pd.read_csv('https://raw.githubusercontent.com/raphaelyt/thesis199.11/main/data/csv/EARCH/1%25/SG_VaR_RW-EA-1%25.csv')\n",
    "SG_rw_1_egarch = pd.read_csv('https://raw.githubusercontent.com/raphaelyt/thesis199.11/main/data/csv/EGARCH/1%25/SG_VaR_RW-E-1%25.csv')\n",
    "SG_rw_1_igarch = pd.read_csv('https://raw.githubusercontent.com/raphaelyt/thesis199.11/main/data/csv/IGARCH/IGARCH-1%25-RW/SG_RW-I-1%25.csv')\n",
    "SG_rw_1_figarch = pd.read_csv('https://raw.githubusercontent.com/raphaelyt/thesis199.11/main/data/csv/FIGARCH/FIGARCH-1%25-RW/SG_RW-FI-1%25.csv')\n",
    "SG_rw_1_figarch0633 = pd.read_csv('https://raw.githubusercontent.com/raphaelyt/thesis199.11/main/data/csv/FIGARCH0.633/FIGARCH0.633-1%25-RW/SG_RW-FI0.633-1%25.csv')"
   ]
  },
  {
   "cell_type": "code",
   "execution_count": 103,
   "id": "3d58077b",
   "metadata": {},
   "outputs": [
    {
     "name": "stdout",
     "output_type": "stream",
     "text": [
      "dm_return(DM=2.325793190571685, p_value=0.020278077879158418)\n",
      "dm_return(DM=5.339123691038378, p_value=1.2169746605730528e-07)\n",
      "dm_return(DM=3.912977875244339, p_value=9.889768655513909e-05)\n",
      "dm_return(DM=1.153445834316657, p_value=0.24907107056839178)\n",
      "dm_return(DM=1.9963819046595273, p_value=0.04623001661046777)\n",
      "dm_return(DM=2.2883906064681585, p_value=0.022374086598821775)\n"
     ]
    }
   ],
   "source": [
    "# DN\n",
    "print(DM_test(SG, SG_rw_1_dn, SG_rw_1_garch, len(SG_rw_1_dn)))\n",
    "print(DM_test(SG, SG_rw_1_dn, SG_rw_1_earch, len(SG_rw_1_dn)))\n",
    "print(DM_test(SG, SG_rw_1_dn, SG_rw_1_egarch, len(SG_rw_1_dn)))\n",
    "print(DM_test(SG, SG_rw_1_dn, SG_rw_1_igarch, len(SG_rw_1_dn)))\n",
    "print(DM_test(SG, SG_rw_1_dn, SG_rw_1_figarch, len(SG_rw_1_dn)))\n",
    "print(DM_test(SG, SG_rw_1_dn, SG_rw_1_figarch0633, len(SG_rw_1_dn)))"
   ]
  },
  {
   "cell_type": "code",
   "execution_count": 104,
   "id": "55affb57",
   "metadata": {},
   "outputs": [
    {
     "name": "stdout",
     "output_type": "stream",
     "text": [
      "dm_return(DM=10.315369294623856, p_value=1.6401174952536586e-23)\n",
      "dm_return(DM=32.14493207438005, p_value=2.522003962513647e-146)\n",
      "dm_return(DM=12.994194155257881, p_value=3.573512739716713e-35)\n",
      "dm_return(DM=6.747738926411004, p_value=2.876877942802823e-11)\n",
      "dm_return(DM=9.939105527760598, p_value=4.966893508909072e-22)\n",
      "dm_return(DM=10.668502509523293, p_value=6.129638086228242e-25)\n"
     ]
    }
   ],
   "source": [
    "# HS\n",
    "print(DM_test(SG, SG_rw_1_hs, SG_rw_1_garch, len(SG_rw_1_hs)))\n",
    "print(DM_test(SG, SG_rw_1_hs, SG_rw_1_earch, len(SG_rw_1_hs)))\n",
    "print(DM_test(SG, SG_rw_1_hs, SG_rw_1_egarch, len(SG_rw_1_hs)))\n",
    "print(DM_test(SG, SG_rw_1_hs, SG_rw_1_igarch, len(SG_rw_1_hs)))\n",
    "print(DM_test(SG, SG_rw_1_hs, SG_rw_1_figarch, len(SG_rw_1_hs)))\n",
    "print(DM_test(SG, SG_rw_1_hs, SG_rw_1_figarch0633, len(SG_rw_1_hs)))"
   ]
  },
  {
   "cell_type": "code",
   "execution_count": 105,
   "id": "d00409f2",
   "metadata": {},
   "outputs": [
    {
     "name": "stdout",
     "output_type": "stream",
     "text": [
      "dm_return(DM=8.100501465134286, p_value=2.033049555578639e-15)\n",
      "dm_return(DM=8.330617960105771, p_value=3.4670368206984995e-16)\n",
      "dm_return(DM=9.967777966236381, p_value=3.8430817078460666e-22)\n",
      "dm_return(DM=4.80931372705121, p_value=1.8088480990482525e-06)\n",
      "dm_return(DM=7.700537618053752, p_value=3.991052477808711e-14)\n",
      "dm_return(DM=8.37678326719064, p_value=2.4195549361066046e-16)\n"
     ]
    }
   ],
   "source": [
    "# BRW\n",
    "print(DM_test(SG, SG_rw_1_brw, SG_rw_1_garch, len(SG_rw_1_brw)))\n",
    "print(DM_test(SG, SG_rw_1_brw, SG_rw_1_earch, len(SG_rw_1_brw)))\n",
    "print(DM_test(SG, SG_rw_1_brw, SG_rw_1_egarch, len(SG_rw_1_brw)))\n",
    "print(DM_test(SG, SG_rw_1_brw, SG_rw_1_igarch, len(SG_rw_1_brw)))\n",
    "print(DM_test(SG, SG_rw_1_brw, SG_rw_1_figarch, len(SG_rw_1_brw)))\n",
    "print(DM_test(SG, SG_rw_1_brw, SG_rw_1_figarch0633, len(SG_rw_1_brw)))"
   ]
  },
  {
   "cell_type": "code",
   "execution_count": 106,
   "id": "df73232e",
   "metadata": {},
   "outputs": [
    {
     "name": "stdout",
     "output_type": "stream",
     "text": [
      "dm_return(DM=-1.078799404246468, p_value=0.28100150450162437)\n",
      "dm_return(DM=6.661294959117553, p_value=5.0389704896834355e-11)\n",
      "dm_return(DM=-0.8649171475050978, p_value=0.3873428938575093)\n",
      "dm_return(DM=-3.137132106776064, p_value=0.001768418055592406)\n",
      "dm_return(DM=-1.3385401084192323, p_value=0.18109975407932222)\n"
     ]
    }
   ],
   "source": [
    "# GARCH\n",
    "print(DM_test(SG, SG_rw_1_garch, SG_rw_1_earch, len(SG_rw_1_garch)))\n",
    "print(DM_test(SG, SG_rw_1_garch, SG_rw_1_egarch, len(SG_rw_1_garch)))\n",
    "print(DM_test(SG, SG_rw_1_garch, SG_rw_1_igarch, len(SG_rw_1_garch)))\n",
    "print(DM_test(SG, SG_rw_1_garch, SG_rw_1_figarch, len(SG_rw_1_garch)))\n",
    "print(DM_test(SG, SG_rw_1_garch, SG_rw_1_figarch0633, len(SG_rw_1_garch)))"
   ]
  },
  {
   "cell_type": "code",
   "execution_count": 107,
   "id": "689de2f2",
   "metadata": {},
   "outputs": [
    {
     "name": "stdout",
     "output_type": "stream",
     "text": [
      "dm_return(DM=2.6719654125991403, p_value=0.007693862588970247)\n",
      "dm_return(DM=0.23906100920196308, p_value=0.8111193513729121)\n",
      "dm_return(DM=0.7242001530727984, p_value=0.46915406286550343)\n",
      "dm_return(DM=0.9602455101188739, p_value=0.33722106841046895)\n"
     ]
    }
   ],
   "source": [
    "# EARCH\n",
    "print(DM_test(SG, SG_rw_1_earch, SG_rw_1_egarch, len(SG_rw_1_earch)))\n",
    "print(DM_test(SG, SG_rw_1_earch, SG_rw_1_igarch, len(SG_rw_1_earch)))\n",
    "print(DM_test(SG, SG_rw_1_earch, SG_rw_1_figarch, len(SG_rw_1_earch)))\n",
    "print(DM_test(SG, SG_rw_1_earch, SG_rw_1_figarch0633, len(SG_rw_1_earch)))"
   ]
  },
  {
   "cell_type": "code",
   "execution_count": 108,
   "id": "18a9f83c",
   "metadata": {},
   "outputs": [
    {
     "name": "stdout",
     "output_type": "stream",
     "text": [
      "dm_return(DM=-2.135658527398848, p_value=0.03300955430143078)\n",
      "dm_return(DM=-7.82310069918174, p_value=1.6241941827385672e-14)\n",
      "dm_return(DM=-8.464733923628339, p_value=1.2138715678284338e-16)\n"
     ]
    }
   ],
   "source": [
    "# EGARCH\n",
    "print(DM_test(SG, SG_rw_1_egarch, SG_rw_1_igarch, len(SG_rw_1_egarch)))\n",
    "print(DM_test(SG, SG_rw_1_egarch, SG_rw_1_figarch, len(SG_rw_1_egarch)))\n",
    "print(DM_test(SG, SG_rw_1_egarch, SG_rw_1_figarch0633, len(SG_rw_1_egarch)))"
   ]
  },
  {
   "cell_type": "code",
   "execution_count": 109,
   "id": "30608fa5",
   "metadata": {},
   "outputs": [
    {
     "name": "stdout",
     "output_type": "stream",
     "text": [
      "dm_return(DM=0.4798241365039791, p_value=0.6314832759119078)\n",
      "dm_return(DM=0.6397223248189909, p_value=0.5225358314478474)\n"
     ]
    }
   ],
   "source": [
    "# IGARCH\n",
    "print(DM_test(SG, SG_rw_1_igarch, SG_rw_1_figarch,  len(SG_rw_1_igarch)))\n",
    "print(DM_test(SG, SG_rw_1_igarch, SG_rw_1_figarch0633, len(SG_rw_1_igarch)))"
   ]
  },
  {
   "cell_type": "code",
   "execution_count": 110,
   "id": "5633961d",
   "metadata": {},
   "outputs": [
    {
     "name": "stdout",
     "output_type": "stream",
     "text": [
      "dm_return(DM=1.8015796161371571, p_value=0.07198703217941273)\n"
     ]
    }
   ],
   "source": [
    "# FIGARCH\n",
    "print(DM_test(SG, SG_rw_1_figarch, SG_rw_1_figarch0633, len(SG_rw_1_figarch)))"
   ]
  },
  {
   "cell_type": "markdown",
   "id": "6660bba5",
   "metadata": {},
   "source": [
    "## 5.00 %"
   ]
  },
  {
   "cell_type": "code",
   "execution_count": 111,
   "id": "95a0d715",
   "metadata": {},
   "outputs": [],
   "source": [
    "SG_rw_5_dn = pd.read_csv('https://raw.githubusercontent.com/raphaelyt/thesis199.11/main/data/csv/DN/5%25/SG_VaR_RW-DN-5%25.csv')\n",
    "SG_rw_5_hs = pd.read_csv('https://raw.githubusercontent.com/raphaelyt/thesis199.11/main/data/csv/HS/5%25/SG_VaR_RW-HS-5%25.csv')\n",
    "SG_rw_5_brw = pd.read_csv('https://raw.githubusercontent.com/raphaelyt/thesis199.11/main/data/csv/BRW/5%25/SG_VaR_RW-BRW-5%25.csv')\n",
    "SG_rw_5_garch = pd.read_csv('https://raw.githubusercontent.com/raphaelyt/thesis199.11/main/data/csv/GARCH/5%25/SG_VaR_RW-G-5%25.csv')\n",
    "SG_rw_5_earch = pd.read_csv('https://raw.githubusercontent.com/raphaelyt/thesis199.11/main/data/csv/EARCH/5%25/SG_VaR_RW-EA-5%25.csv')\n",
    "SG_rw_5_egarch = pd.read_csv('https://raw.githubusercontent.com/raphaelyt/thesis199.11/main/data/csv/EGARCH/5%25/SG_VaR_RW-E-5%25.csv')\n",
    "SG_rw_5_igarch = pd.read_csv('https://raw.githubusercontent.com/raphaelyt/thesis199.11/main/data/csv/IGARCH/IGARCH-5%25-RW/SG_RW-I-5%25.csv')\n",
    "SG_rw_5_figarch = pd.read_csv('https://raw.githubusercontent.com/raphaelyt/thesis199.11/main/data/csv/FIGARCH/FIGARCH-5%25-RW/SG_RW-FI-5%25.csv')\n",
    "SG_rw_5_figarch0633 = pd.read_csv('https://raw.githubusercontent.com/raphaelyt/thesis199.11/main/data/csv/FIGARCH0.633/FIGARCH0.633-5%25-RW/SG_RW-FI0.633-5%25.csv')"
   ]
  },
  {
   "cell_type": "code",
   "execution_count": 112,
   "id": "208d5fe3",
   "metadata": {},
   "outputs": [
    {
     "name": "stdout",
     "output_type": "stream",
     "text": [
      "dm_return(DM=2.3362707414537596, p_value=0.01972259470173544)\n",
      "dm_return(DM=5.167698357140767, p_value=2.9936628592356776e-07)\n",
      "dm_return(DM=3.8860769193587585, p_value=0.00011028911466200968)\n",
      "dm_return(DM=1.1136369524385183, p_value=0.26576861370584015)\n",
      "dm_return(DM=2.005799261140184, p_value=0.045213102969727505)\n",
      "dm_return(DM=2.297481909608737, p_value=0.021847972211995224)\n"
     ]
    }
   ],
   "source": [
    "# DN\n",
    "print(DM_test(SG, SG_rw_5_dn, SG_rw_5_garch, len(SG_rw_5_dn)))\n",
    "print(DM_test(SG, SG_rw_5_dn, SG_rw_5_earch, len(SG_rw_5_dn)))\n",
    "print(DM_test(SG, SG_rw_5_dn, SG_rw_5_egarch, len(SG_rw_5_dn)))\n",
    "print(DM_test(SG, SG_rw_5_dn, SG_rw_5_igarch, len(SG_rw_5_dn)))\n",
    "print(DM_test(SG, SG_rw_5_dn, SG_rw_5_figarch, len(SG_rw_5_dn)))\n",
    "print(DM_test(SG, SG_rw_5_dn, SG_rw_5_figarch0633, len(SG_rw_5_dn)))"
   ]
  },
  {
   "cell_type": "code",
   "execution_count": 113,
   "id": "5b24c73e",
   "metadata": {},
   "outputs": [
    {
     "name": "stdout",
     "output_type": "stream",
     "text": [
      "dm_return(DM=-1.9043563340882064, p_value=0.05722135944765169)\n",
      "dm_return(DM=-11.153460442599853, p_value=5.889201382094409e-27)\n",
      "dm_return(DM=-0.9603278528131396, p_value=0.3371796634080795)\n",
      "dm_return(DM=-1.7968197913355035, p_value=0.07274039657282137)\n",
      "dm_return(DM=-2.2068948907407826, p_value=0.027603988789978873)\n",
      "dm_return(DM=-2.1632907658232137, p_value=0.030813570031118898)\n"
     ]
    }
   ],
   "source": [
    "# HS\n",
    "print(DM_test(SG, SG_rw_5_hs, SG_rw_5_garch, len(SG_rw_5_hs)))\n",
    "print(DM_test(SG, SG_rw_5_hs, SG_rw_5_earch, len(SG_rw_5_hs)))\n",
    "print(DM_test(SG, SG_rw_5_hs, SG_rw_5_egarch, len(SG_rw_5_hs)))\n",
    "print(DM_test(SG, SG_rw_5_hs, SG_rw_5_igarch, len(SG_rw_5_hs)))\n",
    "print(DM_test(SG, SG_rw_5_hs, SG_rw_5_figarch, len(SG_rw_5_hs)))\n",
    "print(DM_test(SG, SG_rw_5_hs, SG_rw_5_figarch0633, len(SG_rw_5_hs)))"
   ]
  },
  {
   "cell_type": "code",
   "execution_count": 114,
   "id": "09a6a930",
   "metadata": {},
   "outputs": [
    {
     "name": "stdout",
     "output_type": "stream",
     "text": [
      "dm_return(DM=-4.5173807139201525, p_value=7.201717015390217e-06)\n",
      "dm_return(DM=-16.35102007606562, p_value=4.4159746032216355e-52)\n",
      "dm_return(DM=-3.9221552889505973, p_value=9.52728689593079e-05)\n",
      "dm_return(DM=-3.4746186245198665, p_value=0.0005390325494425054)\n",
      "dm_return(DM=-4.804595045666196, p_value=1.8508055084648604e-06)\n",
      "dm_return(DM=-4.948968289484491, p_value=9.095127484892449e-07)\n"
     ]
    }
   ],
   "source": [
    "# BRW\n",
    "print(DM_test(SG, SG_rw_5_brw, SG_rw_5_garch, len(SG_rw_5_brw)))\n",
    "print(DM_test(SG, SG_rw_5_brw, SG_rw_5_earch, len(SG_rw_5_brw)))\n",
    "print(DM_test(SG, SG_rw_5_brw, SG_rw_5_egarch, len(SG_rw_5_brw)))\n",
    "print(DM_test(SG, SG_rw_5_brw, SG_rw_5_igarch, len(SG_rw_5_brw)))\n",
    "print(DM_test(SG, SG_rw_5_brw, SG_rw_5_figarch, len(SG_rw_5_brw)))\n",
    "print(DM_test(SG, SG_rw_5_brw, SG_rw_5_figarch0633, len(SG_rw_5_brw)))"
   ]
  },
  {
   "cell_type": "code",
   "execution_count": 115,
   "id": "f761f7a2",
   "metadata": {},
   "outputs": [
    {
     "name": "stdout",
     "output_type": "stream",
     "text": [
      "dm_return(DM=-1.120421950775595, p_value=0.262869394177642)\n",
      "dm_return(DM=6.6292562069746275, p_value=6.192691769322058e-11)\n",
      "dm_return(DM=-0.9417258074226227, p_value=0.34661660893067625)\n",
      "dm_return(DM=-3.1770443863417674, p_value=0.0015448190919892576)\n",
      "dm_return(DM=-1.3714825529119001, p_value=0.17060815590500636)\n"
     ]
    }
   ],
   "source": [
    "# GARCH\n",
    "print(DM_test(SG, SG_rw_5_garch, SG_rw_5_earch, len(SG_rw_5_garch)))\n",
    "print(DM_test(SG, SG_rw_5_garch, SG_rw_5_egarch, len(SG_rw_5_garch)))\n",
    "print(DM_test(SG, SG_rw_5_garch, SG_rw_5_igarch, len(SG_rw_5_garch)))\n",
    "print(DM_test(SG, SG_rw_5_garch, SG_rw_5_figarch, len(SG_rw_5_garch)))\n",
    "print(DM_test(SG, SG_rw_5_garch, SG_rw_5_figarch0633, len(SG_rw_5_garch)))"
   ]
  },
  {
   "cell_type": "code",
   "execution_count": 116,
   "id": "26c90177",
   "metadata": {},
   "outputs": [
    {
     "name": "stdout",
     "output_type": "stream",
     "text": [
      "dm_return(DM=2.700110550160404, p_value=0.0070777186238273945)\n",
      "dm_return(DM=0.21640847644751637, p_value=0.828724391845869)\n",
      "dm_return(DM=0.7611749907270599, p_value=0.4467763007896034)\n",
      "dm_return(DM=0.9999171262201078, p_value=0.31765220565438285)\n"
     ]
    }
   ],
   "source": [
    "# EARCH\n",
    "print(DM_test(SG, SG_rw_5_earch, SG_rw_5_egarch, len(SG_rw_5_earch)))\n",
    "print(DM_test(SG, SG_rw_5_earch, SG_rw_5_igarch, len(SG_rw_5_earch)))\n",
    "print(DM_test(SG, SG_rw_5_earch, SG_rw_5_figarch, len(SG_rw_5_earch)))\n",
    "print(DM_test(SG, SG_rw_5_earch, SG_rw_5_figarch0633, len(SG_rw_5_earch)))"
   ]
  },
  {
   "cell_type": "code",
   "execution_count": 117,
   "id": "ad777037",
   "metadata": {},
   "outputs": [
    {
     "name": "stdout",
     "output_type": "stream",
     "text": [
      "dm_return(DM=-2.1914983021780863, p_value=0.02870266264136473)\n",
      "dm_return(DM=-7.838577351047989, p_value=1.4486742260882123e-14)\n",
      "dm_return(DM=-8.464688871823046, p_value=1.2143023520348484e-16)\n"
     ]
    }
   ],
   "source": [
    "# EGARCH\n",
    "print(DM_test(SG, SG_rw_5_egarch, SG_rw_5_igarch, len(SG_rw_5_egarch)))\n",
    "print(DM_test(SG, SG_rw_5_egarch, SG_rw_5_figarch, len(SG_rw_5_egarch)))\n",
    "print(DM_test(SG, SG_rw_5_egarch, SG_rw_5_figarch0633, len(SG_rw_5_egarch)))"
   ]
  },
  {
   "cell_type": "code",
   "execution_count": 118,
   "id": "1ebbdedd",
   "metadata": {},
   "outputs": [
    {
     "name": "stdout",
     "output_type": "stream",
     "text": [
      "dm_return(DM=0.5569479724208265, p_value=0.5777183618648273)\n",
      "dm_return(DM=0.7076460211431662, p_value=0.47937069088840045)\n"
     ]
    }
   ],
   "source": [
    "# IGARCH\n",
    "print(DM_test(SG, SG_rw_5_igarch, SG_rw_5_figarch,  len(SG_rw_5_igarch)))\n",
    "print(DM_test(SG, SG_rw_5_igarch, SG_rw_5_figarch0633, len(SG_rw_5_igarch)))"
   ]
  },
  {
   "cell_type": "code",
   "execution_count": 119,
   "id": "6849300c",
   "metadata": {},
   "outputs": [
    {
     "name": "stdout",
     "output_type": "stream",
     "text": [
      "dm_return(DM=1.7888250552292988, p_value=0.07402030945186697)\n"
     ]
    }
   ],
   "source": [
    "# FIGARCH\n",
    "print(DM_test(SG, SG_rw_5_figarch, SG_rw_5_figarch0633, len(SG_rw_5_figarch)))"
   ]
  }
 ],
 "metadata": {
  "kernelspec": {
   "display_name": "Python 3",
   "language": "python",
   "name": "python3"
  },
  "language_info": {
   "codemirror_mode": {
    "name": "ipython",
    "version": 3
   },
   "file_extension": ".py",
   "mimetype": "text/x-python",
   "name": "python",
   "nbconvert_exporter": "python",
   "pygments_lexer": "ipython3",
   "version": "3.8.8"
  }
 },
 "nbformat": 4,
 "nbformat_minor": 5
}

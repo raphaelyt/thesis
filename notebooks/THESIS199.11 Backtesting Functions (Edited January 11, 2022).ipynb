{
 "cells": [
  {
   "cell_type": "code",
   "execution_count": 1,
   "id": "5bb48e35",
   "metadata": {},
   "outputs": [
    {
     "ename": "SyntaxError",
     "evalue": "invalid syntax (<ipython-input-1-4bf66d2405bb>, line 3)",
     "output_type": "error",
     "traceback": [
      "\u001b[0;36m  File \u001b[0;32m\"<ipython-input-1-4bf66d2405bb>\"\u001b[0;36m, line \u001b[0;32m3\u001b[0m\n\u001b[0;31m    return = -2*np.log(((1-p)**(observations - N)*p**N)/((1-N/observations)**(observations - N)*(N/observations)**N))\u001b[0m\n\u001b[0m           ^\u001b[0m\n\u001b[0;31mSyntaxError\u001b[0m\u001b[0;31m:\u001b[0m invalid syntax\n"
     ]
    }
   ],
   "source": [
    "def LR_kupiec(N, observations):\n",
    "    p = N/observations\n",
    "    return = -2*np.log(((1-p)**(observations - N)*p**N)/((1-N/observations)**(observations - N)*(N/observations)**N))"
   ]
  },
  {
   "cell_type": "code",
   "execution_count": null,
   "id": "15f22735",
   "metadata": {},
   "outputs": [],
   "source": [
    "def LR_ind():\n",
    "    pass"
   ]
  },
  {
   "cell_type": "code",
   "execution_count": null,
   "id": "948a54e0",
   "metadata": {},
   "outputs": [],
   "source": [
    "n00 = 0\n",
    "n01 = 0\n",
    "n10 = 0\n",
    "n11 = 0\n",
    "violations = df['Violations']\n",
    "v_p = violations[0]\n",
    "i = 1\n",
    "while i < len(violations):\n",
    "    if v_p == violations[i] and v_p == 0:\n",
    "        n00 += 1\n",
    "    elif vp != violations[i] and v_p == 0:\n",
    "        n01 += 1\n",
    "    elif vp != violations[i] and v_p == 1:\n",
    "        n10 += 1\n",
    "    else:\n",
    "        n11 += 1\n",
    "    v_p = violations[i]\n",
    "    i += 1 "
   ]
  },
  {
   "cell_type": "code",
   "execution_count": 16,
   "id": "3573f815",
   "metadata": {},
   "outputs": [
    {
     "data": {
      "text/html": [
       "<div>\n",
       "<style scoped>\n",
       "    .dataframe tbody tr th:only-of-type {\n",
       "        vertical-align: middle;\n",
       "    }\n",
       "\n",
       "    .dataframe tbody tr th {\n",
       "        vertical-align: top;\n",
       "    }\n",
       "\n",
       "    .dataframe thead th {\n",
       "        text-align: right;\n",
       "    }\n",
       "</style>\n",
       "<table border=\"1\" class=\"dataframe\">\n",
       "  <thead>\n",
       "    <tr style=\"text-align: right;\">\n",
       "      <th></th>\n",
       "      <th>PnL</th>\n",
       "      <th>VaR</th>\n",
       "      <th>Violations</th>\n",
       "    </tr>\n",
       "  </thead>\n",
       "  <tbody>\n",
       "    <tr>\n",
       "      <th>0</th>\n",
       "      <td>-889.003707</td>\n",
       "      <td>-2554.503872</td>\n",
       "      <td>1.0</td>\n",
       "    </tr>\n",
       "    <tr>\n",
       "      <th>1</th>\n",
       "      <td>-2554.503872</td>\n",
       "      <td>-2202.221691</td>\n",
       "      <td>0.0</td>\n",
       "    </tr>\n",
       "    <tr>\n",
       "      <th>2</th>\n",
       "      <td>-887.527423</td>\n",
       "      <td>-2193.692570</td>\n",
       "      <td>1.0</td>\n",
       "    </tr>\n",
       "    <tr>\n",
       "      <th>3</th>\n",
       "      <td>-274.344126</td>\n",
       "      <td>-2160.290746</td>\n",
       "      <td>0.0</td>\n",
       "    </tr>\n",
       "  </tbody>\n",
       "</table>\n",
       "</div>"
      ],
      "text/plain": [
       "           PnL          VaR  Violations\n",
       "0  -889.003707 -2554.503872         1.0\n",
       "1 -2554.503872 -2202.221691         0.0\n",
       "2  -887.527423 -2193.692570         1.0\n",
       "3  -274.344126 -2160.290746         0.0"
      ]
     },
     "execution_count": 16,
     "metadata": {},
     "output_type": "execute_result"
    }
   ],
   "source": [
    "import pandas as pd\n",
    "import numpy as np\n",
    "df = pd.DataFrame(np.array([[-889.003707, -2554.503872, 1], [-2554.503872, -2202.221691, 0], [-887.527423, -2193.69257, 1], [-274.344126, -2160.290746, 0]]),  columns = ['PnL', 'VaR', 'Violations'])\n",
    "violations = df['Violations']\n",
    "df"
   ]
  },
  {
   "cell_type": "code",
   "execution_count": 15,
   "id": "a145d111",
   "metadata": {},
   "outputs": [
    {
     "name": "stdout",
     "output_type": "stream",
     "text": [
      "Failure rate of 50.0%\n"
     ]
    },
    {
     "data": {
      "text/plain": [
       "0.5"
      ]
     },
     "execution_count": 15,
     "metadata": {},
     "output_type": "execute_result"
    }
   ],
   "source": [
    "import vartests\n",
    "\n",
    "vartests.failure_rate(violations)"
   ]
  },
  {
   "cell_type": "code",
   "execution_count": null,
   "id": "fadcf169",
   "metadata": {},
   "outputs": [],
   "source": []
  }
 ],
 "metadata": {
  "kernelspec": {
   "display_name": "Python 3",
   "language": "python",
   "name": "python3"
  },
  "language_info": {
   "codemirror_mode": {
    "name": "ipython",
    "version": 3
   },
   "file_extension": ".py",
   "mimetype": "text/x-python",
   "name": "python",
   "nbconvert_exporter": "python",
   "pygments_lexer": "ipython3",
   "version": "3.8.8"
  }
 },
 "nbformat": 4,
 "nbformat_minor": 5
}
